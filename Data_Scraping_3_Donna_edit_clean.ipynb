{
  "nbformat": 4,
  "nbformat_minor": 0,
  "metadata": {
    "colab": {
      "name": "Data Scraping-3.ipynb",
      "provenance": [],
      "toc_visible": true,
      "include_colab_link": true
    },
    "kernelspec": {
      "name": "python3",
      "display_name": "Python 3"
    },
    "language_info": {
      "name": "python"
    }
  },
  "cells": [
    {
      "cell_type": "markdown",
      "metadata": {
        "id": "view-in-github",
        "colab_type": "text"
      },
      "source": [
        "<a href=\"https://colab.research.google.com/github/dli10/college-rankings-forbes-2019/blob/main/Data_Scraping_3_Donna_edit_clean.ipynb\" target=\"_parent\"><img src=\"https://colab.research.google.com/assets/colab-badge.svg\" alt=\"Open In Colab\"/></a>"
      ]
    },
    {
      "cell_type": "markdown",
      "source": [
        "# Load packages and set options"
      ],
      "metadata": {
        "id": "m-xp1SWw5N_0"
      }
    },
    {
      "cell_type": "code",
      "source": [
        "from selenium import webdriver\n",
        "from bs4 import BeautifulSoup\n",
        "import pandas as pd"
      ],
      "metadata": {
        "id": "C9wItTXj1F6m"
      },
      "execution_count": 91,
      "outputs": []
    },
    {
      "cell_type": "code",
      "source": [
        "options = webdriver.ChromeOptions()\n",
        "options.add_argument('--headless')\n",
        "options.add_argument('--no-sandbox')\n",
        "options.add_argument('--disable-dev-shm-usage')\n",
        "\n",
        "driver = webdriver.Chrome('chromedriver',chrome_options=options)\n",
        "driver.get('https://www.google.nl/')"
      ],
      "metadata": {
        "colab": {
          "base_uri": "https://localhost:8080/"
        },
        "id": "xbjF7-H3tmOe",
        "outputId": "9d63309b-6064-4da9-8506-2b87f72feb88"
      },
      "execution_count": 92,
      "outputs": [
        {
          "output_type": "stream",
          "name": "stderr",
          "text": [
            "/usr/local/lib/python3.7/dist-packages/ipykernel_launcher.py:6: DeprecationWarning: use options instead of chrome_options\n",
            "  \n"
          ]
        }
      ]
    },
    {
      "cell_type": "code",
      "source": [
        "# website for fix: https://www.pythonfixing.com/2021/11/fixed-selenium-access-denied.html\n",
        "\n",
        "options.add_argument(\"start-maximized\")\n",
        "options.add_argument('--disable-blink-features=AutomationControlled')\n",
        "options.add_experimental_option(\"excludeSwitches\", [\"enable-automation\"])\n",
        "options.add_experimental_option('useAutomationExtension', False)\n",
        "\n",
        "driver.execute_script(\"Object.defineProperty(navigator, 'webdriver', {get: () => undefined})\")\n",
        "driver.execute_cdp_cmd('Network.setUserAgentOverride', {\"userAgent\": 'Mozilla/5.0 (Windows NT 10.0; Win64; x64) '\n",
        "                                                                     'AppleWebKit/537.36 (KHTML, like Gecko) '\n",
        "                                                                     'Chrome/85.0.4183.102 Safari/537.36'})"
      ],
      "metadata": {
        "colab": {
          "base_uri": "https://localhost:8080/"
        },
        "id": "qO4TSGmFuKaK",
        "outputId": "9fe7fe9f-45a3-4334-aa6d-28bf11293bb7"
      },
      "execution_count": 93,
      "outputs": [
        {
          "output_type": "execute_result",
          "data": {
            "text/plain": [
              "{}"
            ]
          },
          "metadata": {},
          "execution_count": 93
        }
      ]
    },
    {
      "cell_type": "markdown",
      "source": [
        "# Create lists to save information from all colleges"
      ],
      "metadata": {
        "id": "dTSxYLX25VOO"
      }
    },
    {
      "cell_type": "code",
      "source": [
        "# lists to save info from all colleges\n",
        "city_state = []\n",
        "public_private = []\n",
        "ug_pop = []\n",
        "stu_pop = []\n",
        "avg_grant_aid = []\n",
        "tot_annual_cost = []\n",
        "alumni_salary = []\n",
        "accept_rate = []\n",
        "sat_range = []\n",
        "act_range = []\n",
        "website = []\n",
        "\n",
        "# list of all the individuals list names\n",
        "all_info_lists = [city_state, \n",
        "                  public_private, \n",
        "                  ug_pop, stu_pop, \n",
        "                  avg_grant_aid, \n",
        "                  tot_annual_cost, \n",
        "                  alumni_salary, \n",
        "                  accept_rate, \n",
        "                  sat_range, \n",
        "                  act_range, \n",
        "                  website]"
      ],
      "metadata": {
        "id": "N428COsA2nLJ"
      },
      "execution_count": 115,
      "outputs": []
    },
    {
      "cell_type": "markdown",
      "source": [
        "# Create functions for efficiency"
      ],
      "metadata": {
        "id": "5-vES0cF5fsW"
      }
    },
    {
      "cell_type": "markdown",
      "source": [
        "## getSoup"
      ],
      "metadata": {
        "id": "oI93GcYZ5olj"
      }
    },
    {
      "cell_type": "code",
      "source": [
        "# get soup from BeautifulSoup\n",
        "# returns soup\n",
        "def getSoup(link):\n",
        "  driver.get(link)\n",
        "  content = driver.page_source\n",
        "  soup = BeautifulSoup(content)\n",
        "  return soup"
      ],
      "metadata": {
        "id": "TMQylq-J2Wyd"
      },
      "execution_count": 118,
      "outputs": []
    },
    {
      "cell_type": "markdown",
      "source": [
        "## getCollegeInfo"
      ],
      "metadata": {
        "id": "qqLWM0v-5uh0"
      }
    },
    {
      "cell_type": "code",
      "source": [
        "# get information for one college from its profile website in forbes\n",
        "# returns a list\n",
        "def getCollegeInfo(soup):\n",
        "  college = [] # list to save info from college\n",
        "  for a in soup.findAll('div', attrs={'class':'profile-row__value'}):\n",
        "    college.append(a.text) # get info from one college\n",
        "  return college"
      ],
      "metadata": {
        "id": "CI7w4NlbtndZ"
      },
      "execution_count": 119,
      "outputs": []
    },
    {
      "cell_type": "markdown",
      "source": [
        "## addCollegeInfo"
      ],
      "metadata": {
        "id": "2OdqU2Va5w8L"
      }
    },
    {
      "cell_type": "code",
      "source": [
        "# append info from one college to lists\n",
        "def addCollegeInfo(all_lists, college):\n",
        "  for info_list in all_info_lists:\n",
        "    num = all_lists.index(info_list)\n",
        "    info_list.append(college[num])"
      ],
      "metadata": {
        "id": "DUcrGMx1252-"
      },
      "execution_count": 120,
      "outputs": []
    },
    {
      "cell_type": "markdown",
      "source": [
        "# Run code for multiple urls"
      ],
      "metadata": {
        "id": "3n2Io7Fu52Lw"
      }
    },
    {
      "cell_type": "markdown",
      "source": [
        "## List of urls to parse"
      ],
      "metadata": {
        "id": "fcWndU-E6Cn3"
      }
    },
    {
      "cell_type": "code",
      "source": [
        "url_list = ['https://www.forbes.com/colleges/university-of-california-berkeley/?list=top-colleges',\n",
        "            'https://www.forbes.com/colleges/yale-university/?list=top-colleges',\n",
        "            'https://www.forbes.com/colleges/princeton-university/?list=top-colleges',\n",
        "            'https://www.forbes.com/colleges/stanford-university/?list=top-colleges',\n",
        "            'https://www.forbes.com/colleges/columbia-university-in-the-city-of-new-york/?list=top-colleges',\n",
        "            'https://www.forbes.com/colleges/massachusetts-institute-of-technology/?list=top-colleges',\n",
        "            'https://www.forbes.com/colleges/harvard-university/?list=top-colleges',\n",
        "            'https://www.forbes.com/colleges/university-of-california-los-angeles/?list=top-colleges',\n",
        "            'https://www.forbes.com/colleges/university-of-pennsylvania/?list=top-colleges',\n",
        "            'https://www.forbes.com/colleges/northwestern-university/?list=top-colleges']"
      ],
      "metadata": {
        "id": "ez4DySxF5Kc2"
      },
      "execution_count": null,
      "outputs": []
    },
    {
      "cell_type": "markdown",
      "source": [
        "## Data scraping"
      ],
      "metadata": {
        "id": "PR6lZLdC5-2u"
      }
    },
    {
      "cell_type": "code",
      "source": [
        "soup = getSoup(url)\n",
        "college = getCollegeInfo(soup)\n",
        "addCollegeInfo(all_info_lists, college)"
      ],
      "metadata": {
        "id": "DY5GOPXx316Q"
      },
      "execution_count": 121,
      "outputs": []
    },
    {
      "cell_type": "code",
      "source": [
        "print(city_state)\n",
        "print(public_private)\n",
        "print(ug_pop)\n",
        "print(stu_pop)\n",
        "print(avg_grant_aid)\n",
        "print(tot_annual_cost)\n",
        "print(alumni_salary)\n",
        "print(accept_rate)\n",
        "print(sat_range)\n",
        "print(act_range)\n",
        "print(website)"
      ],
      "metadata": {
        "colab": {
          "base_uri": "https://localhost:8080/"
        },
        "id": "jNGkv1bcwWJC",
        "outputId": "0b17f0bf-882d-4ec3-bd7d-a87182a4e235"
      },
      "execution_count": 123,
      "outputs": [
        {
          "output_type": "stream",
          "name": "stdout",
          "text": [
            "<class 'list'>\n",
            "['Public']\n",
            "['31,348']\n",
            "['43,185']\n",
            "['$19,126']\n",
            "['$71,282']\n",
            "['$138,800']\n",
            "['16%']\n",
            "['1330-1530']\n",
            "['31-35']\n",
            "['www.berkeley.edu']\n"
          ]
        }
      ]
    }
  ]
}