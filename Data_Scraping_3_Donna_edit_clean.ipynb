{
  "nbformat": 4,
  "nbformat_minor": 0,
  "metadata": {
    "colab": {
      "name": "Data Scraping-3.ipynb",
      "provenance": [],
      "toc_visible": true,
      "include_colab_link": true
    },
    "kernelspec": {
      "name": "python3",
      "display_name": "Python 3"
    },
    "language_info": {
      "name": "python"
    }
  },
  "cells": [
    {
      "cell_type": "markdown",
      "metadata": {
        "id": "view-in-github",
        "colab_type": "text"
      },
      "source": [
        "<a href=\"https://colab.research.google.com/github/dli10/college-rankings-forbes-2019/blob/main/Data_Scraping_3_Donna_edit_clean.ipynb\" target=\"_parent\"><img src=\"https://colab.research.google.com/assets/colab-badge.svg\" alt=\"Open In Colab\"/></a>"
      ]
    },
    {
      "cell_type": "markdown",
      "source": [
        "# Load packages and set options"
      ],
      "metadata": {
        "id": "m-xp1SWw5N_0"
      }
    },
    {
      "cell_type": "code",
      "source": [
        "!pip install selenium\n",
        "!apt-get update \n",
        "!apt install chromium-chromedriver\n",
        "\n",
        "from selenium import webdriver\n",
        "from bs4 import BeautifulSoup\n",
        "import pandas as pd"
      ],
      "metadata": {
        "id": "C9wItTXj1F6m"
      },
      "execution_count": null,
      "outputs": []
    },
    {
      "cell_type": "code",
      "source": [
        "options = webdriver.ChromeOptions()\n",
        "options.add_argument('--headless')\n",
        "options.add_argument('--no-sandbox')\n",
        "options.add_argument('--disable-dev-shm-usage')\n",
        "\n",
        "driver = webdriver.Chrome('chromedriver',chrome_options=options)\n",
        "driver.get('https://www.google.nl/')"
      ],
      "metadata": {
        "colab": {
          "base_uri": "https://localhost:8080/"
        },
        "id": "xbjF7-H3tmOe",
        "outputId": "0ba84656-cf04-4cd2-92ea-7bd7370bd10f"
      },
      "execution_count": null,
      "outputs": [
        {
          "output_type": "stream",
          "name": "stderr",
          "text": [
            "/usr/local/lib/python3.7/dist-packages/ipykernel_launcher.py:6: DeprecationWarning: use options instead of chrome_options\n",
            "  \n"
          ]
        }
      ]
    },
    {
      "cell_type": "code",
      "source": [
        "# website for fix: https://www.pythonfixing.com/2021/11/fixed-selenium-access-denied.html\n",
        "\n",
        "options.add_argument(\"start-maximized\")\n",
        "options.add_argument('--disable-blink-features=AutomationControlled')\n",
        "options.add_experimental_option(\"excludeSwitches\", [\"enable-automation\"])\n",
        "options.add_experimental_option('useAutomationExtension', False)\n",
        "\n",
        "driver.execute_script(\"Object.defineProperty(navigator, 'webdriver', {get: () => undefined})\")\n",
        "driver.execute_cdp_cmd('Network.setUserAgentOverride', {\"userAgent\": 'Mozilla/5.0 (Windows NT 10.0; Win64; x64) '\n",
        "                                                                     'AppleWebKit/537.36 (KHTML, like Gecko) '\n",
        "                                                                     'Chrome/85.0.4183.102 Safari/537.36'})"
      ],
      "metadata": {
        "colab": {
          "base_uri": "https://localhost:8080/"
        },
        "id": "qO4TSGmFuKaK",
        "outputId": "8c8c7099-1375-4d7e-eb47-0530b4c1238e"
      },
      "execution_count": null,
      "outputs": [
        {
          "output_type": "execute_result",
          "data": {
            "text/plain": [
              "{}"
            ]
          },
          "metadata": {},
          "execution_count": 126
        }
      ]
    },
    {
      "cell_type": "markdown",
      "source": [
        "# Create lists to save information from all colleges"
      ],
      "metadata": {
        "id": "dTSxYLX25VOO"
      }
    },
    {
      "cell_type": "code",
      "source": [
        "# lists to save info from all colleges\n",
        "city_state = []\n",
        "public_private = []\n",
        "ug_pop = []\n",
        "stu_pop = []\n",
        "avg_grant_aid = []\n",
        "tot_annual_cost = []\n",
        "alumni_salary = []\n",
        "accept_rate = []\n",
        "sat_range = []\n",
        "act_range = []\n",
        "website = []\n",
        "\n",
        "# list of all the individuals list names\n",
        "all_info_lists = [city_state, \n",
        "                  public_private, \n",
        "                  ug_pop, stu_pop, \n",
        "                  avg_grant_aid, \n",
        "                  tot_annual_cost, \n",
        "                  alumni_salary, \n",
        "                  accept_rate, \n",
        "                  sat_range, \n",
        "                  act_range, \n",
        "                  website]"
      ],
      "metadata": {
        "id": "N428COsA2nLJ"
      },
      "execution_count": null,
      "outputs": []
    },
    {
      "cell_type": "markdown",
      "source": [
        "# Create functions for efficiency"
      ],
      "metadata": {
        "id": "5-vES0cF5fsW"
      }
    },
    {
      "cell_type": "markdown",
      "source": [
        "## getSoup"
      ],
      "metadata": {
        "id": "oI93GcYZ5olj"
      }
    },
    {
      "cell_type": "code",
      "source": [
        "# get soup from BeautifulSoup\n",
        "# returns soup\n",
        "def getSoup(link):\n",
        "  driver.get(link)\n",
        "  content = driver.page_source\n",
        "  soup = BeautifulSoup(content)\n",
        "  return soup"
      ],
      "metadata": {
        "id": "TMQylq-J2Wyd"
      },
      "execution_count": null,
      "outputs": []
    },
    {
      "cell_type": "markdown",
      "source": [
        "## getCollegeInfo"
      ],
      "metadata": {
        "id": "qqLWM0v-5uh0"
      }
    },
    {
      "cell_type": "code",
      "source": [
        "# get information for one college from its profile website in forbes\n",
        "# returns a list\n",
        "def getCollegeInfo(soup):\n",
        "  college = [] # list to save info from college\n",
        "  for a in soup.findAll('div', attrs={'class':'profile-row__value'}):\n",
        "    college.append(a.text) # get info from one college\n",
        "  return college"
      ],
      "metadata": {
        "id": "CI7w4NlbtndZ"
      },
      "execution_count": null,
      "outputs": []
    },
    {
      "cell_type": "markdown",
      "source": [
        "## addCollegeInfo"
      ],
      "metadata": {
        "id": "2OdqU2Va5w8L"
      }
    },
    {
      "cell_type": "code",
      "source": [
        "# append info from one college to lists\n",
        "def addCollegeInfo(all_lists, college):\n",
        "  for info_list in all_info_lists:\n",
        "    num = all_lists.index(info_list)\n",
        "    info_list.append(college[num])"
      ],
      "metadata": {
        "id": "DUcrGMx1252-"
      },
      "execution_count": null,
      "outputs": []
    },
    {
      "cell_type": "markdown",
      "source": [
        "# Run code for multiple urls"
      ],
      "metadata": {
        "id": "3n2Io7Fu52Lw"
      }
    },
    {
      "cell_type": "markdown",
      "source": [
        "## List of urls to parse"
      ],
      "metadata": {
        "id": "fcWndU-E6Cn3"
      }
    },
    {
      "cell_type": "code",
      "source": [
        "url_list = ['https://www.forbes.com/colleges/university-of-california-berkeley/?list=top-colleges',\n",
        "            'https://www.forbes.com/colleges/yale-university/?list=top-colleges',\n",
        "            'https://www.forbes.com/colleges/princeton-university/?list=top-colleges',\n",
        "            'https://www.forbes.com/colleges/stanford-university/?list=top-colleges',\n",
        "            'https://www.forbes.com/colleges/columbia-university-in-the-city-of-new-york/?list=top-colleges',\n",
        "            'https://www.forbes.com/colleges/massachusetts-institute-of-technology/?list=top-colleges',\n",
        "            'https://www.forbes.com/colleges/harvard-university/?list=top-colleges',\n",
        "            'https://www.forbes.com/colleges/university-of-california-los-angeles/?list=top-colleges',\n",
        "            'https://www.forbes.com/colleges/university-of-pennsylvania/?list=top-colleges',\n",
        "            'https://www.forbes.com/colleges/northwestern-university/?list=top-colleges']"
      ],
      "metadata": {
        "id": "ez4DySxF5Kc2"
      },
      "execution_count": null,
      "outputs": []
    },
    {
      "cell_type": "markdown",
      "source": [
        "## Data scraping"
      ],
      "metadata": {
        "id": "PR6lZLdC5-2u"
      }
    },
    {
      "cell_type": "code",
      "source": [
        "for url in url_list:\n",
        "  soup = getSoup(url)\n",
        "  college_info = getCollegeInfo(soup)\n",
        "  addCollegeInfo(all_info_lists, college_info)"
      ],
      "metadata": {
        "id": "DY5GOPXx316Q"
      },
      "execution_count": null,
      "outputs": []
    },
    {
      "cell_type": "code",
      "source": [
        "print(city_state)\n",
        "print(public_private)\n",
        "print(ug_pop)\n",
        "print(stu_pop)\n",
        "print(avg_grant_aid)\n",
        "print(tot_annual_cost)\n",
        "print(alumni_salary)\n",
        "print(accept_rate)\n",
        "print(sat_range)\n",
        "print(act_range)\n",
        "print(website)"
      ],
      "metadata": {
        "colab": {
          "base_uri": "https://localhost:8080/"
        },
        "id": "jNGkv1bcwWJC",
        "outputId": "17f23bb1-9743-4824-8f8f-ba0331b8937e"
      },
      "execution_count": null,
      "outputs": [
        {
          "output_type": "stream",
          "name": "stdout",
          "text": [
            "['Berkeley, CA', 'New Haven, CT', 'Princeton, NJ', 'Stanford, CA', 'New York, NY', 'Cambridge, MA', 'Cambridge, MA', 'Los Angeles, CA', 'Philadelphia, PA', 'Evanston, IL']\n",
            "['Public', 'Private', 'Private', 'Private', 'Private', 'Private', 'Private', 'Public', 'Private', 'Private']\n",
            "['31,348', '6,092', '5,422', '6,996', '8,221', '4,530', '10,063', '31,543', '11,872', '8,682']\n",
            "['43,185', '13,609', '8,419', '17,249', '31,456', '11,520', '31,655', '44,371', '26,675', '22,448']\n",
            "['$19,126', '$55,827', '$52,188', '$54,808', '$55,071', '$49,775', '$55,455', '$19,595', '$50,532', '$48,438']\n",
            "['$71,282', '$79,370', '$68,044', '$78,218', '$77,603', '$72,462', '$75,891', '$66,541', '$81,110', '$81,283']\n",
            "['$138,800', '$141,300', '$150,500', '$147,100', '$132,100', '$158,100', '$147,700', '$122,400', '$142,900', '$120,300']\n",
            "['16%', '6%', '6%', '4%', '5%', '7%', '5%', '12%', '8%', '9%']\n",
            "['1330-1530', '1460-1570', '1460-1570', '1440-1570', '1440-1570', '1510-1570', '1460-1570', '1300-1530', '1450-1560', '1440-1550']\n",
            "['31-35', '33-35', '33-35', '32-35', '33-35', '34-36', '33-35', '29-35', '33-35', '33-35']\n",
            "['www.berkeley.edu', 'www.yale.edu', 'www.princeton.edu', 'www.stanford.edu', 'www.columbia.edu', 'web.mit.edu', 'www.harvard.edu', 'ucla.edu', 'www.upenn.edu', 'www.northwestern.edu']\n"
          ]
        }
      ]
    }
  ]
}