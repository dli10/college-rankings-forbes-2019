{
  "nbformat": 4,
  "nbformat_minor": 0,
  "metadata": {
    "colab": {
      "name": "Data Scraping-3.ipynb",
      "provenance": [],
      "toc_visible": true,
      "include_colab_link": true
    },
    "kernelspec": {
      "name": "python3",
      "display_name": "Python 3"
    },
    "language_info": {
      "name": "python"
    }
  },
  "cells": [
    {
      "cell_type": "markdown",
      "metadata": {
        "id": "view-in-github",
        "colab_type": "text"
      },
      "source": [
        "<a href=\"https://colab.research.google.com/github/dli10/college-rankings-forbes-2019/blob/main/Data_Scraping_3_Donna_edit_clean.ipynb\" target=\"_parent\"><img src=\"https://colab.research.google.com/assets/colab-badge.svg\" alt=\"Open In Colab\"/></a>"
      ]
    },
    {
      "cell_type": "markdown",
      "source": [
        "# Load packages and set options"
      ],
      "metadata": {
        "id": "m-xp1SWw5N_0"
      }
    },
    {
      "cell_type": "code",
      "source": [
        "!pip install selenium\n",
        "!apt-get update \n",
        "!apt install chromium-chromedriver\n",
        "\n",
        "from selenium import webdriver\n",
        "from bs4 import BeautifulSoup\n",
        "import pandas as pd"
      ],
      "metadata": {
        "id": "C9wItTXj1F6m",
        "outputId": "a6912056-d514-4a13-bf3e-f36bfcae80ca",
        "colab": {
          "base_uri": "https://localhost:8080/"
        }
      },
      "execution_count": 23,
      "outputs": [
        {
          "output_type": "stream",
          "name": "stdout",
          "text": [
            "Looking in indexes: https://pypi.org/simple, https://us-python.pkg.dev/colab-wheels/public/simple/\n",
            "Requirement already satisfied: selenium in /usr/local/lib/python3.7/dist-packages (4.1.5)\n",
            "Requirement already satisfied: urllib3[secure,socks]~=1.26 in /usr/local/lib/python3.7/dist-packages (from selenium) (1.26.9)\n",
            "Requirement already satisfied: trio~=0.17 in /usr/local/lib/python3.7/dist-packages (from selenium) (0.20.0)\n",
            "Requirement already satisfied: trio-websocket~=0.9 in /usr/local/lib/python3.7/dist-packages (from selenium) (0.9.2)\n",
            "Requirement already satisfied: idna in /usr/local/lib/python3.7/dist-packages (from trio~=0.17->selenium) (2.10)\n",
            "Requirement already satisfied: sniffio in /usr/local/lib/python3.7/dist-packages (from trio~=0.17->selenium) (1.2.0)\n",
            "Requirement already satisfied: async-generator>=1.9 in /usr/local/lib/python3.7/dist-packages (from trio~=0.17->selenium) (1.10)\n",
            "Requirement already satisfied: sortedcontainers in /usr/local/lib/python3.7/dist-packages (from trio~=0.17->selenium) (2.4.0)\n",
            "Requirement already satisfied: outcome in /usr/local/lib/python3.7/dist-packages (from trio~=0.17->selenium) (1.1.0)\n",
            "Requirement already satisfied: attrs>=19.2.0 in /usr/local/lib/python3.7/dist-packages (from trio~=0.17->selenium) (21.4.0)\n",
            "Requirement already satisfied: wsproto>=0.14 in /usr/local/lib/python3.7/dist-packages (from trio-websocket~=0.9->selenium) (1.1.0)\n",
            "Requirement already satisfied: cryptography>=1.3.4 in /usr/local/lib/python3.7/dist-packages (from urllib3[secure,socks]~=1.26->selenium) (37.0.2)\n",
            "Requirement already satisfied: certifi in /usr/local/lib/python3.7/dist-packages (from urllib3[secure,socks]~=1.26->selenium) (2022.5.18.1)\n",
            "Requirement already satisfied: pyOpenSSL>=0.14 in /usr/local/lib/python3.7/dist-packages (from urllib3[secure,socks]~=1.26->selenium) (22.0.0)\n",
            "Requirement already satisfied: PySocks!=1.5.7,<2.0,>=1.5.6 in /usr/local/lib/python3.7/dist-packages (from urllib3[secure,socks]~=1.26->selenium) (1.7.1)\n",
            "Requirement already satisfied: cffi>=1.12 in /usr/local/lib/python3.7/dist-packages (from cryptography>=1.3.4->urllib3[secure,socks]~=1.26->selenium) (1.15.0)\n",
            "Requirement already satisfied: pycparser in /usr/local/lib/python3.7/dist-packages (from cffi>=1.12->cryptography>=1.3.4->urllib3[secure,socks]~=1.26->selenium) (2.21)\n",
            "Requirement already satisfied: h11<1,>=0.9.0 in /usr/local/lib/python3.7/dist-packages (from wsproto>=0.14->trio-websocket~=0.9->selenium) (0.13.0)\n",
            "Requirement already satisfied: typing-extensions in /usr/local/lib/python3.7/dist-packages (from h11<1,>=0.9.0->wsproto>=0.14->trio-websocket~=0.9->selenium) (4.2.0)\n",
            "Hit:1 http://security.ubuntu.com/ubuntu bionic-security InRelease\n",
            "Hit:2 https://cloud.r-project.org/bin/linux/ubuntu bionic-cran40/ InRelease\n",
            "Hit:3 https://developer.download.nvidia.com/compute/cuda/repos/ubuntu1804/x86_64  InRelease\n",
            "Hit:4 http://ppa.launchpad.net/c2d4u.team/c2d4u4.0+/ubuntu bionic InRelease\n",
            "Hit:5 http://archive.ubuntu.com/ubuntu bionic InRelease\n",
            "Hit:6 http://archive.ubuntu.com/ubuntu bionic-updates InRelease\n",
            "Ign:7 https://developer.download.nvidia.com/compute/machine-learning/repos/ubuntu1804/x86_64  InRelease\n",
            "Hit:8 http://ppa.launchpad.net/cran/libgit2/ubuntu bionic InRelease\n",
            "Hit:9 http://archive.ubuntu.com/ubuntu bionic-backports InRelease\n",
            "Hit:10 https://developer.download.nvidia.com/compute/machine-learning/repos/ubuntu1804/x86_64  Release\n",
            "Hit:11 http://ppa.launchpad.net/deadsnakes/ppa/ubuntu bionic InRelease\n",
            "Hit:12 http://ppa.launchpad.net/graphics-drivers/ppa/ubuntu bionic InRelease\n",
            "Reading package lists... Done\n",
            "Reading package lists... Done\n",
            "Building dependency tree       \n",
            "Reading state information... Done\n",
            "chromium-chromedriver is already the newest version (101.0.4951.64-0ubuntu0.18.04.1).\n",
            "The following package was automatically installed and is no longer required:\n",
            "  libnvidia-common-460\n",
            "Use 'apt autoremove' to remove it.\n",
            "0 upgraded, 0 newly installed, 0 to remove and 48 not upgraded.\n"
          ]
        }
      ]
    },
    {
      "cell_type": "code",
      "source": [
        "options = webdriver.ChromeOptions()\n",
        "options.add_argument('--headless')\n",
        "options.add_argument('--no-sandbox')\n",
        "options.add_argument('--disable-dev-shm-usage')\n",
        "\n",
        "driver = webdriver.Chrome('chromedriver',chrome_options=options)\n",
        "driver.get('https://www.google.nl/')"
      ],
      "metadata": {
        "colab": {
          "base_uri": "https://localhost:8080/"
        },
        "id": "xbjF7-H3tmOe",
        "outputId": "60ab1d9f-4dfd-4ef1-8197-230e637a5ad0"
      },
      "execution_count": 24,
      "outputs": [
        {
          "output_type": "stream",
          "name": "stderr",
          "text": [
            "/usr/local/lib/python3.7/dist-packages/ipykernel_launcher.py:6: DeprecationWarning: use options instead of chrome_options\n",
            "  \n"
          ]
        }
      ]
    },
    {
      "cell_type": "code",
      "source": [
        "# website for fix: https://www.pythonfixing.com/2021/11/fixed-selenium-access-denied.html\n",
        "\n",
        "options.add_argument(\"start-maximized\")\n",
        "options.add_argument('--disable-blink-features=AutomationControlled')\n",
        "options.add_experimental_option(\"excludeSwitches\", [\"enable-automation\"])\n",
        "options.add_experimental_option('useAutomationExtension', False)\n",
        "\n",
        "driver.execute_script(\"Object.defineProperty(navigator, 'webdriver', {get: () => undefined})\")\n",
        "driver.execute_cdp_cmd('Network.setUserAgentOverride', {\"userAgent\": 'Mozilla/5.0 (Windows NT 10.0; Win64; x64) '\n",
        "                                                                     'AppleWebKit/537.36 (KHTML, like Gecko) '\n",
        "                                                                     'Chrome/85.0.4183.102 Safari/537.36'})"
      ],
      "metadata": {
        "colab": {
          "base_uri": "https://localhost:8080/"
        },
        "id": "qO4TSGmFuKaK",
        "outputId": "66b9e299-e057-495b-a420-3019d732565f"
      },
      "execution_count": 25,
      "outputs": [
        {
          "output_type": "execute_result",
          "data": {
            "text/plain": [
              "{}"
            ]
          },
          "metadata": {},
          "execution_count": 25
        }
      ]
    },
    {
      "cell_type": "markdown",
      "source": [
        "# Create lists to save information from all colleges"
      ],
      "metadata": {
        "id": "dTSxYLX25VOO"
      }
    },
    {
      "cell_type": "code",
      "source": [
        "# lists to save info from all colleges\n",
        "rank = []\n",
        "school = []\n",
        "city_state = []\n",
        "public_private = []\n",
        "ug_pop = []\n",
        "stu_pop = []\n",
        "avg_grant_aid = []\n",
        "tot_annual_cost = []\n",
        "alumni_salary = []\n",
        "accept_rate = []\n",
        "sat_range = []\n",
        "act_range = []\n",
        "website = []\n",
        "\n",
        "# list of all the individuals list names\n",
        "all_info_lists = [rank,\n",
        "                  school,\n",
        "                  city_state, \n",
        "                  public_private, \n",
        "                  ug_pop, stu_pop, \n",
        "                  avg_grant_aid, \n",
        "                  tot_annual_cost, \n",
        "                  alumni_salary, \n",
        "                  accept_rate, \n",
        "                  sat_range, \n",
        "                  act_range, \n",
        "                  website]"
      ],
      "metadata": {
        "id": "N428COsA2nLJ"
      },
      "execution_count": 26,
      "outputs": []
    },
    {
      "cell_type": "markdown",
      "source": [
        "# Create functions for efficiency"
      ],
      "metadata": {
        "id": "5-vES0cF5fsW"
      }
    },
    {
      "cell_type": "markdown",
      "source": [
        "## getSoup"
      ],
      "metadata": {
        "id": "oI93GcYZ5olj"
      }
    },
    {
      "cell_type": "code",
      "source": [
        "# get soup from BeautifulSoup\n",
        "# returns soup\n",
        "def getSoup(link):\n",
        "  driver.get(link)\n",
        "  content = driver.page_source\n",
        "  soup = BeautifulSoup(content)\n",
        "  return soup"
      ],
      "metadata": {
        "id": "TMQylq-J2Wyd"
      },
      "execution_count": 27,
      "outputs": []
    },
    {
      "cell_type": "markdown",
      "source": [
        "## getCollegeRankName"
      ],
      "metadata": {
        "id": "xtyf219L-3mM"
      }
    },
    {
      "cell_type": "code",
      "source": [
        "# get college rank and college name\n",
        "# returns a list\n",
        "def getCollegeRankName(soup):\n",
        "  rankname = [] # list to save rank and name\n",
        "  a = soup.find('div', attrs={'class':'profile-heading--desktop'})\n",
        "  heading = a.text.split(' ', 1)\n",
        "  return heading"
      ],
      "metadata": {
        "id": "OGKmEqVD-2_j"
      },
      "execution_count": 28,
      "outputs": []
    },
    {
      "cell_type": "markdown",
      "source": [
        "## getCollegeInfo"
      ],
      "metadata": {
        "id": "qqLWM0v-5uh0"
      }
    },
    {
      "cell_type": "code",
      "source": [
        "# get information for one college from its profile website in forbes\n",
        "# returns a list\n",
        "def getCollegeInfo(soup):\n",
        "  college = [] # list to save info from college\n",
        "  for a in soup.findAll('div', attrs={'class':'profile-row__value'}):\n",
        "    college.append(a.text) # get info from one college\n",
        "  return college"
      ],
      "metadata": {
        "id": "CI7w4NlbtndZ"
      },
      "execution_count": 29,
      "outputs": []
    },
    {
      "cell_type": "markdown",
      "source": [
        "## addCollegeInfo"
      ],
      "metadata": {
        "id": "2OdqU2Va5w8L"
      }
    },
    {
      "cell_type": "code",
      "source": [
        "# append info from one college to lists\n",
        "def addCollegeInfo(all_lists, info):\n",
        "  for info_list in all_lists:\n",
        "    num = all_lists.index(info_list)\n",
        "    info_list.append(info[num])"
      ],
      "metadata": {
        "id": "DUcrGMx1252-"
      },
      "execution_count": 30,
      "outputs": []
    },
    {
      "cell_type": "markdown",
      "source": [
        "# Run code for multiple urls"
      ],
      "metadata": {
        "id": "3n2Io7Fu52Lw"
      }
    },
    {
      "cell_type": "markdown",
      "source": [
        "## List of urls to parse"
      ],
      "metadata": {
        "id": "fcWndU-E6Cn3"
      }
    },
    {
      "cell_type": "code",
      "source": [
        "url_list = ['https://www.forbes.com/colleges/university-of-california-berkeley/?list=top-colleges',\n",
        "            'https://www.forbes.com/colleges/yale-university/?list=top-colleges',\n",
        "            'https://www.forbes.com/colleges/princeton-university/?list=top-colleges',\n",
        "            'https://www.forbes.com/colleges/stanford-university/?list=top-colleges',\n",
        "            'https://www.forbes.com/colleges/columbia-university-in-the-city-of-new-york/?list=top-colleges']"
      ],
      "metadata": {
        "id": "ez4DySxF5Kc2"
      },
      "execution_count": 31,
      "outputs": []
    },
    {
      "cell_type": "markdown",
      "source": [
        "## Data scraping"
      ],
      "metadata": {
        "id": "PR6lZLdC5-2u"
      }
    },
    {
      "cell_type": "code",
      "source": [
        "for url in url_list:\n",
        "  soup = getSoup(url)\n",
        "  rankname_info = getCollegeRankName(soup)\n",
        "  #print(rankname_info)\n",
        "  college_info = getCollegeInfo(soup)\n",
        "  #print(college_info)\n",
        "\n",
        "  info = rankname_info + college_info # combine rank/name list and all other info list\n",
        "  #print(info)\n",
        "\n",
        "  addCollegeInfo(all_info_lists, info)"
      ],
      "metadata": {
        "id": "DY5GOPXx316Q"
      },
      "execution_count": 32,
      "outputs": []
    },
    {
      "cell_type": "code",
      "source": [
        "print(rank)\n",
        "print(school)\n",
        "print(city_state)\n",
        "print(public_private)\n",
        "print(ug_pop)\n",
        "print(stu_pop)\n",
        "print(avg_grant_aid)\n",
        "print(tot_annual_cost)\n",
        "print(alumni_salary)\n",
        "print(accept_rate)\n",
        "print(sat_range)\n",
        "print(act_range)\n",
        "print(website)"
      ],
      "metadata": {
        "id": "jNGkv1bcwWJC",
        "outputId": "c160ea76-c74c-4dcc-af5c-ea48c7b79ea0",
        "colab": {
          "base_uri": "https://localhost:8080/"
        }
      },
      "execution_count": 33,
      "outputs": [
        {
          "output_type": "stream",
          "name": "stdout",
          "text": [
            "['#1', '#2', '#3', '#4', '#5']\n",
            "['University of California, Berkeley', 'Yale University', 'Princeton University', 'Stanford University', 'Columbia University']\n",
            "['Berkeley, CA', 'New Haven, CT', 'Princeton, NJ', 'Stanford, CA', 'New York, NY']\n",
            "['Public', 'Private', 'Private', 'Private', 'Private']\n",
            "['31,348', '6,092', '5,422', '6,996', '8,221']\n",
            "['43,185', '13,609', '8,419', '17,249', '31,456']\n",
            "['$19,126', '$55,827', '$52,188', '$54,808', '$55,071']\n",
            "['$71,282', '$79,370', '$68,044', '$78,218', '$77,603']\n",
            "['$138,800', '$141,300', '$150,500', '$147,100', '$132,100']\n",
            "['16%', '6%', '6%', '4%', '5%']\n",
            "['1330-1530', '1460-1570', '1460-1570', '1440-1570', '1440-1570']\n",
            "['31-35', '33-35', '33-35', '32-35', '33-35']\n",
            "['www.berkeley.edu', 'www.yale.edu', 'www.princeton.edu', 'www.stanford.edu', 'www.columbia.edu']\n"
          ]
        }
      ]
    }
  ]
}
