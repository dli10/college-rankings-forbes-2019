{
  "cells": [
    {
      "cell_type": "markdown",
      "metadata": {
        "id": "view-in-github",
        "colab_type": "text"
      },
      "source": [
        "<a href=\"https://colab.research.google.com/github/dli10/college-rankings-forbes-2019/blob/main/PredictRankings.ipynb\" target=\"_parent\"><img src=\"https://colab.research.google.com/assets/colab-badge.svg\" alt=\"Open In Colab\"/></a>"
      ]
    },
    {
      "cell_type": "markdown",
      "metadata": {
        "id": "jsqYzUxDmstJ"
      },
      "source": [
        "# From Harvard CS109 (Fall 2015)\n",
        "\n",
        "## Prediction using Linear Regression (and Logistic Regression)\n",
        "\n",
        "* Boston Housing Data Set\n",
        "* Old Faithful Geyser Data Set\n",
        "\n"
      ]
    },
    {
      "cell_type": "code",
      "execution_count": 2,
      "metadata": {
        "collapsed": true,
        "id": "6sC_4xtGmstL",
        "outputId": "2f4f8ac1-ed88-4641-e2e9-19b11a2a9e46",
        "colab": {
          "base_uri": "https://localhost:8080/"
        }
      },
      "outputs": [
        {
          "output_type": "stream",
          "name": "stderr",
          "text": [
            "/usr/local/lib/python3.7/dist-packages/statsmodels/tools/_testing.py:19: FutureWarning: pandas.util.testing is deprecated. Use the functions in the public API at pandas.testing instead.\n",
            "  import pandas.util.testing as tm\n"
          ]
        }
      ],
      "source": [
        "# special IPython command to prepare the notebook for matplotlib\n",
        "%matplotlib inline \n",
        "\n",
        "import numpy as np\n",
        "import pandas as pd\n",
        "import scipy.stats as stats\n",
        "import matplotlib.pyplot as plt\n",
        "import sklearn\n",
        "import statsmodels.api as sm\n",
        "\n",
        "import seaborn as sns\n",
        "sns.set_theme(style=\"whitegrid\")\n",
        "\n",
        "# special matplotlib argument for improved plots\n",
        "from matplotlib import rcParams"
      ]
    },
    {
      "cell_type": "code",
      "source": [
        "import sys\n",
        "#cwd = os.getcwd()\n",
        "#print(cwd)"
      ],
      "metadata": {
        "id": "1AX38YSC7Rgw"
      },
      "execution_count": 1,
      "outputs": []
    },
    {
      "cell_type": "code",
      "source": [
        "with open('ForbesAmericasTopColleges2019.csv', newline='') as data:\n",
        "    forbesraw = pd.read_csv(data)"
      ],
      "metadata": {
        "id": "2ZH5hsP1Phey"
      },
      "execution_count": 3,
      "outputs": []
    },
    {
      "cell_type": "code",
      "execution_count": 4,
      "metadata": {
        "colab": {
          "base_uri": "https://localhost:8080/"
        },
        "id": "5gLBsuRomstO",
        "outputId": "3125efc8-b1bd-42a8-b39d-9efddff7cb55"
      },
      "outputs": [
        {
          "output_type": "execute_result",
          "data": {
            "text/plain": [
              "Index(['Rank', 'Name', 'City', 'State', 'Public/Private',\n",
              "       'Undergraduate Population', 'Student Population', 'Net Price',\n",
              "       'Average Grant Aid', 'Total Annual Cost', 'Alumni Salary',\n",
              "       'Acceptance Rate', 'SAT Lower', 'SAT Upper', 'ACT Lower', 'ACT Upper',\n",
              "       'Website'],\n",
              "      dtype='object')"
            ]
          },
          "metadata": {},
          "execution_count": 4
        }
      ],
      "source": [
        "forbesraw.keys()"
      ]
    },
    {
      "cell_type": "code",
      "execution_count": 6,
      "metadata": {
        "colab": {
          "base_uri": "https://localhost:8080/"
        },
        "id": "6_ZsnikvmstP",
        "outputId": "72626ad0-2869-45ab-8dd9-c1ceb48096c0"
      },
      "outputs": [
        {
          "output_type": "execute_result",
          "data": {
            "text/plain": [
              "(650, 17)"
            ]
          },
          "metadata": {},
          "execution_count": 6
        }
      ],
      "source": [
        "forbesraw.shape"
      ]
    },
    {
      "cell_type": "code",
      "execution_count": 12,
      "metadata": {
        "colab": {
          "base_uri": "https://localhost:8080/"
        },
        "id": "lv_g-HBQmstQ",
        "outputId": "e3066931-f767-4495-ab19-69fae76fa884"
      },
      "outputs": [
        {
          "output_type": "stream",
          "name": "stdout",
          "text": [
            "Index(['Rank', 'Name', 'City', 'State', 'Public/Private',\n",
            "       'Undergraduate Population', 'Student Population', 'Net Price',\n",
            "       'Average Grant Aid', 'Total Annual Cost', 'Alumni Salary',\n",
            "       'Acceptance Rate', 'SAT Lower', 'SAT Upper', 'ACT Lower', 'ACT Upper',\n",
            "       'Website'],\n",
            "      dtype='object')\n"
          ]
        }
      ],
      "source": [
        "# Print column names\n",
        "print(forbesraw.columns)"
      ]
    },
    {
      "cell_type": "code",
      "execution_count": 13,
      "metadata": {
        "colab": {
          "base_uri": "https://localhost:8080/",
          "height": 409
        },
        "id": "8uFJqe87mstR",
        "outputId": "7fec987b-ab6c-4797-d5c8-f38c6683605b"
      },
      "outputs": [
        {
          "output_type": "execute_result",
          "data": {
            "text/plain": [
              "   Rank                                   Name       City State  \\\n",
              "0   1.0                     Harvard University  Cambridge    MA   \n",
              "1   2.0                    Stanford University   Stanford    CA   \n",
              "2   3.0                        Yale University  New Haven    CT   \n",
              "3   4.0  Massachusetts Institute of Technology  Cambridge    MA   \n",
              "4   5.0                   Princeton University  Princeton    NJ   \n",
              "\n",
              "  Public/Private  Undergraduate Population  Student Population  Net Price  \\\n",
              "0        Private                   13844.0             31120.0    14327.0   \n",
              "1        Private                    8402.0             17534.0    13261.0   \n",
              "2        Private                    6483.0             12974.0    18627.0   \n",
              "3        Private                    4680.0             11466.0    20771.0   \n",
              "4        Private                    5659.0              8273.0     9327.0   \n",
              "\n",
              "   Average Grant Aid  Total Annual Cost  Alumni Salary  Acceptance Rate  \\\n",
              "0            49870.0            69600.0       146800.0              5.0   \n",
              "1            50134.0            69109.0       145200.0              5.0   \n",
              "2            50897.0            71290.0       138300.0              7.0   \n",
              "3            43248.0            67430.0       155200.0              7.0   \n",
              "4            48088.0            66150.0       139400.0              6.0   \n",
              "\n",
              "   SAT Lower  SAT Upper  ACT Lower  ACT Upper            Website  \n",
              "0     1460.0     1590.0       32.0       35.0    www.harvard.edu  \n",
              "1     1390.0     1540.0       32.0       35.0   www.stanford.edu  \n",
              "2     1460.0     1580.0       32.0       35.0       www.yale.edu  \n",
              "3     1490.0     1570.0       33.0       35.0        web.mit.edu  \n",
              "4     1430.0     1570.0       31.0       35.0  www.princeton.edu  "
            ],
            "text/html": [
              "\n",
              "  <div id=\"df-7ea7602c-efaa-4db8-8219-e5d8c8e72a39\">\n",
              "    <div class=\"colab-df-container\">\n",
              "      <div>\n",
              "<style scoped>\n",
              "    .dataframe tbody tr th:only-of-type {\n",
              "        vertical-align: middle;\n",
              "    }\n",
              "\n",
              "    .dataframe tbody tr th {\n",
              "        vertical-align: top;\n",
              "    }\n",
              "\n",
              "    .dataframe thead th {\n",
              "        text-align: right;\n",
              "    }\n",
              "</style>\n",
              "<table border=\"1\" class=\"dataframe\">\n",
              "  <thead>\n",
              "    <tr style=\"text-align: right;\">\n",
              "      <th></th>\n",
              "      <th>Rank</th>\n",
              "      <th>Name</th>\n",
              "      <th>City</th>\n",
              "      <th>State</th>\n",
              "      <th>Public/Private</th>\n",
              "      <th>Undergraduate Population</th>\n",
              "      <th>Student Population</th>\n",
              "      <th>Net Price</th>\n",
              "      <th>Average Grant Aid</th>\n",
              "      <th>Total Annual Cost</th>\n",
              "      <th>Alumni Salary</th>\n",
              "      <th>Acceptance Rate</th>\n",
              "      <th>SAT Lower</th>\n",
              "      <th>SAT Upper</th>\n",
              "      <th>ACT Lower</th>\n",
              "      <th>ACT Upper</th>\n",
              "      <th>Website</th>\n",
              "    </tr>\n",
              "  </thead>\n",
              "  <tbody>\n",
              "    <tr>\n",
              "      <th>0</th>\n",
              "      <td>1.0</td>\n",
              "      <td>Harvard University</td>\n",
              "      <td>Cambridge</td>\n",
              "      <td>MA</td>\n",
              "      <td>Private</td>\n",
              "      <td>13844.0</td>\n",
              "      <td>31120.0</td>\n",
              "      <td>14327.0</td>\n",
              "      <td>49870.0</td>\n",
              "      <td>69600.0</td>\n",
              "      <td>146800.0</td>\n",
              "      <td>5.0</td>\n",
              "      <td>1460.0</td>\n",
              "      <td>1590.0</td>\n",
              "      <td>32.0</td>\n",
              "      <td>35.0</td>\n",
              "      <td>www.harvard.edu</td>\n",
              "    </tr>\n",
              "    <tr>\n",
              "      <th>1</th>\n",
              "      <td>2.0</td>\n",
              "      <td>Stanford University</td>\n",
              "      <td>Stanford</td>\n",
              "      <td>CA</td>\n",
              "      <td>Private</td>\n",
              "      <td>8402.0</td>\n",
              "      <td>17534.0</td>\n",
              "      <td>13261.0</td>\n",
              "      <td>50134.0</td>\n",
              "      <td>69109.0</td>\n",
              "      <td>145200.0</td>\n",
              "      <td>5.0</td>\n",
              "      <td>1390.0</td>\n",
              "      <td>1540.0</td>\n",
              "      <td>32.0</td>\n",
              "      <td>35.0</td>\n",
              "      <td>www.stanford.edu</td>\n",
              "    </tr>\n",
              "    <tr>\n",
              "      <th>2</th>\n",
              "      <td>3.0</td>\n",
              "      <td>Yale University</td>\n",
              "      <td>New Haven</td>\n",
              "      <td>CT</td>\n",
              "      <td>Private</td>\n",
              "      <td>6483.0</td>\n",
              "      <td>12974.0</td>\n",
              "      <td>18627.0</td>\n",
              "      <td>50897.0</td>\n",
              "      <td>71290.0</td>\n",
              "      <td>138300.0</td>\n",
              "      <td>7.0</td>\n",
              "      <td>1460.0</td>\n",
              "      <td>1580.0</td>\n",
              "      <td>32.0</td>\n",
              "      <td>35.0</td>\n",
              "      <td>www.yale.edu</td>\n",
              "    </tr>\n",
              "    <tr>\n",
              "      <th>3</th>\n",
              "      <td>4.0</td>\n",
              "      <td>Massachusetts Institute of Technology</td>\n",
              "      <td>Cambridge</td>\n",
              "      <td>MA</td>\n",
              "      <td>Private</td>\n",
              "      <td>4680.0</td>\n",
              "      <td>11466.0</td>\n",
              "      <td>20771.0</td>\n",
              "      <td>43248.0</td>\n",
              "      <td>67430.0</td>\n",
              "      <td>155200.0</td>\n",
              "      <td>7.0</td>\n",
              "      <td>1490.0</td>\n",
              "      <td>1570.0</td>\n",
              "      <td>33.0</td>\n",
              "      <td>35.0</td>\n",
              "      <td>web.mit.edu</td>\n",
              "    </tr>\n",
              "    <tr>\n",
              "      <th>4</th>\n",
              "      <td>5.0</td>\n",
              "      <td>Princeton University</td>\n",
              "      <td>Princeton</td>\n",
              "      <td>NJ</td>\n",
              "      <td>Private</td>\n",
              "      <td>5659.0</td>\n",
              "      <td>8273.0</td>\n",
              "      <td>9327.0</td>\n",
              "      <td>48088.0</td>\n",
              "      <td>66150.0</td>\n",
              "      <td>139400.0</td>\n",
              "      <td>6.0</td>\n",
              "      <td>1430.0</td>\n",
              "      <td>1570.0</td>\n",
              "      <td>31.0</td>\n",
              "      <td>35.0</td>\n",
              "      <td>www.princeton.edu</td>\n",
              "    </tr>\n",
              "  </tbody>\n",
              "</table>\n",
              "</div>\n",
              "      <button class=\"colab-df-convert\" onclick=\"convertToInteractive('df-7ea7602c-efaa-4db8-8219-e5d8c8e72a39')\"\n",
              "              title=\"Convert this dataframe to an interactive table.\"\n",
              "              style=\"display:none;\">\n",
              "        \n",
              "  <svg xmlns=\"http://www.w3.org/2000/svg\" height=\"24px\"viewBox=\"0 0 24 24\"\n",
              "       width=\"24px\">\n",
              "    <path d=\"M0 0h24v24H0V0z\" fill=\"none\"/>\n",
              "    <path d=\"M18.56 5.44l.94 2.06.94-2.06 2.06-.94-2.06-.94-.94-2.06-.94 2.06-2.06.94zm-11 1L8.5 8.5l.94-2.06 2.06-.94-2.06-.94L8.5 2.5l-.94 2.06-2.06.94zm10 10l.94 2.06.94-2.06 2.06-.94-2.06-.94-.94-2.06-.94 2.06-2.06.94z\"/><path d=\"M17.41 7.96l-1.37-1.37c-.4-.4-.92-.59-1.43-.59-.52 0-1.04.2-1.43.59L10.3 9.45l-7.72 7.72c-.78.78-.78 2.05 0 2.83L4 21.41c.39.39.9.59 1.41.59.51 0 1.02-.2 1.41-.59l7.78-7.78 2.81-2.81c.8-.78.8-2.07 0-2.86zM5.41 20L4 18.59l7.72-7.72 1.47 1.35L5.41 20z\"/>\n",
              "  </svg>\n",
              "      </button>\n",
              "      \n",
              "  <style>\n",
              "    .colab-df-container {\n",
              "      display:flex;\n",
              "      flex-wrap:wrap;\n",
              "      gap: 12px;\n",
              "    }\n",
              "\n",
              "    .colab-df-convert {\n",
              "      background-color: #E8F0FE;\n",
              "      border: none;\n",
              "      border-radius: 50%;\n",
              "      cursor: pointer;\n",
              "      display: none;\n",
              "      fill: #1967D2;\n",
              "      height: 32px;\n",
              "      padding: 0 0 0 0;\n",
              "      width: 32px;\n",
              "    }\n",
              "\n",
              "    .colab-df-convert:hover {\n",
              "      background-color: #E2EBFA;\n",
              "      box-shadow: 0px 1px 2px rgba(60, 64, 67, 0.3), 0px 1px 3px 1px rgba(60, 64, 67, 0.15);\n",
              "      fill: #174EA6;\n",
              "    }\n",
              "\n",
              "    [theme=dark] .colab-df-convert {\n",
              "      background-color: #3B4455;\n",
              "      fill: #D2E3FC;\n",
              "    }\n",
              "\n",
              "    [theme=dark] .colab-df-convert:hover {\n",
              "      background-color: #434B5C;\n",
              "      box-shadow: 0px 1px 3px 1px rgba(0, 0, 0, 0.15);\n",
              "      filter: drop-shadow(0px 1px 2px rgba(0, 0, 0, 0.3));\n",
              "      fill: #FFFFFF;\n",
              "    }\n",
              "  </style>\n",
              "\n",
              "      <script>\n",
              "        const buttonEl =\n",
              "          document.querySelector('#df-7ea7602c-efaa-4db8-8219-e5d8c8e72a39 button.colab-df-convert');\n",
              "        buttonEl.style.display =\n",
              "          google.colab.kernel.accessAllowed ? 'block' : 'none';\n",
              "\n",
              "        async function convertToInteractive(key) {\n",
              "          const element = document.querySelector('#df-7ea7602c-efaa-4db8-8219-e5d8c8e72a39');\n",
              "          const dataTable =\n",
              "            await google.colab.kernel.invokeFunction('convertToInteractive',\n",
              "                                                     [key], {});\n",
              "          if (!dataTable) return;\n",
              "\n",
              "          const docLinkHtml = 'Like what you see? Visit the ' +\n",
              "            '<a target=\"_blank\" href=https://colab.research.google.com/notebooks/data_table.ipynb>data table notebook</a>'\n",
              "            + ' to learn more about interactive tables.';\n",
              "          element.innerHTML = '';\n",
              "          dataTable['output_type'] = 'display_data';\n",
              "          await google.colab.output.renderOutput(dataTable, element);\n",
              "          const docLink = document.createElement('div');\n",
              "          docLink.innerHTML = docLinkHtml;\n",
              "          element.appendChild(docLink);\n",
              "        }\n",
              "      </script>\n",
              "    </div>\n",
              "  </div>\n",
              "  "
            ]
          },
          "metadata": {},
          "execution_count": 13
        }
      ],
      "source": [
        "forbesraw.head()"
      ]
    },
    {
      "cell_type": "markdown",
      "metadata": {
        "id": "GJAlqKVjmstT"
      },
      "source": [
        "## EDA and Summary Statistics\n",
        "***\n",
        "\n",
        "Let's explore this data set.  First we use `describe()` to get basic summary statistics for each of the columns. "
      ]
    },
    {
      "cell_type": "code",
      "execution_count": 14,
      "metadata": {
        "colab": {
          "base_uri": "https://localhost:8080/",
          "height": 382
        },
        "id": "-42XFTnPmstT",
        "outputId": "40fd8938-9f7e-4f91-f461-088daa26a032"
      },
      "outputs": [
        {
          "output_type": "execute_result",
          "data": {
            "text/plain": [
              "            Rank  Undergraduate Population  Student Population     Net Price  \\\n",
              "count  650.00000                650.000000          650.000000    648.000000   \n",
              "mean   325.50000              10002.692308        12022.290769  22336.947531   \n",
              "std    187.78312              11162.172430        13175.091581   8269.912032   \n",
              "min      1.00000                185.000000          386.000000      0.000000   \n",
              "25%    163.25000               2020.250000         2240.750000  16410.000000   \n",
              "50%    325.50000               4503.000000         6269.000000  21989.000000   \n",
              "75%    487.75000              15657.000000        17788.000000  27580.500000   \n",
              "max    650.00000              65100.000000        75044.000000  47270.000000   \n",
              "\n",
              "       Average Grant Aid  Total Annual Cost  Alumni Salary  Acceptance Rate  \\\n",
              "count         646.000000         650.000000     635.000000       648.000000   \n",
              "mean        20031.208978       50330.175385   98851.968504        61.597222   \n",
              "std         11175.869976       13223.055038   14335.249458        22.024781   \n",
              "min          2975.000000           0.000000   70700.000000         5.000000   \n",
              "25%          9288.250000       39917.000000   88600.000000        48.000000   \n",
              "50%         19605.000000       50265.000000   96400.000000        67.000000   \n",
              "75%         27474.500000       60771.750000  105600.000000        78.000000   \n",
              "max         50897.000000       75735.000000  158200.000000       100.000000   \n",
              "\n",
              "         SAT Lower    SAT Upper   ACT Lower   ACT Upper  \n",
              "count   551.000000   551.000000  553.000000  553.000000  \n",
              "mean   1110.145191  1308.078040   23.278481   28.441230  \n",
              "std     127.744079   113.553237    3.729318    3.058115  \n",
              "min     820.000000  1060.000000   15.000000   20.000000  \n",
              "25%    1020.000000  1230.000000   21.000000   26.000000  \n",
              "50%    1080.000000  1290.000000   22.000000   28.000000  \n",
              "75%    1180.000000  1380.000000   25.000000   31.000000  \n",
              "max    1530.000000  1590.000000   34.000000   35.000000  "
            ],
            "text/html": [
              "\n",
              "  <div id=\"df-fced6122-d23b-4b4a-afea-fcb73b356678\">\n",
              "    <div class=\"colab-df-container\">\n",
              "      <div>\n",
              "<style scoped>\n",
              "    .dataframe tbody tr th:only-of-type {\n",
              "        vertical-align: middle;\n",
              "    }\n",
              "\n",
              "    .dataframe tbody tr th {\n",
              "        vertical-align: top;\n",
              "    }\n",
              "\n",
              "    .dataframe thead th {\n",
              "        text-align: right;\n",
              "    }\n",
              "</style>\n",
              "<table border=\"1\" class=\"dataframe\">\n",
              "  <thead>\n",
              "    <tr style=\"text-align: right;\">\n",
              "      <th></th>\n",
              "      <th>Rank</th>\n",
              "      <th>Undergraduate Population</th>\n",
              "      <th>Student Population</th>\n",
              "      <th>Net Price</th>\n",
              "      <th>Average Grant Aid</th>\n",
              "      <th>Total Annual Cost</th>\n",
              "      <th>Alumni Salary</th>\n",
              "      <th>Acceptance Rate</th>\n",
              "      <th>SAT Lower</th>\n",
              "      <th>SAT Upper</th>\n",
              "      <th>ACT Lower</th>\n",
              "      <th>ACT Upper</th>\n",
              "    </tr>\n",
              "  </thead>\n",
              "  <tbody>\n",
              "    <tr>\n",
              "      <th>count</th>\n",
              "      <td>650.00000</td>\n",
              "      <td>650.000000</td>\n",
              "      <td>650.000000</td>\n",
              "      <td>648.000000</td>\n",
              "      <td>646.000000</td>\n",
              "      <td>650.000000</td>\n",
              "      <td>635.000000</td>\n",
              "      <td>648.000000</td>\n",
              "      <td>551.000000</td>\n",
              "      <td>551.000000</td>\n",
              "      <td>553.000000</td>\n",
              "      <td>553.000000</td>\n",
              "    </tr>\n",
              "    <tr>\n",
              "      <th>mean</th>\n",
              "      <td>325.50000</td>\n",
              "      <td>10002.692308</td>\n",
              "      <td>12022.290769</td>\n",
              "      <td>22336.947531</td>\n",
              "      <td>20031.208978</td>\n",
              "      <td>50330.175385</td>\n",
              "      <td>98851.968504</td>\n",
              "      <td>61.597222</td>\n",
              "      <td>1110.145191</td>\n",
              "      <td>1308.078040</td>\n",
              "      <td>23.278481</td>\n",
              "      <td>28.441230</td>\n",
              "    </tr>\n",
              "    <tr>\n",
              "      <th>std</th>\n",
              "      <td>187.78312</td>\n",
              "      <td>11162.172430</td>\n",
              "      <td>13175.091581</td>\n",
              "      <td>8269.912032</td>\n",
              "      <td>11175.869976</td>\n",
              "      <td>13223.055038</td>\n",
              "      <td>14335.249458</td>\n",
              "      <td>22.024781</td>\n",
              "      <td>127.744079</td>\n",
              "      <td>113.553237</td>\n",
              "      <td>3.729318</td>\n",
              "      <td>3.058115</td>\n",
              "    </tr>\n",
              "    <tr>\n",
              "      <th>min</th>\n",
              "      <td>1.00000</td>\n",
              "      <td>185.000000</td>\n",
              "      <td>386.000000</td>\n",
              "      <td>0.000000</td>\n",
              "      <td>2975.000000</td>\n",
              "      <td>0.000000</td>\n",
              "      <td>70700.000000</td>\n",
              "      <td>5.000000</td>\n",
              "      <td>820.000000</td>\n",
              "      <td>1060.000000</td>\n",
              "      <td>15.000000</td>\n",
              "      <td>20.000000</td>\n",
              "    </tr>\n",
              "    <tr>\n",
              "      <th>25%</th>\n",
              "      <td>163.25000</td>\n",
              "      <td>2020.250000</td>\n",
              "      <td>2240.750000</td>\n",
              "      <td>16410.000000</td>\n",
              "      <td>9288.250000</td>\n",
              "      <td>39917.000000</td>\n",
              "      <td>88600.000000</td>\n",
              "      <td>48.000000</td>\n",
              "      <td>1020.000000</td>\n",
              "      <td>1230.000000</td>\n",
              "      <td>21.000000</td>\n",
              "      <td>26.000000</td>\n",
              "    </tr>\n",
              "    <tr>\n",
              "      <th>50%</th>\n",
              "      <td>325.50000</td>\n",
              "      <td>4503.000000</td>\n",
              "      <td>6269.000000</td>\n",
              "      <td>21989.000000</td>\n",
              "      <td>19605.000000</td>\n",
              "      <td>50265.000000</td>\n",
              "      <td>96400.000000</td>\n",
              "      <td>67.000000</td>\n",
              "      <td>1080.000000</td>\n",
              "      <td>1290.000000</td>\n",
              "      <td>22.000000</td>\n",
              "      <td>28.000000</td>\n",
              "    </tr>\n",
              "    <tr>\n",
              "      <th>75%</th>\n",
              "      <td>487.75000</td>\n",
              "      <td>15657.000000</td>\n",
              "      <td>17788.000000</td>\n",
              "      <td>27580.500000</td>\n",
              "      <td>27474.500000</td>\n",
              "      <td>60771.750000</td>\n",
              "      <td>105600.000000</td>\n",
              "      <td>78.000000</td>\n",
              "      <td>1180.000000</td>\n",
              "      <td>1380.000000</td>\n",
              "      <td>25.000000</td>\n",
              "      <td>31.000000</td>\n",
              "    </tr>\n",
              "    <tr>\n",
              "      <th>max</th>\n",
              "      <td>650.00000</td>\n",
              "      <td>65100.000000</td>\n",
              "      <td>75044.000000</td>\n",
              "      <td>47270.000000</td>\n",
              "      <td>50897.000000</td>\n",
              "      <td>75735.000000</td>\n",
              "      <td>158200.000000</td>\n",
              "      <td>100.000000</td>\n",
              "      <td>1530.000000</td>\n",
              "      <td>1590.000000</td>\n",
              "      <td>34.000000</td>\n",
              "      <td>35.000000</td>\n",
              "    </tr>\n",
              "  </tbody>\n",
              "</table>\n",
              "</div>\n",
              "      <button class=\"colab-df-convert\" onclick=\"convertToInteractive('df-fced6122-d23b-4b4a-afea-fcb73b356678')\"\n",
              "              title=\"Convert this dataframe to an interactive table.\"\n",
              "              style=\"display:none;\">\n",
              "        \n",
              "  <svg xmlns=\"http://www.w3.org/2000/svg\" height=\"24px\"viewBox=\"0 0 24 24\"\n",
              "       width=\"24px\">\n",
              "    <path d=\"M0 0h24v24H0V0z\" fill=\"none\"/>\n",
              "    <path d=\"M18.56 5.44l.94 2.06.94-2.06 2.06-.94-2.06-.94-.94-2.06-.94 2.06-2.06.94zm-11 1L8.5 8.5l.94-2.06 2.06-.94-2.06-.94L8.5 2.5l-.94 2.06-2.06.94zm10 10l.94 2.06.94-2.06 2.06-.94-2.06-.94-.94-2.06-.94 2.06-2.06.94z\"/><path d=\"M17.41 7.96l-1.37-1.37c-.4-.4-.92-.59-1.43-.59-.52 0-1.04.2-1.43.59L10.3 9.45l-7.72 7.72c-.78.78-.78 2.05 0 2.83L4 21.41c.39.39.9.59 1.41.59.51 0 1.02-.2 1.41-.59l7.78-7.78 2.81-2.81c.8-.78.8-2.07 0-2.86zM5.41 20L4 18.59l7.72-7.72 1.47 1.35L5.41 20z\"/>\n",
              "  </svg>\n",
              "      </button>\n",
              "      \n",
              "  <style>\n",
              "    .colab-df-container {\n",
              "      display:flex;\n",
              "      flex-wrap:wrap;\n",
              "      gap: 12px;\n",
              "    }\n",
              "\n",
              "    .colab-df-convert {\n",
              "      background-color: #E8F0FE;\n",
              "      border: none;\n",
              "      border-radius: 50%;\n",
              "      cursor: pointer;\n",
              "      display: none;\n",
              "      fill: #1967D2;\n",
              "      height: 32px;\n",
              "      padding: 0 0 0 0;\n",
              "      width: 32px;\n",
              "    }\n",
              "\n",
              "    .colab-df-convert:hover {\n",
              "      background-color: #E2EBFA;\n",
              "      box-shadow: 0px 1px 2px rgba(60, 64, 67, 0.3), 0px 1px 3px 1px rgba(60, 64, 67, 0.15);\n",
              "      fill: #174EA6;\n",
              "    }\n",
              "\n",
              "    [theme=dark] .colab-df-convert {\n",
              "      background-color: #3B4455;\n",
              "      fill: #D2E3FC;\n",
              "    }\n",
              "\n",
              "    [theme=dark] .colab-df-convert:hover {\n",
              "      background-color: #434B5C;\n",
              "      box-shadow: 0px 1px 3px 1px rgba(0, 0, 0, 0.15);\n",
              "      filter: drop-shadow(0px 1px 2px rgba(0, 0, 0, 0.3));\n",
              "      fill: #FFFFFF;\n",
              "    }\n",
              "  </style>\n",
              "\n",
              "      <script>\n",
              "        const buttonEl =\n",
              "          document.querySelector('#df-fced6122-d23b-4b4a-afea-fcb73b356678 button.colab-df-convert');\n",
              "        buttonEl.style.display =\n",
              "          google.colab.kernel.accessAllowed ? 'block' : 'none';\n",
              "\n",
              "        async function convertToInteractive(key) {\n",
              "          const element = document.querySelector('#df-fced6122-d23b-4b4a-afea-fcb73b356678');\n",
              "          const dataTable =\n",
              "            await google.colab.kernel.invokeFunction('convertToInteractive',\n",
              "                                                     [key], {});\n",
              "          if (!dataTable) return;\n",
              "\n",
              "          const docLinkHtml = 'Like what you see? Visit the ' +\n",
              "            '<a target=\"_blank\" href=https://colab.research.google.com/notebooks/data_table.ipynb>data table notebook</a>'\n",
              "            + ' to learn more about interactive tables.';\n",
              "          element.innerHTML = '';\n",
              "          dataTable['output_type'] = 'display_data';\n",
              "          await google.colab.output.renderOutput(dataTable, element);\n",
              "          const docLink = document.createElement('div');\n",
              "          docLink.innerHTML = docLinkHtml;\n",
              "          element.appendChild(docLink);\n",
              "        }\n",
              "      </script>\n",
              "    </div>\n",
              "  </div>\n",
              "  "
            ]
          },
          "metadata": {},
          "execution_count": 14
        }
      ],
      "source": [
        "forbesraw.describe()"
      ]
    },
    {
      "cell_type": "markdown",
      "metadata": {
        "id": "YlV7B-BTmstT"
      },
      "source": [
        "### Scatter plots\n",
        "***\n",
        "\n",
        "Let's look at some scatter plots for three variables: 'Undergraduate Population', 'Total Annual Cost' and 'Acceptance Rate'. \n",
        "\n",
        "What kind of relationship do you see? e.g. positive, negative?  linear? non-linear? "
      ]
    },
    {
      "cell_type": "markdown",
      "source": [
        ""
      ],
      "metadata": {
        "id": "uxgq3CBbsItk"
      }
    },
    {
      "cell_type": "code",
      "execution_count": 24,
      "metadata": {
        "colab": {
          "base_uri": "https://localhost:8080/",
          "height": 319
        },
        "id": "cufXzQ3hmstT",
        "outputId": "b1a0b72f-e0ca-4b86-c442-3c068f92bba1"
      },
      "outputs": [
        {
          "output_type": "execute_result",
          "data": {
            "text/plain": [
              "Text(0.5, 1.0, 'Relationship between Undergraduate Population and Rank')"
            ]
          },
          "metadata": {},
          "execution_count": 24
        },
        {
          "output_type": "display_data",
          "data": {
            "text/plain": [
              "<Figure size 432x288 with 1 Axes>"
            ],
            "image/png": "[encoded data removed]"
          },
          "metadata": {}
        }
      ],
      "source": [
        "plt.scatter(forbesraw['Undergraduate Population'], forbesraw['Rank'])\n",
        "plt.xlabel(\"Undergraduate Population\")\n",
        "plt.ylabel(\"Rank\")\n",
        "plt.title(\"Relationship between Undergraduate Population and Rank\")"
      ]
    },
    {
      "cell_type": "code",
      "execution_count": 25,
      "metadata": {
        "colab": {
          "base_uri": "https://localhost:8080/",
          "height": 319
        },
        "id": "KMnyUWQ-mstU",
        "outputId": "b5b430c2-2db4-496b-db88-3a285b4a701b"
      },
      "outputs": [
        {
          "output_type": "execute_result",
          "data": {
            "text/plain": [
              "Text(0.5, 1.0, 'Relationship between Total Annual Cost and Rank')"
            ]
          },
          "metadata": {},
          "execution_count": 25
        },
        {
          "output_type": "display_data",
          "data": {
            "text/plain": [
              "<Figure size 432x288 with 1 Axes>"
            ],
            "image/png": "[encoded data removed]"
          },
          "metadata": {}
        }
      ],
      "source": [
        "plt.scatter(forbesraw['Total Annual Cost'], forbesraw['Rank'])\n",
        "plt.xlabel(\"Total Annual Cost\")\n",
        "plt.ylabel(\"Rank\")\n",
        "plt.title(\"Relationship between Total Annual Cost and Rank\")\n",
        "\n",
        "#sns.regplot(y=\"PRICE\", x=\"RM\", data=bos, fit_reg = True)"
      ]
    },
    {
      "cell_type": "code",
      "execution_count": 26,
      "metadata": {
        "colab": {
          "base_uri": "https://localhost:8080/",
          "height": 303
        },
        "id": "LpwVHP0-mstU",
        "outputId": "4744da3c-c476-4879-d064-59a97d1b8807"
      },
      "outputs": [
        {
          "output_type": "execute_result",
          "data": {
            "text/plain": [
              "<matplotlib.axes._subplots.AxesSubplot at 0x7fd34ebe74d0>"
            ]
          },
          "metadata": {},
          "execution_count": 26
        },
        {
          "output_type": "display_data",
          "data": {
            "text/plain": [
              "<Figure size 432x288 with 1 Axes>"
            ],
            "image/png": "[encoded data removed]"
          },
          "metadata": {}
        }
      ],
      "source": [
        "# We can also use seaborn regplot for this\n",
        "# This provides automatic linear regression fits (useful for data exploration later on)\n",
        "sns.regplot(y=\"Rank\", x=\"Total Annual Cost\", data=forbesraw, fit_reg = True)"
      ]
    },
    {
      "cell_type": "code",
      "execution_count": 27,
      "metadata": {
        "colab": {
          "base_uri": "https://localhost:8080/",
          "height": 319
        },
        "id": "liaqHNuBmstU",
        "outputId": "2506b486-f302-4d28-9d34-01d493c39d27"
      },
      "outputs": [
        {
          "output_type": "execute_result",
          "data": {
            "text/plain": [
              "Text(0.5, 1.0, 'Relationship between Acceptance Rate and Price')"
            ]
          },
          "metadata": {},
          "execution_count": 27
        },
        {
          "output_type": "display_data",
          "data": {
            "text/plain": [
              "<Figure size 432x288 with 1 Axes>"
            ],
            "image/png": "[encoded data removed]"
          },
          "metadata": {}
        }
      ],
      "source": [
        "plt.scatter(forbesraw['Acceptance Rate'], forbesraw['Rank'])\n",
        "plt.xlabel(\"Acceptance Rate\")\n",
        "plt.ylabel(\"Rank\")\n",
        "plt.title(\"Relationship between Acceptance Rate and Price\")"
      ]
    },
    {
      "cell_type": "markdown",
      "metadata": {
        "id": "aV89tesUmstU"
      },
      "source": [
        "### Histograms\n",
        "***\n"
      ]
    },
    {
      "cell_type": "code",
      "execution_count": 28,
      "metadata": {
        "colab": {
          "base_uri": "https://localhost:8080/",
          "height": 301
        },
        "id": "9b3B9b73mstU",
        "outputId": "77040919-a1b0-4719-8420-419781f02878"
      },
      "outputs": [
        {
          "output_type": "display_data",
          "data": {
            "text/plain": [
              "<Figure size 432x288 with 1 Axes>"
            ],
            "image/png": "[encoded data removed]"
          },
          "metadata": {}
        }
      ],
      "source": [
        "plt.hist(forbesraw['Undergraduate Population'])\n",
        "plt.title(\"Undergraduate Population\")\n",
        "plt.xlabel(\"Undergraduate Population\")\n",
        "plt.ylabel(\"Frequencey\")\n",
        "plt.show()"
      ]
    },
    {
      "cell_type": "code",
      "execution_count": 29,
      "metadata": {
        "colab": {
          "base_uri": "https://localhost:8080/",
          "height": 301
        },
        "id": "zIWW6ZsDmstU",
        "outputId": "cb3b9c80-1cf9-4503-a710-e85d4648f808"
      },
      "outputs": [
        {
          "output_type": "display_data",
          "data": {
            "text/plain": [
              "<Figure size 432x288 with 1 Axes>"
            ],
            "image/png": "[encoded data removed]"
          },
          "metadata": {}
        }
      ],
      "source": [
        "plt.hist(forbesraw['Total Annual Cost'])\n",
        "plt.title('Total Annual Cost')\n",
        "plt.xlabel('Total Annual Cost')\n",
        "plt.ylabel('Frequency')\n",
        "plt.show()"
      ]
    },
    {
      "cell_type": "code",
      "source": [
        "plt.hist(forbesraw['State'])\n",
        "plt.title('State')\n",
        "plt.xlabel('State')\n",
        "plt.ylabel('Frequency')\n",
        "plt.show()"
      ],
      "metadata": {
        "id": "AUXtNeQkSMe_",
        "outputId": "6df1131a-14da-48f8-8d93-900f88bf9dd9",
        "colab": {
          "base_uri": "https://localhost:8080/",
          "height": 301
        }
      },
      "execution_count": 30,
      "outputs": [
        {
          "output_type": "display_data",
          "data": {
            "text/plain": [
              "<Figure size 432x288 with 1 Axes>"
            ],
            "image/png": "[encoded data removed]"
          },
          "metadata": {}
        }
      ]
    },
    {
      "cell_type": "markdown",
      "metadata": {
        "id": "zu64pRcXmstU"
      },
      "source": [
        "## Linear regression with Forbes 2019 college rankings\n",
        "***\n",
        "\n",
        "Here, \n",
        "\n",
        "$Y$ = college rankings\n",
        "\n",
        "and\n",
        "\n",
        "$X$ = all the other features (or independent variables)\n",
        "\n",
        "which we will use to fit a linear regression model and predict college rankings. We will use the least squares method as the way to estimate the coefficients.  "
      ]
    },
    {
      "cell_type": "markdown",
      "metadata": {
        "id": "Y9KaddXBmstV"
      },
      "source": [
        "We'll use two ways of fitting a linear regression. We recommend the first but the second is also powerful in its features."
      ]
    },
    {
      "cell_type": "markdown",
      "metadata": {
        "id": "Lb2BzrewmstV"
      },
      "source": [
        "### Fitting Linear Regression using `statsmodels`\n",
        "***"
      ]
    },
    {
      "cell_type": "code",
      "execution_count": 31,
      "metadata": {
        "collapsed": true,
        "id": "_I6SzHfKmstV"
      },
      "outputs": [],
      "source": [
        "# Import regression modules\n",
        "# ols - stands for Ordinary least squares, we'll use this\n",
        "import statsmodels.api as sm\n",
        "from statsmodels.formula.api import ols"
      ]
    },
    {
      "cell_type": "code",
      "execution_count": 37,
      "metadata": {
        "colab": {
          "base_uri": "https://localhost:8080/"
        },
        "id": "0BG6vDiBmstV",
        "outputId": "68022031-33bc-4ea6-ba59-ad1f99765f47"
      },
      "outputs": [
        {
          "output_type": "stream",
          "name": "stdout",
          "text": [
            "                            OLS Regression Results                            \n",
            "==============================================================================\n",
            "Dep. Variable:                   Rank   R-squared:                       0.159\n",
            "Model:                            OLS   Adj. R-squared:                  0.089\n",
            "Method:                 Least Squares   F-statistic:                     2.270\n",
            "Date:                Mon, 16 May 2022   Prob (F-statistic):           3.75e-06\n",
            "Time:                        05:16:23   Log-Likelihood:                -4268.3\n",
            "No. Observations:                 650   AIC:                             8639.\n",
            "Df Residuals:                     599   BIC:                             8867.\n",
            "Df Model:                          50                                         \n",
            "Covariance Type:            nonrobust                                         \n",
            "===============================================================================\n",
            "                  coef    std err          t      P>|t|      [0.025      0.975]\n",
            "-------------------------------------------------------------------------------\n",
            "Intercept     604.5000    126.726      4.770      0.000     355.620     853.380\n",
            "State[T.AL]  -204.5000    141.683     -1.443      0.149    -482.757      73.757\n",
            "State[T.AR]  -192.1000    149.944     -1.281      0.201    -486.579     102.379\n",
            "State[T.AZ]  -310.7500    155.206     -2.002      0.046    -615.565      -5.935\n",
            "State[T.CA]  -352.6071    128.969     -2.734      0.006    -605.893     -99.321\n",
            "State[T.CO]  -286.3333    136.879     -2.092      0.037    -555.155     -17.512\n",
            "State[T.CT]  -432.0000    138.821     -3.112      0.002    -704.635    -159.365\n",
            "State[T.DC]  -426.5000    149.944     -2.844      0.005    -720.979    -132.021\n",
            "State[T.DE]  -457.5000    219.495     -2.084      0.038    -888.573     -26.427\n",
            "State[T.FL]  -244.8000    132.911     -1.842      0.066    -505.828      16.228\n",
            "State[T.GA]  -209.0714    135.475     -1.543      0.123    -475.136      56.993\n",
            "State[T.HI]  -219.5000    219.495     -1.000      0.318    -650.573     211.573\n",
            "State[T.IA]  -242.4231    136.125     -1.781      0.075    -509.763      24.917\n",
            "State[T.ID]  -120.0000    155.206     -0.773      0.440    -424.815     184.815\n",
            "State[T.IL]  -223.1800    131.697     -1.695      0.091    -481.824      35.464\n",
            "State[T.IN]  -275.7105    133.228     -2.069      0.039    -537.362     -14.059\n",
            "State[T.KS]  -196.8333    163.602     -1.203      0.229    -518.137     124.470\n",
            "State[T.KY]  -119.5833    136.879     -0.874      0.383    -388.405     149.238\n",
            "State[T.LA]  -158.0000    141.683     -1.115      0.265    -436.257     120.257\n",
            "State[T.MA]  -411.8226    130.750     -3.150      0.002    -668.606    -155.039\n",
            "State[T.MD]  -341.7857    135.475     -2.523      0.012    -607.850     -75.721\n",
            "State[T.ME]  -326.0000    146.330     -2.228      0.026    -613.382     -38.618\n",
            "State[T.MI]  -222.6765    133.973     -1.662      0.097    -485.790      40.437\n",
            "State[T.MN]  -274.5526    133.228     -2.061      0.040    -536.204     -12.901\n",
            "State[T.MO]  -265.6538    136.125     -1.952      0.051    -532.994       1.687\n",
            "State[T.MS]  -139.9000    149.944     -0.933      0.351    -434.379     154.579\n",
            "State[T.MT]  -103.2500    155.206     -0.665      0.506    -408.065     201.565\n",
            "State[T.NC]  -231.3421    133.228     -1.736      0.083    -492.994      30.310\n",
            "State[T.ND]  -220.5000    179.217     -1.230      0.219    -572.470     131.470\n",
            "State[T.NE]  -193.6667    146.330     -1.323      0.186    -481.049      93.716\n",
            "State[T.NH]  -412.8333    163.602     -2.523      0.012    -734.137     -91.530\n",
            "State[T.NJ]  -305.0385    136.125     -2.241      0.025    -572.379     -37.698\n",
            "State[T.NM]   -55.5000    155.206     -0.358      0.721    -360.315     249.315\n",
            "State[T.NV]  -156.0000    179.217     -0.870      0.384    -507.970     195.970\n",
            "State[T.NY]  -324.6765    128.576     -2.525      0.012    -577.190     -72.163\n",
            "State[T.OH]  -215.7759    131.023     -1.647      0.100    -473.095      41.544\n",
            "State[T.OK]  -208.8333    146.330     -1.427      0.154    -496.216      78.549\n",
            "State[T.OR]  -302.7727    137.765     -2.198      0.028    -573.334     -32.211\n",
            "State[T.PA]  -319.1750    129.855     -2.458      0.014    -574.201     -64.149\n",
            "State[T.RI]  -330.6429    143.693     -2.301      0.022    -612.847     -48.439\n",
            "State[T.SC]  -305.5000    140.100     -2.181      0.030    -580.648     -30.352\n",
            "State[T.SD]  -162.2500    155.206     -1.045      0.296    -467.065     142.565\n",
            "State[T.TN]  -191.7143    135.475     -1.415      0.158    -457.779      74.350\n",
            "State[T.TX]  -253.7800    131.697     -1.927      0.054    -512.424       4.864\n",
            "State[T.UT]  -269.9000    149.944     -1.800      0.072    -564.379      24.579\n",
            "State[T.VA]  -280.9000    132.911     -2.113      0.035    -541.928     -19.872\n",
            "State[T.VT]  -322.7000    149.944     -2.152      0.032    -617.179     -28.221\n",
            "State[T.WA]  -367.8333    136.879     -2.687      0.007    -636.655     -99.012\n",
            "State[T.WI]  -230.3462    136.125     -1.692      0.091    -497.687      36.994\n",
            "State[T.WV]  -150.5000    219.495     -0.686      0.493    -581.573     280.573\n",
            "State[T.WY]  -257.5000    219.495     -1.173      0.241    -688.573     173.573\n",
            "==============================================================================\n",
            "Omnibus:                      115.696   Durbin-Watson:                   0.300\n",
            "Prob(Omnibus):                  0.000   Jarque-Bera (JB):               25.536\n",
            "Skew:                          -0.010   Prob(JB):                     2.85e-06\n",
            "Kurtosis:                       2.029   Cond. No.                         132.\n",
            "==============================================================================\n",
            "\n",
            "Warnings:\n",
            "[1] Standard Errors assume that the covariance matrix of the errors is correctly specified.\n"
          ]
        }
      ],
      "source": [
        "# statsmodels works nicely with pandas dataframes\n",
        "# The thing inside the \"quotes\" is called a formula, a bit on that below\n",
        "m = ols('Rank ~ State',forbesraw).fit()\n",
        "print(m.summary())"
      ]
    },
    {
      "cell_type": "markdown",
      "metadata": {
        "id": "gv7-R8NpmstV"
      },
      "source": [
        "#### Interpreting coefficients\n",
        "\n",
        "There is a ton of information in this output. But we'll concentrate on the coefficient table (middle table). We can interpret the `RM` coefficient (9.1021) by first noticing that the p-value (under `P>|t|`) is so small, basically zero. We can interpret the coefficient as, if we compare two groups of towns, one where the average number of rooms is say $5$ and the other group is the same except that they all have $6$ rooms. For these two groups the average difference in house prives is about $9.1$ (in thousands) so about $\\$9,100$ difference. The confidence interval fives us a range of plausible values for this difference, about ($\\$8,279, \\$9,925$), deffinitely not chump change. \n",
        "\n",
        "In the last section of this Lab we discuss p-values in more detail. Please have a read though it and ask your TFs for more help."
      ]
    },
    {
      "cell_type": "markdown",
      "metadata": {
        "id": "gAIfOwMrmstV"
      },
      "source": [
        "####  `statsmodels` formulas\n",
        "***\n",
        "This formula notation will seem familiar to `R` users, but will take some getting used to for people coming from other languages or are new to statistics.\n",
        "\n",
        "The formula gives instruction for a general structure for a regression call. For `statsmodels` (`ols` or `logit`) calls you need to have a Pandas dataframe with column names that you will add to your formula. In the below example you need a pandas data frame that includes the columns named (`Outcome`, `X1`,`X2`, ...), bbut you don't need to build a new dataframe for every regression. Use the same dataframe with all these things in it. The structure is very simple:\n",
        "\n",
        "`Outcome ~ X1`\n",
        "\n",
        "But of course we want to to be able to handle more complex models, for example multiple regression is doone like this:\n",
        "\n",
        "`Outcome ~ X1 + X2 + X3`\n",
        "\n",
        "This is the very basic structure but it should be enough to get you through the homework. Things can get much more complex, for a quick run-down of further uses see the `statsmodels` [help page](http://statsmodels.sourceforge.net/devel/example_formulas.html).\n"
      ]
    },
    {
      "cell_type": "markdown",
      "metadata": {
        "id": "kyl8bN2XmstV"
      },
      "source": [
        "Let's see how our model actually fit our data. We can see below that there is a ceiling effect, we should probably look into that. Also, for large values of $Y$ we get underpredictions, most predictions are below the 45-degree gridlines. "
      ]
    },
    {
      "cell_type": "code",
      "execution_count": 35,
      "metadata": {
        "id": "FCB91UkimstV",
        "colab": {
          "base_uri": "https://localhost:8080/",
          "height": 328
        },
        "outputId": "a48c531b-210a-4acc-a2a3-73ca9ea59eb9"
      },
      "outputs": [
        {
          "output_type": "execute_result",
          "data": {
            "text/plain": [
              "Text(0.5, 1.0, 'Ranks vs Predicted Ranks: $Y_i$ vs $\\\\hat{Y}_i$')"
            ]
          },
          "metadata": {},
          "execution_count": 35
        },
        {
          "output_type": "display_data",
          "data": {
            "text/plain": [
              "<Figure size 432x288 with 1 Axes>"
            ],
            "image/png": "[encoded data removed]"
          },
          "metadata": {}
        }
      ],
      "source": [
        "plt.scatter(forbesraw['Rank'], m.fittedvalues)\n",
        "plt.xlabel(\"Ranks: $Y_i$\")\n",
        "plt.ylabel(\"Predicted ranks: $\\hat{Y}_i$\")\n",
        "plt.title(\"Ranks vs Predicted Ranks: $Y_i$ vs $\\hat{Y}_i$\")"
      ]
    },
    {
      "cell_type": "markdown",
      "metadata": {
        "id": "rpwL-9yNmstV"
      },
      "source": [
        "### Fitting Linear Regression using `sklearn`\n"
      ]
    },
    {
      "cell_type": "code",
      "execution_count": 38,
      "metadata": {
        "id": "uJVZDpSmmstW",
        "colab": {
          "base_uri": "https://localhost:8080/"
        },
        "outputId": "b0fba7e9-39c1-4332-b5c6-a5f0ad088311"
      },
      "outputs": [
        {
          "output_type": "execute_result",
          "data": {
            "text/plain": [
              "LinearRegression()"
            ]
          },
          "metadata": {},
          "execution_count": 38
        }
      ],
      "source": [
        "from sklearn.linear_model import LinearRegression\n",
        "X = forbesraw.drop('Rank', axis = 1)\n",
        "\n",
        "# This creates a LinearRegression object\n",
        "lm = LinearRegression()\n",
        "lm"
      ]
    },
    {
      "cell_type": "markdown",
      "metadata": {
        "id": "PihVfGvTmstW"
      },
      "source": [
        "#### What can you do with a LinearRegression object? "
      ]
    },
    {
      "cell_type": "code",
      "execution_count": 39,
      "metadata": {
        "id": "Aorfj4sUmstW"
      },
      "outputs": [],
      "source": [
        "# Look inside linear regression object\n",
        "# LinearRegression.<tab>\n",
        "#lm."
      ]
    },
    {
      "cell_type": "markdown",
      "metadata": {
        "id": "P-BemtCnmstW"
      },
      "source": [
        "Main functions | Description\n",
        "--- | --- \n",
        "`lm.fit()` | Fit a linear model\n",
        "`lm.predit()` | Predict Y using the linear model with estimated coefficients\n",
        "`lm.score()` | Returns the coefficient of determination (R^2). *A measure of how well observed outcomes are replicated by the model, as the proportion of total variation of outcomes explained by the model*"
      ]
    },
    {
      "cell_type": "markdown",
      "metadata": {
        "id": "c1vkGm8cmstW"
      },
      "source": [
        "#### What output can you get?"
      ]
    },
    {
      "cell_type": "code",
      "execution_count": 40,
      "metadata": {
        "id": "Rf-2s6P3mstW"
      },
      "outputs": [],
      "source": [
        "# Look inside lm object\n",
        "# lm.<tab>"
      ]
    },
    {
      "cell_type": "markdown",
      "metadata": {
        "id": "JkcSTRY_mstW"
      },
      "source": [
        "Output | Description\n",
        "--- | --- \n",
        "`lm.coef_` | Estimated coefficients\n",
        "`lm.intercept_` | Estimated intercept "
      ]
    },
    {
      "cell_type": "markdown",
      "metadata": {
        "id": "O-XHN4tTmstW"
      },
      "source": [
        "### Fit a linear model\n",
        "***\n",
        "\n",
        "The `lm.fit()` function estimates the coefficients the linear regression using least squares. "
      ]
    },
    {
      "cell_type": "code",
      "source": [
        "forbesraw.head()"
      ],
      "metadata": {
        "id": "bw3O_HGVTU8C",
        "outputId": "4be08f8d-0361-4ad8-cbf7-87aee6f1a11a",
        "colab": {
          "base_uri": "https://localhost:8080/",
          "height": 409
        }
      },
      "execution_count": 54,
      "outputs": [
        {
          "output_type": "execute_result",
          "data": {
            "text/plain": [
              "   Rank                                   Name       City State  \\\n",
              "0   1.0                     Harvard University  Cambridge    MA   \n",
              "1   2.0                    Stanford University   Stanford    CA   \n",
              "2   3.0                        Yale University  New Haven    CT   \n",
              "3   4.0  Massachusetts Institute of Technology  Cambridge    MA   \n",
              "4   5.0                   Princeton University  Princeton    NJ   \n",
              "\n",
              "  Public/Private  Undergraduate Population  Student Population  Net Price  \\\n",
              "0        Private                   13844.0             31120.0    14327.0   \n",
              "1        Private                    8402.0             17534.0    13261.0   \n",
              "2        Private                    6483.0             12974.0    18627.0   \n",
              "3        Private                    4680.0             11466.0    20771.0   \n",
              "4        Private                    5659.0              8273.0     9327.0   \n",
              "\n",
              "   Average Grant Aid  Total Annual Cost  Alumni Salary  Acceptance Rate  \\\n",
              "0            49870.0            69600.0       146800.0              5.0   \n",
              "1            50134.0            69109.0       145200.0              5.0   \n",
              "2            50897.0            71290.0       138300.0              7.0   \n",
              "3            43248.0            67430.0       155200.0              7.0   \n",
              "4            48088.0            66150.0       139400.0              6.0   \n",
              "\n",
              "   SAT Lower  SAT Upper  ACT Lower  ACT Upper            Website  \n",
              "0     1460.0     1590.0       32.0       35.0    www.harvard.edu  \n",
              "1     1390.0     1540.0       32.0       35.0   www.stanford.edu  \n",
              "2     1460.0     1580.0       32.0       35.0       www.yale.edu  \n",
              "3     1490.0     1570.0       33.0       35.0        web.mit.edu  \n",
              "4     1430.0     1570.0       31.0       35.0  www.princeton.edu  "
            ],
            "text/html": [
              "\n",
              "  <div id=\"df-0d925531-c695-4a70-a018-57d2998a02b4\">\n",
              "    <div class=\"colab-df-container\">\n",
              "      <div>\n",
              "<style scoped>\n",
              "    .dataframe tbody tr th:only-of-type {\n",
              "        vertical-align: middle;\n",
              "    }\n",
              "\n",
              "    .dataframe tbody tr th {\n",
              "        vertical-align: top;\n",
              "    }\n",
              "\n",
              "    .dataframe thead th {\n",
              "        text-align: right;\n",
              "    }\n",
              "</style>\n",
              "<table border=\"1\" class=\"dataframe\">\n",
              "  <thead>\n",
              "    <tr style=\"text-align: right;\">\n",
              "      <th></th>\n",
              "      <th>Rank</th>\n",
              "      <th>Name</th>\n",
              "      <th>City</th>\n",
              "      <th>State</th>\n",
              "      <th>Public/Private</th>\n",
              "      <th>Undergraduate Population</th>\n",
              "      <th>Student Population</th>\n",
              "      <th>Net Price</th>\n",
              "      <th>Average Grant Aid</th>\n",
              "      <th>Total Annual Cost</th>\n",
              "      <th>Alumni Salary</th>\n",
              "      <th>Acceptance Rate</th>\n",
              "      <th>SAT Lower</th>\n",
              "      <th>SAT Upper</th>\n",
              "      <th>ACT Lower</th>\n",
              "      <th>ACT Upper</th>\n",
              "      <th>Website</th>\n",
              "    </tr>\n",
              "  </thead>\n",
              "  <tbody>\n",
              "    <tr>\n",
              "      <th>0</th>\n",
              "      <td>1.0</td>\n",
              "      <td>Harvard University</td>\n",
              "      <td>Cambridge</td>\n",
              "      <td>MA</td>\n",
              "      <td>Private</td>\n",
              "      <td>13844.0</td>\n",
              "      <td>31120.0</td>\n",
              "      <td>14327.0</td>\n",
              "      <td>49870.0</td>\n",
              "      <td>69600.0</td>\n",
              "      <td>146800.0</td>\n",
              "      <td>5.0</td>\n",
              "      <td>1460.0</td>\n",
              "      <td>1590.0</td>\n",
              "      <td>32.0</td>\n",
              "      <td>35.0</td>\n",
              "      <td>www.harvard.edu</td>\n",
              "    </tr>\n",
              "    <tr>\n",
              "      <th>1</th>\n",
              "      <td>2.0</td>\n",
              "      <td>Stanford University</td>\n",
              "      <td>Stanford</td>\n",
              "      <td>CA</td>\n",
              "      <td>Private</td>\n",
              "      <td>8402.0</td>\n",
              "      <td>17534.0</td>\n",
              "      <td>13261.0</td>\n",
              "      <td>50134.0</td>\n",
              "      <td>69109.0</td>\n",
              "      <td>145200.0</td>\n",
              "      <td>5.0</td>\n",
              "      <td>1390.0</td>\n",
              "      <td>1540.0</td>\n",
              "      <td>32.0</td>\n",
              "      <td>35.0</td>\n",
              "      <td>www.stanford.edu</td>\n",
              "    </tr>\n",
              "    <tr>\n",
              "      <th>2</th>\n",
              "      <td>3.0</td>\n",
              "      <td>Yale University</td>\n",
              "      <td>New Haven</td>\n",
              "      <td>CT</td>\n",
              "      <td>Private</td>\n",
              "      <td>6483.0</td>\n",
              "      <td>12974.0</td>\n",
              "      <td>18627.0</td>\n",
              "      <td>50897.0</td>\n",
              "      <td>71290.0</td>\n",
              "      <td>138300.0</td>\n",
              "      <td>7.0</td>\n",
              "      <td>1460.0</td>\n",
              "      <td>1580.0</td>\n",
              "      <td>32.0</td>\n",
              "      <td>35.0</td>\n",
              "      <td>www.yale.edu</td>\n",
              "    </tr>\n",
              "    <tr>\n",
              "      <th>3</th>\n",
              "      <td>4.0</td>\n",
              "      <td>Massachusetts Institute of Technology</td>\n",
              "      <td>Cambridge</td>\n",
              "      <td>MA</td>\n",
              "      <td>Private</td>\n",
              "      <td>4680.0</td>\n",
              "      <td>11466.0</td>\n",
              "      <td>20771.0</td>\n",
              "      <td>43248.0</td>\n",
              "      <td>67430.0</td>\n",
              "      <td>155200.0</td>\n",
              "      <td>7.0</td>\n",
              "      <td>1490.0</td>\n",
              "      <td>1570.0</td>\n",
              "      <td>33.0</td>\n",
              "      <td>35.0</td>\n",
              "      <td>web.mit.edu</td>\n",
              "    </tr>\n",
              "    <tr>\n",
              "      <th>4</th>\n",
              "      <td>5.0</td>\n",
              "      <td>Princeton University</td>\n",
              "      <td>Princeton</td>\n",
              "      <td>NJ</td>\n",
              "      <td>Private</td>\n",
              "      <td>5659.0</td>\n",
              "      <td>8273.0</td>\n",
              "      <td>9327.0</td>\n",
              "      <td>48088.0</td>\n",
              "      <td>66150.0</td>\n",
              "      <td>139400.0</td>\n",
              "      <td>6.0</td>\n",
              "      <td>1430.0</td>\n",
              "      <td>1570.0</td>\n",
              "      <td>31.0</td>\n",
              "      <td>35.0</td>\n",
              "      <td>www.princeton.edu</td>\n",
              "    </tr>\n",
              "  </tbody>\n",
              "</table>\n",
              "</div>\n",
              "      <button class=\"colab-df-convert\" onclick=\"convertToInteractive('df-0d925531-c695-4a70-a018-57d2998a02b4')\"\n",
              "              title=\"Convert this dataframe to an interactive table.\"\n",
              "              style=\"display:none;\">\n",
              "        \n",
              "  <svg xmlns=\"http://www.w3.org/2000/svg\" height=\"24px\"viewBox=\"0 0 24 24\"\n",
              "       width=\"24px\">\n",
              "    <path d=\"M0 0h24v24H0V0z\" fill=\"none\"/>\n",
              "    <path d=\"M18.56 5.44l.94 2.06.94-2.06 2.06-.94-2.06-.94-.94-2.06-.94 2.06-2.06.94zm-11 1L8.5 8.5l.94-2.06 2.06-.94-2.06-.94L8.5 2.5l-.94 2.06-2.06.94zm10 10l.94 2.06.94-2.06 2.06-.94-2.06-.94-.94-2.06-.94 2.06-2.06.94z\"/><path d=\"M17.41 7.96l-1.37-1.37c-.4-.4-.92-.59-1.43-.59-.52 0-1.04.2-1.43.59L10.3 9.45l-7.72 7.72c-.78.78-.78 2.05 0 2.83L4 21.41c.39.39.9.59 1.41.59.51 0 1.02-.2 1.41-.59l7.78-7.78 2.81-2.81c.8-.78.8-2.07 0-2.86zM5.41 20L4 18.59l7.72-7.72 1.47 1.35L5.41 20z\"/>\n",
              "  </svg>\n",
              "      </button>\n",
              "      \n",
              "  <style>\n",
              "    .colab-df-container {\n",
              "      display:flex;\n",
              "      flex-wrap:wrap;\n",
              "      gap: 12px;\n",
              "    }\n",
              "\n",
              "    .colab-df-convert {\n",
              "      background-color: #E8F0FE;\n",
              "      border: none;\n",
              "      border-radius: 50%;\n",
              "      cursor: pointer;\n",
              "      display: none;\n",
              "      fill: #1967D2;\n",
              "      height: 32px;\n",
              "      padding: 0 0 0 0;\n",
              "      width: 32px;\n",
              "    }\n",
              "\n",
              "    .colab-df-convert:hover {\n",
              "      background-color: #E2EBFA;\n",
              "      box-shadow: 0px 1px 2px rgba(60, 64, 67, 0.3), 0px 1px 3px 1px rgba(60, 64, 67, 0.15);\n",
              "      fill: #174EA6;\n",
              "    }\n",
              "\n",
              "    [theme=dark] .colab-df-convert {\n",
              "      background-color: #3B4455;\n",
              "      fill: #D2E3FC;\n",
              "    }\n",
              "\n",
              "    [theme=dark] .colab-df-convert:hover {\n",
              "      background-color: #434B5C;\n",
              "      box-shadow: 0px 1px 3px 1px rgba(0, 0, 0, 0.15);\n",
              "      filter: drop-shadow(0px 1px 2px rgba(0, 0, 0, 0.3));\n",
              "      fill: #FFFFFF;\n",
              "    }\n",
              "  </style>\n",
              "\n",
              "      <script>\n",
              "        const buttonEl =\n",
              "          document.querySelector('#df-0d925531-c695-4a70-a018-57d2998a02b4 button.colab-df-convert');\n",
              "        buttonEl.style.display =\n",
              "          google.colab.kernel.accessAllowed ? 'block' : 'none';\n",
              "\n",
              "        async function convertToInteractive(key) {\n",
              "          const element = document.querySelector('#df-0d925531-c695-4a70-a018-57d2998a02b4');\n",
              "          const dataTable =\n",
              "            await google.colab.kernel.invokeFunction('convertToInteractive',\n",
              "                                                     [key], {});\n",
              "          if (!dataTable) return;\n",
              "\n",
              "          const docLinkHtml = 'Like what you see? Visit the ' +\n",
              "            '<a target=\"_blank\" href=https://colab.research.google.com/notebooks/data_table.ipynb>data table notebook</a>'\n",
              "            + ' to learn more about interactive tables.';\n",
              "          element.innerHTML = '';\n",
              "          dataTable['output_type'] = 'display_data';\n",
              "          await google.colab.output.renderOutput(dataTable, element);\n",
              "          const docLink = document.createElement('div');\n",
              "          docLink.innerHTML = docLinkHtml;\n",
              "          element.appendChild(docLink);\n",
              "        }\n",
              "      </script>\n",
              "    </div>\n",
              "  </div>\n",
              "  "
            ]
          },
          "metadata": {},
          "execution_count": 54
        }
      ]
    },
    {
      "cell_type": "code",
      "source": [
        "forbes_num = forbesraw\n",
        "deletenames = [\"Name\", \"City\", \"State\", \"Public/Private\", \"Website\"] # create list of variables not of interest, columns to delete\n",
        "\n",
        "for name in deletenames:\n",
        "  forbes_num = forbes_num.drop(name,1)\n",
        "\n",
        "forbes_num.head()"
      ],
      "metadata": {
        "id": "-mupVNI4TY-Q",
        "outputId": "6c6911d3-b56a-4235-d42a-59175bedd73a",
        "colab": {
          "base_uri": "https://localhost:8080/",
          "height": 324
        }
      },
      "execution_count": 55,
      "outputs": [
        {
          "output_type": "stream",
          "name": "stderr",
          "text": [
            "/usr/local/lib/python3.7/dist-packages/ipykernel_launcher.py:5: FutureWarning: In a future version of pandas all arguments of DataFrame.drop except for the argument 'labels' will be keyword-only\n",
            "  \"\"\"\n"
          ]
        },
        {
          "output_type": "execute_result",
          "data": {
            "text/plain": [
              "   Rank  Undergraduate Population  Student Population  Net Price  \\\n",
              "0   1.0                   13844.0             31120.0    14327.0   \n",
              "1   2.0                    8402.0             17534.0    13261.0   \n",
              "2   3.0                    6483.0             12974.0    18627.0   \n",
              "3   4.0                    4680.0             11466.0    20771.0   \n",
              "4   5.0                    5659.0              8273.0     9327.0   \n",
              "\n",
              "   Average Grant Aid  Total Annual Cost  Alumni Salary  Acceptance Rate  \\\n",
              "0            49870.0            69600.0       146800.0              5.0   \n",
              "1            50134.0            69109.0       145200.0              5.0   \n",
              "2            50897.0            71290.0       138300.0              7.0   \n",
              "3            43248.0            67430.0       155200.0              7.0   \n",
              "4            48088.0            66150.0       139400.0              6.0   \n",
              "\n",
              "   SAT Lower  SAT Upper  ACT Lower  ACT Upper  \n",
              "0     1460.0     1590.0       32.0       35.0  \n",
              "1     1390.0     1540.0       32.0       35.0  \n",
              "2     1460.0     1580.0       32.0       35.0  \n",
              "3     1490.0     1570.0       33.0       35.0  \n",
              "4     1430.0     1570.0       31.0       35.0  "
            ],
            "text/html": [
              "\n",
              "  <div id=\"df-359ba12c-5333-4b3e-9468-baf03d6e9980\">\n",
              "    <div class=\"colab-df-container\">\n",
              "      <div>\n",
              "<style scoped>\n",
              "    .dataframe tbody tr th:only-of-type {\n",
              "        vertical-align: middle;\n",
              "    }\n",
              "\n",
              "    .dataframe tbody tr th {\n",
              "        vertical-align: top;\n",
              "    }\n",
              "\n",
              "    .dataframe thead th {\n",
              "        text-align: right;\n",
              "    }\n",
              "</style>\n",
              "<table border=\"1\" class=\"dataframe\">\n",
              "  <thead>\n",
              "    <tr style=\"text-align: right;\">\n",
              "      <th></th>\n",
              "      <th>Rank</th>\n",
              "      <th>Undergraduate Population</th>\n",
              "      <th>Student Population</th>\n",
              "      <th>Net Price</th>\n",
              "      <th>Average Grant Aid</th>\n",
              "      <th>Total Annual Cost</th>\n",
              "      <th>Alumni Salary</th>\n",
              "      <th>Acceptance Rate</th>\n",
              "      <th>SAT Lower</th>\n",
              "      <th>SAT Upper</th>\n",
              "      <th>ACT Lower</th>\n",
              "      <th>ACT Upper</th>\n",
              "    </tr>\n",
              "  </thead>\n",
              "  <tbody>\n",
              "    <tr>\n",
              "      <th>0</th>\n",
              "      <td>1.0</td>\n",
              "      <td>13844.0</td>\n",
              "      <td>31120.0</td>\n",
              "      <td>14327.0</td>\n",
              "      <td>49870.0</td>\n",
              "      <td>69600.0</td>\n",
              "      <td>146800.0</td>\n",
              "      <td>5.0</td>\n",
              "      <td>1460.0</td>\n",
              "      <td>1590.0</td>\n",
              "      <td>32.0</td>\n",
              "      <td>35.0</td>\n",
              "    </tr>\n",
              "    <tr>\n",
              "      <th>1</th>\n",
              "      <td>2.0</td>\n",
              "      <td>8402.0</td>\n",
              "      <td>17534.0</td>\n",
              "      <td>13261.0</td>\n",
              "      <td>50134.0</td>\n",
              "      <td>69109.0</td>\n",
              "      <td>145200.0</td>\n",
              "      <td>5.0</td>\n",
              "      <td>1390.0</td>\n",
              "      <td>1540.0</td>\n",
              "      <td>32.0</td>\n",
              "      <td>35.0</td>\n",
              "    </tr>\n",
              "    <tr>\n",
              "      <th>2</th>\n",
              "      <td>3.0</td>\n",
              "      <td>6483.0</td>\n",
              "      <td>12974.0</td>\n",
              "      <td>18627.0</td>\n",
              "      <td>50897.0</td>\n",
              "      <td>71290.0</td>\n",
              "      <td>138300.0</td>\n",
              "      <td>7.0</td>\n",
              "      <td>1460.0</td>\n",
              "      <td>1580.0</td>\n",
              "      <td>32.0</td>\n",
              "      <td>35.0</td>\n",
              "    </tr>\n",
              "    <tr>\n",
              "      <th>3</th>\n",
              "      <td>4.0</td>\n",
              "      <td>4680.0</td>\n",
              "      <td>11466.0</td>\n",
              "      <td>20771.0</td>\n",
              "      <td>43248.0</td>\n",
              "      <td>67430.0</td>\n",
              "      <td>155200.0</td>\n",
              "      <td>7.0</td>\n",
              "      <td>1490.0</td>\n",
              "      <td>1570.0</td>\n",
              "      <td>33.0</td>\n",
              "      <td>35.0</td>\n",
              "    </tr>\n",
              "    <tr>\n",
              "      <th>4</th>\n",
              "      <td>5.0</td>\n",
              "      <td>5659.0</td>\n",
              "      <td>8273.0</td>\n",
              "      <td>9327.0</td>\n",
              "      <td>48088.0</td>\n",
              "      <td>66150.0</td>\n",
              "      <td>139400.0</td>\n",
              "      <td>6.0</td>\n",
              "      <td>1430.0</td>\n",
              "      <td>1570.0</td>\n",
              "      <td>31.0</td>\n",
              "      <td>35.0</td>\n",
              "    </tr>\n",
              "  </tbody>\n",
              "</table>\n",
              "</div>\n",
              "      <button class=\"colab-df-convert\" onclick=\"convertToInteractive('df-359ba12c-5333-4b3e-9468-baf03d6e9980')\"\n",
              "              title=\"Convert this dataframe to an interactive table.\"\n",
              "              style=\"display:none;\">\n",
              "        \n",
              "  <svg xmlns=\"http://www.w3.org/2000/svg\" height=\"24px\"viewBox=\"0 0 24 24\"\n",
              "       width=\"24px\">\n",
              "    <path d=\"M0 0h24v24H0V0z\" fill=\"none\"/>\n",
              "    <path d=\"M18.56 5.44l.94 2.06.94-2.06 2.06-.94-2.06-.94-.94-2.06-.94 2.06-2.06.94zm-11 1L8.5 8.5l.94-2.06 2.06-.94-2.06-.94L8.5 2.5l-.94 2.06-2.06.94zm10 10l.94 2.06.94-2.06 2.06-.94-2.06-.94-.94-2.06-.94 2.06-2.06.94z\"/><path d=\"M17.41 7.96l-1.37-1.37c-.4-.4-.92-.59-1.43-.59-.52 0-1.04.2-1.43.59L10.3 9.45l-7.72 7.72c-.78.78-.78 2.05 0 2.83L4 21.41c.39.39.9.59 1.41.59.51 0 1.02-.2 1.41-.59l7.78-7.78 2.81-2.81c.8-.78.8-2.07 0-2.86zM5.41 20L4 18.59l7.72-7.72 1.47 1.35L5.41 20z\"/>\n",
              "  </svg>\n",
              "      </button>\n",
              "      \n",
              "  <style>\n",
              "    .colab-df-container {\n",
              "      display:flex;\n",
              "      flex-wrap:wrap;\n",
              "      gap: 12px;\n",
              "    }\n",
              "\n",
              "    .colab-df-convert {\n",
              "      background-color: #E8F0FE;\n",
              "      border: none;\n",
              "      border-radius: 50%;\n",
              "      cursor: pointer;\n",
              "      display: none;\n",
              "      fill: #1967D2;\n",
              "      height: 32px;\n",
              "      padding: 0 0 0 0;\n",
              "      width: 32px;\n",
              "    }\n",
              "\n",
              "    .colab-df-convert:hover {\n",
              "      background-color: #E2EBFA;\n",
              "      box-shadow: 0px 1px 2px rgba(60, 64, 67, 0.3), 0px 1px 3px 1px rgba(60, 64, 67, 0.15);\n",
              "      fill: #174EA6;\n",
              "    }\n",
              "\n",
              "    [theme=dark] .colab-df-convert {\n",
              "      background-color: #3B4455;\n",
              "      fill: #D2E3FC;\n",
              "    }\n",
              "\n",
              "    [theme=dark] .colab-df-convert:hover {\n",
              "      background-color: #434B5C;\n",
              "      box-shadow: 0px 1px 3px 1px rgba(0, 0, 0, 0.15);\n",
              "      filter: drop-shadow(0px 1px 2px rgba(0, 0, 0, 0.3));\n",
              "      fill: #FFFFFF;\n",
              "    }\n",
              "  </style>\n",
              "\n",
              "      <script>\n",
              "        const buttonEl =\n",
              "          document.querySelector('#df-359ba12c-5333-4b3e-9468-baf03d6e9980 button.colab-df-convert');\n",
              "        buttonEl.style.display =\n",
              "          google.colab.kernel.accessAllowed ? 'block' : 'none';\n",
              "\n",
              "        async function convertToInteractive(key) {\n",
              "          const element = document.querySelector('#df-359ba12c-5333-4b3e-9468-baf03d6e9980');\n",
              "          const dataTable =\n",
              "            await google.colab.kernel.invokeFunction('convertToInteractive',\n",
              "                                                     [key], {});\n",
              "          if (!dataTable) return;\n",
              "\n",
              "          const docLinkHtml = 'Like what you see? Visit the ' +\n",
              "            '<a target=\"_blank\" href=https://colab.research.google.com/notebooks/data_table.ipynb>data table notebook</a>'\n",
              "            + ' to learn more about interactive tables.';\n",
              "          element.innerHTML = '';\n",
              "          dataTable['output_type'] = 'display_data';\n",
              "          await google.colab.output.renderOutput(dataTable, element);\n",
              "          const docLink = document.createElement('div');\n",
              "          docLink.innerHTML = docLinkHtml;\n",
              "          element.appendChild(docLink);\n",
              "        }\n",
              "      </script>\n",
              "    </div>\n",
              "  </div>\n",
              "  "
            ]
          },
          "metadata": {},
          "execution_count": 55
        }
      ]
    },
    {
      "cell_type": "code",
      "execution_count": 57,
      "metadata": {
        "id": "pvWBk8pkmstW",
        "colab": {
          "base_uri": "https://localhost:8080/"
        },
        "outputId": "da5500d6-5099-461f-9577-33c38f1c6713"
      },
      "outputs": [
        {
          "output_type": "execute_result",
          "data": {
            "text/plain": [
              "LinearRegression()"
            ]
          },
          "metadata": {},
          "execution_count": 57
        }
      ],
      "source": [
        "# Use all 13 predictors to fit linear regression model\n",
        "forbes_num = forbes_num.dropna()\n",
        "X = forbes_num.drop('Rank', axis = 1)\n",
        "\n",
        "lm.fit(X, forbes_num['Rank'])\n",
        "\n",
        "# your turn\n",
        "# notice fit_intercept=True and normalize=True\n",
        "# How would you change the model to not fit an intercept term? "
      ]
    },
    {
      "cell_type": "markdown",
      "metadata": {
        "id": "VEZaczUGmstW"
      },
      "source": [
        "### Estimated intercept and coefficients\n",
        "\n",
        "Let's look at the estimated coefficients from the linear model using `1m.intercept_` and `lm.coef_`.  \n",
        "\n",
        "After we have fit our linear regression model using the least squares method, we want to see what are the estimates of our coefficients $\\beta_0$, $\\beta_1$, ..., $\\beta_{13}$: \n",
        "\n",
        "$$ \\hat{\\beta}_0, \\hat{\\beta}_1, \\ldots, \\hat{\\beta}_{13} $$\n",
        "\n"
      ]
    },
    {
      "cell_type": "code",
      "execution_count": 58,
      "metadata": {
        "id": "rUmO0q2ymstW",
        "colab": {
          "base_uri": "https://localhost:8080/"
        },
        "outputId": "9e55a892-08bc-4673-9aa3-b7a8c6e32e99"
      },
      "outputs": [
        {
          "output_type": "stream",
          "name": "stdout",
          "text": [
            "Estimated intercept coefficient: 1766.0813581511093\n"
          ]
        }
      ],
      "source": [
        "print('Estimated intercept coefficient:', lm.intercept_)"
      ]
    },
    {
      "cell_type": "code",
      "execution_count": 59,
      "metadata": {
        "id": "Whez32IRmstX",
        "colab": {
          "base_uri": "https://localhost:8080/"
        },
        "outputId": "4048d19e-77dd-46fa-970d-4ac8814ce300"
      },
      "outputs": [
        {
          "output_type": "stream",
          "name": "stdout",
          "text": [
            "Number of coefficients: 11\n"
          ]
        }
      ],
      "source": [
        "print('Number of coefficients:', len(lm.coef_))"
      ]
    },
    {
      "cell_type": "code",
      "execution_count": 60,
      "metadata": {
        "id": "dQ5tSpSamstX",
        "colab": {
          "base_uri": "https://localhost:8080/"
        },
        "outputId": "fd06eda0-f192-4979-cf14-0104c2193445"
      },
      "outputs": [
        {
          "output_type": "execute_result",
          "data": {
            "text/plain": [
              "<zip at 0x7fd34c65eb40>"
            ]
          },
          "metadata": {},
          "execution_count": 60
        }
      ],
      "source": [
        "zip(X.columns, lm.coef_)"
      ]
    },
    {
      "cell_type": "code",
      "execution_count": 61,
      "metadata": {
        "id": "1q3P2ruzmstX",
        "colab": {
          "base_uri": "https://localhost:8080/",
          "height": 394
        },
        "outputId": "2e8f65a7-2c1f-4f39-cac0-6558916f587b"
      },
      "outputs": [
        {
          "output_type": "execute_result",
          "data": {
            "text/plain": [
              "                    features  estimatedCoefficients\n",
              "0   Undergraduate Population              -0.003801\n",
              "1         Student Population               0.002003\n",
              "2                  Net Price              -0.000689\n",
              "3          Average Grant Aid               0.003961\n",
              "4          Total Annual Cost              -0.004384\n",
              "5              Alumni Salary              -0.002624\n",
              "6            Acceptance Rate               0.285396\n",
              "7                  SAT Lower              -0.194033\n",
              "8                  SAT Upper              -0.139200\n",
              "9                  ACT Lower             -12.400268\n",
              "10                 ACT Upper             -12.072431"
            ],
            "text/html": [
              "\n",
              "  <div id=\"df-91d37db6-d9cf-46bb-9783-af183facbc31\">\n",
              "    <div class=\"colab-df-container\">\n",
              "      <div>\n",
              "<style scoped>\n",
              "    .dataframe tbody tr th:only-of-type {\n",
              "        vertical-align: middle;\n",
              "    }\n",
              "\n",
              "    .dataframe tbody tr th {\n",
              "        vertical-align: top;\n",
              "    }\n",
              "\n",
              "    .dataframe thead th {\n",
              "        text-align: right;\n",
              "    }\n",
              "</style>\n",
              "<table border=\"1\" class=\"dataframe\">\n",
              "  <thead>\n",
              "    <tr style=\"text-align: right;\">\n",
              "      <th></th>\n",
              "      <th>features</th>\n",
              "      <th>estimatedCoefficients</th>\n",
              "    </tr>\n",
              "  </thead>\n",
              "  <tbody>\n",
              "    <tr>\n",
              "      <th>0</th>\n",
              "      <td>Undergraduate Population</td>\n",
              "      <td>-0.003801</td>\n",
              "    </tr>\n",
              "    <tr>\n",
              "      <th>1</th>\n",
              "      <td>Student Population</td>\n",
              "      <td>0.002003</td>\n",
              "    </tr>\n",
              "    <tr>\n",
              "      <th>2</th>\n",
              "      <td>Net Price</td>\n",
              "      <td>-0.000689</td>\n",
              "    </tr>\n",
              "    <tr>\n",
              "      <th>3</th>\n",
              "      <td>Average Grant Aid</td>\n",
              "      <td>0.003961</td>\n",
              "    </tr>\n",
              "    <tr>\n",
              "      <th>4</th>\n",
              "      <td>Total Annual Cost</td>\n",
              "      <td>-0.004384</td>\n",
              "    </tr>\n",
              "    <tr>\n",
              "      <th>5</th>\n",
              "      <td>Alumni Salary</td>\n",
              "      <td>-0.002624</td>\n",
              "    </tr>\n",
              "    <tr>\n",
              "      <th>6</th>\n",
              "      <td>Acceptance Rate</td>\n",
              "      <td>0.285396</td>\n",
              "    </tr>\n",
              "    <tr>\n",
              "      <th>7</th>\n",
              "      <td>SAT Lower</td>\n",
              "      <td>-0.194033</td>\n",
              "    </tr>\n",
              "    <tr>\n",
              "      <th>8</th>\n",
              "      <td>SAT Upper</td>\n",
              "      <td>-0.139200</td>\n",
              "    </tr>\n",
              "    <tr>\n",
              "      <th>9</th>\n",
              "      <td>ACT Lower</td>\n",
              "      <td>-12.400268</td>\n",
              "    </tr>\n",
              "    <tr>\n",
              "      <th>10</th>\n",
              "      <td>ACT Upper</td>\n",
              "      <td>-12.072431</td>\n",
              "    </tr>\n",
              "  </tbody>\n",
              "</table>\n",
              "</div>\n",
              "      <button class=\"colab-df-convert\" onclick=\"convertToInteractive('df-91d37db6-d9cf-46bb-9783-af183facbc31')\"\n",
              "              title=\"Convert this dataframe to an interactive table.\"\n",
              "              style=\"display:none;\">\n",
              "        \n",
              "  <svg xmlns=\"http://www.w3.org/2000/svg\" height=\"24px\"viewBox=\"0 0 24 24\"\n",
              "       width=\"24px\">\n",
              "    <path d=\"M0 0h24v24H0V0z\" fill=\"none\"/>\n",
              "    <path d=\"M18.56 5.44l.94 2.06.94-2.06 2.06-.94-2.06-.94-.94-2.06-.94 2.06-2.06.94zm-11 1L8.5 8.5l.94-2.06 2.06-.94-2.06-.94L8.5 2.5l-.94 2.06-2.06.94zm10 10l.94 2.06.94-2.06 2.06-.94-2.06-.94-.94-2.06-.94 2.06-2.06.94z\"/><path d=\"M17.41 7.96l-1.37-1.37c-.4-.4-.92-.59-1.43-.59-.52 0-1.04.2-1.43.59L10.3 9.45l-7.72 7.72c-.78.78-.78 2.05 0 2.83L4 21.41c.39.39.9.59 1.41.59.51 0 1.02-.2 1.41-.59l7.78-7.78 2.81-2.81c.8-.78.8-2.07 0-2.86zM5.41 20L4 18.59l7.72-7.72 1.47 1.35L5.41 20z\"/>\n",
              "  </svg>\n",
              "      </button>\n",
              "      \n",
              "  <style>\n",
              "    .colab-df-container {\n",
              "      display:flex;\n",
              "      flex-wrap:wrap;\n",
              "      gap: 12px;\n",
              "    }\n",
              "\n",
              "    .colab-df-convert {\n",
              "      background-color: #E8F0FE;\n",
              "      border: none;\n",
              "      border-radius: 50%;\n",
              "      cursor: pointer;\n",
              "      display: none;\n",
              "      fill: #1967D2;\n",
              "      height: 32px;\n",
              "      padding: 0 0 0 0;\n",
              "      width: 32px;\n",
              "    }\n",
              "\n",
              "    .colab-df-convert:hover {\n",
              "      background-color: #E2EBFA;\n",
              "      box-shadow: 0px 1px 2px rgba(60, 64, 67, 0.3), 0px 1px 3px 1px rgba(60, 64, 67, 0.15);\n",
              "      fill: #174EA6;\n",
              "    }\n",
              "\n",
              "    [theme=dark] .colab-df-convert {\n",
              "      background-color: #3B4455;\n",
              "      fill: #D2E3FC;\n",
              "    }\n",
              "\n",
              "    [theme=dark] .colab-df-convert:hover {\n",
              "      background-color: #434B5C;\n",
              "      box-shadow: 0px 1px 3px 1px rgba(0, 0, 0, 0.15);\n",
              "      filter: drop-shadow(0px 1px 2px rgba(0, 0, 0, 0.3));\n",
              "      fill: #FFFFFF;\n",
              "    }\n",
              "  </style>\n",
              "\n",
              "      <script>\n",
              "        const buttonEl =\n",
              "          document.querySelector('#df-91d37db6-d9cf-46bb-9783-af183facbc31 button.colab-df-convert');\n",
              "        buttonEl.style.display =\n",
              "          google.colab.kernel.accessAllowed ? 'block' : 'none';\n",
              "\n",
              "        async function convertToInteractive(key) {\n",
              "          const element = document.querySelector('#df-91d37db6-d9cf-46bb-9783-af183facbc31');\n",
              "          const dataTable =\n",
              "            await google.colab.kernel.invokeFunction('convertToInteractive',\n",
              "                                                     [key], {});\n",
              "          if (!dataTable) return;\n",
              "\n",
              "          const docLinkHtml = 'Like what you see? Visit the ' +\n",
              "            '<a target=\"_blank\" href=https://colab.research.google.com/notebooks/data_table.ipynb>data table notebook</a>'\n",
              "            + ' to learn more about interactive tables.';\n",
              "          element.innerHTML = '';\n",
              "          dataTable['output_type'] = 'display_data';\n",
              "          await google.colab.output.renderOutput(dataTable, element);\n",
              "          const docLink = document.createElement('div');\n",
              "          docLink.innerHTML = docLinkHtml;\n",
              "          element.appendChild(docLink);\n",
              "        }\n",
              "      </script>\n",
              "    </div>\n",
              "  </div>\n",
              "  "
            ]
          },
          "metadata": {},
          "execution_count": 61
        }
      ],
      "source": [
        "# The coefficients\n",
        "pd.DataFrame(zip(X.columns, lm.coef_), columns = ['features', 'estimatedCoefficients'])"
      ]
    },
    {
      "cell_type": "markdown",
      "metadata": {
        "id": "vZtNLVa5mstX"
      },
      "source": [
        "### Predict Prices \n",
        "\n",
        "We can calculate the predicted prices ($\\hat{Y}_i$) using `lm.predict`. \n",
        "\n",
        "$$ \\hat{Y}_i = \\hat{\\beta}_0 + \\hat{\\beta}_1 X_1 + \\ldots \\hat{\\beta}_{13} X_{13} $$"
      ]
    },
    {
      "cell_type": "code",
      "execution_count": 62,
      "metadata": {
        "id": "yTUctq7OmstX",
        "colab": {
          "base_uri": "https://localhost:8080/"
        },
        "outputId": "6fbe02f6-d76d-49fd-d5df-2336aeb44509"
      },
      "outputs": [
        {
          "output_type": "execute_result",
          "data": {
            "text/plain": [
              "array([ -49.47465295,  -27.32031178,  -39.86798504, -112.06308933,\n",
              "        -11.89007147])"
            ]
          },
          "metadata": {},
          "execution_count": 62
        }
      ],
      "source": [
        "# first five predicted prices\n",
        "lm.predict(X)[0:5]"
      ]
    },
    {
      "cell_type": "code",
      "execution_count": 64,
      "metadata": {
        "id": "Dlc1gTY_mstX",
        "colab": {
          "base_uri": "https://localhost:8080/",
          "height": 325
        },
        "outputId": "db773ad5-0a38-45e2-9cc6-ff83e93cf4db"
      },
      "outputs": [
        {
          "output_type": "execute_result",
          "data": {
            "text/plain": [
              "Text(0, 0.5, 'Frequency')"
            ]
          },
          "metadata": {},
          "execution_count": 64
        },
        {
          "output_type": "display_data",
          "data": {
            "text/plain": [
              "<Figure size 432x288 with 1 Axes>"
            ],
            "image/png": "[encoded data removed]"
          },
          "metadata": {}
        }
      ],
      "source": [
        "plt.hist(lm.predict(X))\n",
        "plt.title('Predicted Ranks (fitted values): $\\hat{Y}_i$')\n",
        "plt.xlabel('Ranks')\n",
        "plt.ylabel('Frequency')"
      ]
    },
    {
      "cell_type": "markdown",
      "metadata": {
        "id": "fziS4QhPmstX"
      },
      "source": [
        "Let's plot the true prices compared to the predicted prices to see they disagree, we saw this exactly befor but this is how you access the predicted values in using `sklearn`."
      ]
    },
    {
      "cell_type": "code",
      "execution_count": 65,
      "metadata": {
        "id": "j-ZXBaywmstX",
        "colab": {
          "base_uri": "https://localhost:8080/",
          "height": 328
        },
        "outputId": "a7b3ef88-3ec9-456c-859b-15c7a947a324"
      },
      "outputs": [
        {
          "output_type": "execute_result",
          "data": {
            "text/plain": [
              "Text(0.5, 1.0, 'Ranks vs Predicted Ranks: $Y_i$ vs $\\\\hat{Y}_i$')"
            ]
          },
          "metadata": {},
          "execution_count": 65
        },
        {
          "output_type": "display_data",
          "data": {
            "text/plain": [
              "<Figure size 432x288 with 1 Axes>"
            ],
            "image/png": "[encoded data removed]"
          },
          "metadata": {}
        }
      ],
      "source": [
        "plt.scatter(forbes_num['Rank'], lm.predict(X))\n",
        "plt.xlabel(\"Ranks: $Y_i$\")\n",
        "plt.ylabel(\"Predicted ranks: $\\hat{Y}_i$\")\n",
        "plt.title(\"Ranks vs Predicted Ranks: $Y_i$ vs $\\hat{Y}_i$\")"
      ]
    },
    {
      "cell_type": "markdown",
      "metadata": {
        "id": "5f-pFawAmstX"
      },
      "source": [
        "### Residual sum of squares\n",
        "\n",
        "Let's calculate the residual sum of squares \n",
        "\n",
        "$$ S = \\sum_{i=1}^N r_i = \\sum_{i=1}^N (y_i - (\\beta_0 + \\beta_1 x_i))^2 $$"
      ]
    },
    {
      "cell_type": "code",
      "execution_count": 66,
      "metadata": {
        "id": "qvidxYTtmstX",
        "colab": {
          "base_uri": "https://localhost:8080/"
        },
        "outputId": "4d008272-b160-4295-9d78-d8caaa77923a"
      },
      "outputs": [
        {
          "output_type": "stream",
          "name": "stdout",
          "text": [
            "3588492.5999069065\n"
          ]
        }
      ],
      "source": [
        "print(np.sum((forbes_num['Rank'] - lm.predict(X)) ** 2))"
      ]
    },
    {
      "cell_type": "markdown",
      "metadata": {
        "id": "R9TL9muTmstY"
      },
      "source": [
        "#### Mean squared error"
      ]
    },
    {
      "cell_type": "code",
      "execution_count": 67,
      "metadata": {
        "id": "-FHVuhWBmstY",
        "colab": {
          "base_uri": "https://localhost:8080/"
        },
        "outputId": "93e2271d-fb9b-43ad-b7a9-28cc8683d71d"
      },
      "outputs": [
        {
          "output_type": "stream",
          "name": "stdout",
          "text": [
            "6848.268320433029\n"
          ]
        }
      ],
      "source": [
        "mseFull = np.mean((forbes_num['Rank'] - lm.predict(X)) ** 2)\n",
        "print(mseFull)"
      ]
    },
    {
      "cell_type": "markdown",
      "metadata": {
        "id": "koE-wB2GmstY"
      },
      "source": [
        "## Relationship between `PTRATIO` and housing price\n",
        "***\n",
        "\n",
        "Try fitting a linear regression model using only the 'Total Annual Cost'\n",
        "\n",
        "Calculate the mean squared error. \n"
      ]
    },
    {
      "cell_type": "code",
      "execution_count": 69,
      "metadata": {
        "id": "OToZEYYemstZ",
        "colab": {
          "base_uri": "https://localhost:8080/"
        },
        "outputId": "cde1e10b-25b7-417d-c835-069c5884b379"
      },
      "outputs": [
        {
          "output_type": "execute_result",
          "data": {
            "text/plain": [
              "LinearRegression()"
            ]
          },
          "metadata": {},
          "execution_count": 69
        }
      ],
      "source": [
        "lm = LinearRegression()\n",
        "lm.fit(X[['Total Annual Cost']], forbes_num['Rank'])"
      ]
    },
    {
      "cell_type": "code",
      "execution_count": 70,
      "metadata": {
        "id": "1yWSIMDRmstZ",
        "colab": {
          "base_uri": "https://localhost:8080/"
        },
        "outputId": "80cca972-040f-4d3d-c2e1-0acc6441c1ba"
      },
      "outputs": [
        {
          "output_type": "stream",
          "name": "stdout",
          "text": [
            "20711.327487755345\n"
          ]
        }
      ],
      "source": [
        "msePTRATIO = np.mean((forbes_num['Rank'] - lm.predict(X[['Total Annual Cost']])) ** 2)\n",
        "print(msePTRATIO)"
      ]
    },
    {
      "cell_type": "markdown",
      "metadata": {
        "id": "rQNYD4d6mstZ"
      },
      "source": [
        "We can also plot the fitted linear regression line. "
      ]
    },
    {
      "cell_type": "code",
      "execution_count": 71,
      "metadata": {
        "id": "i_nZavHJmstZ",
        "colab": {
          "base_uri": "https://localhost:8080/",
          "height": 301
        },
        "outputId": "54bbe8ad-a409-43ab-e4bf-59f1474e75bc"
      },
      "outputs": [
        {
          "output_type": "display_data",
          "data": {
            "text/plain": [
              "<Figure size 432x288 with 1 Axes>"
            ],
            "image/png": "[encoded data removed]"
          },
          "metadata": {}
        }
      ],
      "source": [
        "plt.scatter(forbes_num['Total Annual Cost'], forbes_num['Rank'])\n",
        "plt.xlabel(\"Total Annual Cost\")\n",
        "plt.ylabel(\"Rank\")\n",
        "plt.title(\"Relationship between Total Annual Cost and Rank\")\n",
        "\n",
        "plt.plot(forbes_num['Total Annual Cost'], lm.predict(X[['Total Annual Cost']]), color='blue', linewidth=3)\n",
        "plt.show()"
      ]
    },
    {
      "cell_type": "markdown",
      "metadata": {
        "id": "T8UVyCwmmsta"
      },
      "source": [
        "\n",
        "## Other important things to think about when fitting a linear regression model\n",
        "***\n",
        "<div class=\"span5 alert alert-danger\">\n",
        "<ul>\n",
        "  <li>**Linearity**. The dependent variable $Y$ is a linear combination of the regression coefficients and the independent variables $X$. </li>\n",
        "  <li>**Constant standard deviation**. The SD of the dependent variable $Y$ should be constant for different values of X.  \n",
        "        <ul>\n",
        "            <li>e.g. PTRATIO\n",
        "        </ul>\n",
        "    </li>\n",
        "  <li> **Normal distribution for errors**.  The $\\epsilon$ term we discussed at the beginning are assumed to be normally distributed. \n",
        "  $$ \\epsilon_i \\sim N(0, \\sigma^2)$$\n",
        "Sometimes the distributions of responses $Y$ may not be normally distributed at any given value of $X$.  e.g. skewed positively or negatively. </li>\n",
        "<li> **Independent errors**.  The observations are assumed to be obtained independently.\n",
        "    <ul>\n",
        "        <li>e.g. Observations across time may be correlated\n",
        "    </ul>\n",
        "</li>\n",
        "</ul>  \n",
        "\n",
        "</div>\n"
      ]
    },
    {
      "cell_type": "markdown",
      "metadata": {
        "id": "nt15zL6emsta"
      },
      "source": [
        "# Part 3: Training and Test Data sets\n",
        "\n",
        "### Purpose of splitting data into Training/testing sets\n",
        "***\n",
        "<div class=\"span5 alert alert-info\">\n",
        "\n",
        "<p> Let's stick to the linear regression example: </p>\n",
        "<ul>\n",
        "  <li> We built our model with the requirement that the model fit the data well. </li>\n",
        "  <li> As a side-effect, the model will fit <b>THIS</b> dataset well. What about new data? </li>\n",
        "    <ul>\n",
        "      <li> We wanted the model for predictions, right?</li>\n",
        "    </ul>\n",
        "  <li> One simple solution, leave out some data (for <b>testing</b>) and <b>train</b> the model on the rest </li>\n",
        "  <li> This also leads directly to the idea of cross-validation, next section. </li>  \n",
        "</ul>\n",
        "</div>\n",
        "\n",
        "***\n",
        "\n",
        "One way of doing this is you can create training and testing data sets manually. "
      ]
    },
    {
      "cell_type": "code",
      "execution_count": 72,
      "metadata": {
        "id": "PREywyVZmsta",
        "colab": {
          "base_uri": "https://localhost:8080/"
        },
        "outputId": "1d72296a-63c3-4e05-b880-94358c25cff8"
      },
      "outputs": [
        {
          "output_type": "stream",
          "name": "stdout",
          "text": [
            "(474, 11)\n",
            "(50, 11)\n",
            "(474,)\n",
            "(50,)\n"
          ]
        }
      ],
      "source": [
        "X_train = X[:-50]\n",
        "X_test = X[-50:]\n",
        "Y_train = forbes_num['Rank'][:-50]\n",
        "Y_test = forbes_num['Rank'][-50:]\n",
        "print(X_train.shape)\n",
        "print(X_test.shape)\n",
        "print(Y_train.shape)\n",
        "print(Y_test.shape)"
      ]
    },
    {
      "cell_type": "markdown",
      "metadata": {
        "id": "Q9g0-JWkmsta"
      },
      "source": [
        "Another way, is to split the data into random train and test subsets using the function `train_test_split` in `sklearn.cross_validation`. "
      ]
    },
    {
      "cell_type": "code",
      "execution_count": 73,
      "metadata": {
        "id": "UeW6JyVFmsta"
      },
      "outputs": [],
      "source": [
        "# let's look at the function in the help file\n",
        "sklearn.model_selection.train_test_split?"
      ]
    },
    {
      "cell_type": "code",
      "execution_count": 74,
      "metadata": {
        "id": "fJuT_-DDmsta",
        "colab": {
          "base_uri": "https://localhost:8080/"
        },
        "outputId": "a102d730-6630-46b9-bb4c-70b33dd505bd"
      },
      "outputs": [
        {
          "output_type": "stream",
          "name": "stdout",
          "text": [
            "(351, 11)\n",
            "(173, 11)\n",
            "(351,)\n",
            "(173,)\n"
          ]
        }
      ],
      "source": [
        "X_train, X_test, Y_train, Y_test = sklearn.model_selection.train_test_split(\n",
        "    X, forbes_num['Rank'], test_size=0.33, random_state = 5)\n",
        "print(X_train.shape)\n",
        "print(X_test.shape)\n",
        "print(Y_train.shape)\n",
        "print(Y_test.shape)"
      ]
    },
    {
      "cell_type": "markdown",
      "metadata": {
        "id": "5VvFK1dLmsta"
      },
      "source": [
        "Your turn.  Let's build a linear regression model using our new training data sets. "
      ]
    },
    {
      "cell_type": "code",
      "execution_count": 75,
      "metadata": {
        "id": "fdEDwkqcmsta"
      },
      "outputs": [],
      "source": [
        "lm = LinearRegression()\n",
        "lm.fit(X_train, Y_train)\n",
        "pred_train = lm.predict(X_train)\n",
        "pred_test = lm.predict(X_test)"
      ]
    },
    {
      "cell_type": "markdown",
      "metadata": {
        "id": "f9KOtXXamsta"
      },
      "source": [
        "Now, calculate the mean squared error using just the test data and compare to mean squared from using all the data to fit the model. "
      ]
    },
    {
      "cell_type": "code",
      "execution_count": 76,
      "metadata": {
        "id": "6juppq6kmsta",
        "colab": {
          "base_uri": "https://localhost:8080/"
        },
        "outputId": "db8dfc73-efcb-429e-f67d-e53520239047"
      },
      "outputs": [
        {
          "output_type": "stream",
          "name": "stdout",
          "text": [
            "Fit a model X_train, and calculate MSE with Y_train: 6613.488987879483\n",
            "Fit a model X_train, and calculate MSE with X_test, Y_test: 7600.909294395823\n"
          ]
        }
      ],
      "source": [
        "print(\"Fit a model X_train, and calculate MSE with Y_train:\", np.mean((Y_train - lm.predict(X_train)) ** 2))\n",
        "print(\"Fit a model X_train, and calculate MSE with X_test, Y_test:\", np.mean((Y_test - lm.predict(X_test)) ** 2))"
      ]
    },
    {
      "cell_type": "markdown",
      "metadata": {
        "id": "GQggePuYmsta"
      },
      "source": [
        "#### Residual plots"
      ]
    },
    {
      "cell_type": "code",
      "execution_count": 77,
      "metadata": {
        "id": "4CHpsKBvmsta",
        "colab": {
          "base_uri": "https://localhost:8080/",
          "height": 302
        },
        "outputId": "27d44cac-5220-4f6b-98bf-559f235d92ae"
      },
      "outputs": [
        {
          "output_type": "execute_result",
          "data": {
            "text/plain": [
              "Text(0, 0.5, 'Residuals')"
            ]
          },
          "metadata": {},
          "execution_count": 77
        },
        {
          "output_type": "display_data",
          "data": {
            "text/plain": [
              "<Figure size 432x288 with 1 Axes>"
            ],
            "image/png": "[encoded data removed]"
          },
          "metadata": {}
        }
      ],
      "source": [
        "plt.scatter(lm.predict(X_train), lm.predict(X_train) - Y_train, c='b', s=40, alpha=0.5)\n",
        "plt.scatter(lm.predict(X_test), lm.predict(X_test) - Y_test, c='g', s=40)\n",
        "plt.hlines(y = 0, xmin=0, xmax = 50)\n",
        "plt.title('Residual Plot using training (blue) and test (green) data')\n",
        "plt.ylabel('Residuals')"
      ]
    },
    {
      "cell_type": "markdown",
      "metadata": {
        "id": "LjCGfxwemstb"
      },
      "source": [
        "### K-fold Cross-validation as an extension of this idea\n",
        "***\n",
        "<div class=\"span5 alert alert-info\">\n",
        "\n",
        "<p> A simple extension of the Test/train split is called K-fold cross-validation.  </p>\n",
        "\n",
        "<p> Here's the procedure:</p>\n",
        "<ul>\n",
        "  <li> randomly assign your $n$ samples to one of $K$ groups. They'll each have about $n/k$ samples</li>\n",
        "  <li> For each group $k$: </li>\n",
        "    <ul>\n",
        "      <li> Fit the model (e.g. run regression) on all data excluding the $k^{th}$ group</li>\n",
        "      <li> Use the model to predict the outcomes in group $k$</li>\n",
        "      <li> Calculate your prediction error for each observation in $k^{th}$ group (e.g. $(Y_i - \\hat{Y}_i)^2$ for regression, $\\mathbb{1}(Y_i = \\hat{Y}_i)$ for logistic regression). </li>\n",
        "    </ul>\n",
        "  <li> Calculate the average prediction error across all samples $Err_{CV} = \\frac{1}{n}\\sum_{i=1}^n (Y_i - \\hat{Y}_i)^2$ </li>\n",
        "</ul>\n",
        "</div>\n",
        "\n",
        "***\n",
        "\n",
        "Luckily you don't have to do this entire process all by hand (``for`` loops, etc.) every single time, ``sci-kit learn`` has a very nice implementation of this, have a look at the [documentation](http://scikit-learn.org/stable/modules/cross_validation.html)."
      ]
    },
    {
      "cell_type": "markdown",
      "metadata": {
        "id": "kAK-Cb5qmstb"
      },
      "source": [
        "## Another Example: Old Faithful Geyser Data Set\n",
        "***\n",
        "\n",
        "The [Old Faithful Geyser](https://stat.ethz.ch/R-manual/R-devel/library/datasets/html/faithful.html) data set is a well-known data set that depicts the relationship of the waiting time between eruptions and the duration of the eruption for the Old Faithful geyser in Yellowstone National Park, Wyoming, USA [[webcam]](http://yellowstone.net/webcams/). This data set is found in the base installation of the [R programming language](http://cran.r-project.org).  \n",
        "\n",
        "`faithful` is a data set with 272 observations on 2 variables.\n",
        "\n",
        "Column name| Description \n",
        "--- | --- \n",
        "eruptions | Eruption time (in mins)\n",
        "waiting\t| Waiting time to next eruption (in mins)\n",
        "\n",
        "There is a function in `statsmodels` (or `sm` for short) called `sm.datasets.get_rdataset` which will download and return a data set found in [R](http://cran.r-project.org).  \n",
        "\n",
        "Let's import the `faithful` dataset. "
      ]
    },
    {
      "cell_type": "code",
      "execution_count": null,
      "metadata": {
        "id": "HAzI2IYdmstb"
      },
      "outputs": [],
      "source": [
        "faithful = sm.datasets.get_rdataset(\"faithful\")"
      ]
    },
    {
      "cell_type": "code",
      "execution_count": null,
      "metadata": {
        "id": "inxnuufrmstb"
      },
      "outputs": [],
      "source": [
        "# Let's look at the help file\n",
        "sm.datasets.get_rdataset?\n",
        "faithful?"
      ]
    },
    {
      "cell_type": "code",
      "execution_count": null,
      "metadata": {
        "id": "wD3_aIfqmstb",
        "colab": {
          "base_uri": "https://localhost:8080/",
          "height": 35
        },
        "outputId": "def8b0b7-2a8f-4a9c-de5a-8b5c42b0ded1"
      },
      "outputs": [
        {
          "output_type": "execute_result",
          "data": {
            "text/plain": [
              "'Old Faithful Geyser Data'"
            ],
            "application/vnd.google.colaboratory.intrinsic+json": {
              "type": "string"
            }
          },
          "metadata": {},
          "execution_count": 51
        }
      ],
      "source": [
        "faithful.title"
      ]
    },
    {
      "cell_type": "code",
      "execution_count": null,
      "metadata": {
        "id": "T4f7NGv2mstb",
        "colab": {
          "base_uri": "https://localhost:8080/",
          "height": 206
        },
        "outputId": "7ef4e9a2-7ba2-4dfe-d67e-99d6d7588fc8"
      },
      "outputs": [
        {
          "output_type": "execute_result",
          "data": {
            "text/plain": [
              "   eruptions  waiting\n",
              "0      3.600       79\n",
              "1      1.800       54\n",
              "2      3.333       74\n",
              "3      2.283       62\n",
              "4      4.533       85"
            ],
            "text/html": [
              "\n",
              "  <div id=\"df-251ecb81-65f1-4b47-8bb5-e4cd8267dee3\">\n",
              "    <div class=\"colab-df-container\">\n",
              "      <div>\n",
              "<style scoped>\n",
              "    .dataframe tbody tr th:only-of-type {\n",
              "        vertical-align: middle;\n",
              "    }\n",
              "\n",
              "    .dataframe tbody tr th {\n",
              "        vertical-align: top;\n",
              "    }\n",
              "\n",
              "    .dataframe thead th {\n",
              "        text-align: right;\n",
              "    }\n",
              "</style>\n",
              "<table border=\"1\" class=\"dataframe\">\n",
              "  <thead>\n",
              "    <tr style=\"text-align: right;\">\n",
              "      <th></th>\n",
              "      <th>eruptions</th>\n",
              "      <th>waiting</th>\n",
              "    </tr>\n",
              "  </thead>\n",
              "  <tbody>\n",
              "    <tr>\n",
              "      <th>0</th>\n",
              "      <td>3.600</td>\n",
              "      <td>79</td>\n",
              "    </tr>\n",
              "    <tr>\n",
              "      <th>1</th>\n",
              "      <td>1.800</td>\n",
              "      <td>54</td>\n",
              "    </tr>\n",
              "    <tr>\n",
              "      <th>2</th>\n",
              "      <td>3.333</td>\n",
              "      <td>74</td>\n",
              "    </tr>\n",
              "    <tr>\n",
              "      <th>3</th>\n",
              "      <td>2.283</td>\n",
              "      <td>62</td>\n",
              "    </tr>\n",
              "    <tr>\n",
              "      <th>4</th>\n",
              "      <td>4.533</td>\n",
              "      <td>85</td>\n",
              "    </tr>\n",
              "  </tbody>\n",
              "</table>\n",
              "</div>\n",
              "      <button class=\"colab-df-convert\" onclick=\"convertToInteractive('df-251ecb81-65f1-4b47-8bb5-e4cd8267dee3')\"\n",
              "              title=\"Convert this dataframe to an interactive table.\"\n",
              "              style=\"display:none;\">\n",
              "        \n",
              "  <svg xmlns=\"http://www.w3.org/2000/svg\" height=\"24px\"viewBox=\"0 0 24 24\"\n",
              "       width=\"24px\">\n",
              "    <path d=\"M0 0h24v24H0V0z\" fill=\"none\"/>\n",
              "    <path d=\"M18.56 5.44l.94 2.06.94-2.06 2.06-.94-2.06-.94-.94-2.06-.94 2.06-2.06.94zm-11 1L8.5 8.5l.94-2.06 2.06-.94-2.06-.94L8.5 2.5l-.94 2.06-2.06.94zm10 10l.94 2.06.94-2.06 2.06-.94-2.06-.94-.94-2.06-.94 2.06-2.06.94z\"/><path d=\"M17.41 7.96l-1.37-1.37c-.4-.4-.92-.59-1.43-.59-.52 0-1.04.2-1.43.59L10.3 9.45l-7.72 7.72c-.78.78-.78 2.05 0 2.83L4 21.41c.39.39.9.59 1.41.59.51 0 1.02-.2 1.41-.59l7.78-7.78 2.81-2.81c.8-.78.8-2.07 0-2.86zM5.41 20L4 18.59l7.72-7.72 1.47 1.35L5.41 20z\"/>\n",
              "  </svg>\n",
              "      </button>\n",
              "      \n",
              "  <style>\n",
              "    .colab-df-container {\n",
              "      display:flex;\n",
              "      flex-wrap:wrap;\n",
              "      gap: 12px;\n",
              "    }\n",
              "\n",
              "    .colab-df-convert {\n",
              "      background-color: #E8F0FE;\n",
              "      border: none;\n",
              "      border-radius: 50%;\n",
              "      cursor: pointer;\n",
              "      display: none;\n",
              "      fill: #1967D2;\n",
              "      height: 32px;\n",
              "      padding: 0 0 0 0;\n",
              "      width: 32px;\n",
              "    }\n",
              "\n",
              "    .colab-df-convert:hover {\n",
              "      background-color: #E2EBFA;\n",
              "      box-shadow: 0px 1px 2px rgba(60, 64, 67, 0.3), 0px 1px 3px 1px rgba(60, 64, 67, 0.15);\n",
              "      fill: #174EA6;\n",
              "    }\n",
              "\n",
              "    [theme=dark] .colab-df-convert {\n",
              "      background-color: #3B4455;\n",
              "      fill: #D2E3FC;\n",
              "    }\n",
              "\n",
              "    [theme=dark] .colab-df-convert:hover {\n",
              "      background-color: #434B5C;\n",
              "      box-shadow: 0px 1px 3px 1px rgba(0, 0, 0, 0.15);\n",
              "      filter: drop-shadow(0px 1px 2px rgba(0, 0, 0, 0.3));\n",
              "      fill: #FFFFFF;\n",
              "    }\n",
              "  </style>\n",
              "\n",
              "      <script>\n",
              "        const buttonEl =\n",
              "          document.querySelector('#df-251ecb81-65f1-4b47-8bb5-e4cd8267dee3 button.colab-df-convert');\n",
              "        buttonEl.style.display =\n",
              "          google.colab.kernel.accessAllowed ? 'block' : 'none';\n",
              "\n",
              "        async function convertToInteractive(key) {\n",
              "          const element = document.querySelector('#df-251ecb81-65f1-4b47-8bb5-e4cd8267dee3');\n",
              "          const dataTable =\n",
              "            await google.colab.kernel.invokeFunction('convertToInteractive',\n",
              "                                                     [key], {});\n",
              "          if (!dataTable) return;\n",
              "\n",
              "          const docLinkHtml = 'Like what you see? Visit the ' +\n",
              "            '<a target=\"_blank\" href=https://colab.research.google.com/notebooks/data_table.ipynb>data table notebook</a>'\n",
              "            + ' to learn more about interactive tables.';\n",
              "          element.innerHTML = '';\n",
              "          dataTable['output_type'] = 'display_data';\n",
              "          await google.colab.output.renderOutput(dataTable, element);\n",
              "          const docLink = document.createElement('div');\n",
              "          docLink.innerHTML = docLinkHtml;\n",
              "          element.appendChild(docLink);\n",
              "        }\n",
              "      </script>\n",
              "    </div>\n",
              "  </div>\n",
              "  "
            ]
          },
          "metadata": {},
          "execution_count": 52
        }
      ],
      "source": [
        "faithful = faithful.data\n",
        "faithful.head()"
      ]
    },
    {
      "cell_type": "code",
      "execution_count": null,
      "metadata": {
        "id": "B2dZikMZmstb",
        "colab": {
          "base_uri": "https://localhost:8080/"
        },
        "outputId": "24f1b0e0-e8f3-4701-b536-c56cc3f7886c"
      },
      "outputs": [
        {
          "output_type": "execute_result",
          "data": {
            "text/plain": [
              "(272, 2)"
            ]
          },
          "metadata": {},
          "execution_count": 53
        }
      ],
      "source": [
        "faithful.shape"
      ]
    },
    {
      "cell_type": "markdown",
      "metadata": {
        "id": "UtLtLfYjmstb"
      },
      "source": [
        "### Histogram \n",
        "***\n",
        "\n",
        "Create a histogram of the time between eruptions. What do you see? "
      ]
    },
    {
      "cell_type": "code",
      "execution_count": null,
      "metadata": {
        "id": "9AbL3tEVmstb",
        "colab": {
          "base_uri": "https://localhost:8080/",
          "height": 301
        },
        "outputId": "049d1abc-deb8-4cfb-e613-61d33ac08777"
      },
      "outputs": [
        {
          "output_type": "display_data",
          "data": {
            "text/plain": [
              "<Figure size 432x288 with 1 Axes>"
            ],
            "image/png": "[encoded data removed]"
          },
          "metadata": {}
        }
      ],
      "source": [
        "plt.hist(faithful.waiting)\n",
        "plt.xlabel('Waiting time to next eruption (in mins)')\n",
        "plt.ylabel('Frequency')\n",
        "plt.title('Old Faithful Geyser time between eruption')\n",
        "plt.show()"
      ]
    },
    {
      "cell_type": "markdown",
      "metadata": {
        "id": "HyOwrjF9mstb"
      },
      "source": [
        "This histogram indicates [Old Faithful isn’t as “faithful” as you might think](http://people.stern.nyu.edu/jsimonof/classes/2301/pdf/geystime.pdf). "
      ]
    },
    {
      "cell_type": "markdown",
      "metadata": {
        "id": "uE5aso3_msth"
      },
      "source": [
        "### Scatter plot \n",
        "***\n",
        "\n",
        "Create a scatter plot of the `waiting` on the x-axis and the `eruptions` on the y-axis. "
      ]
    },
    {
      "cell_type": "code",
      "execution_count": null,
      "metadata": {
        "id": "ttIxO2jEmsth",
        "colab": {
          "base_uri": "https://localhost:8080/",
          "height": 301
        },
        "outputId": "864ab9e0-258b-4f08-fd64-f6cf6eccd9e0"
      },
      "outputs": [
        {
          "output_type": "display_data",
          "data": {
            "text/plain": [
              "<Figure size 432x288 with 1 Axes>"
            ],
            "image/png": "[encoded data removed]"
          },
          "metadata": {}
        }
      ],
      "source": [
        "plt.scatter(faithful.waiting, faithful.eruptions)\n",
        "plt.xlabel('Waiting time to next eruption (in mins)')\n",
        "plt.ylabel('Eruption time (in mins)')\n",
        "plt.title('Old Faithful Geyser')\n",
        "plt.show()"
      ]
    },
    {
      "cell_type": "markdown",
      "metadata": {
        "id": "_0m3AJPWmsti"
      },
      "source": [
        "### Build a linear regression to predict eruption time using `statsmodels`\n",
        "***\n",
        "\n",
        "Now let's build a linear regression model for the `faithful` DataFrame, and estimate the next eruption duration if the waiting time since the last eruption has been 75 minutes.\n",
        "\n",
        "$$ Eruptions = \\beta_0 + \\beta_1 * Waiting + \\epsilon $$ "
      ]
    },
    {
      "cell_type": "code",
      "execution_count": null,
      "metadata": {
        "id": "95s-PCqfmsti"
      },
      "outputs": [],
      "source": [
        "X = faithful.waiting\n",
        "y = faithful.eruptions\n",
        "model = sm.OLS(y, X)"
      ]
    },
    {
      "cell_type": "code",
      "execution_count": null,
      "metadata": {
        "id": "lXaAp9yQmsti"
      },
      "outputs": [],
      "source": [
        "# Let's look at the options in model\n",
        "# model.<tab>"
      ]
    },
    {
      "cell_type": "code",
      "execution_count": null,
      "metadata": {
        "id": "NxN9FOk8msti"
      },
      "outputs": [],
      "source": [
        "results = model.fit()"
      ]
    },
    {
      "cell_type": "code",
      "execution_count": null,
      "metadata": {
        "id": "k-VyC3Trmsti"
      },
      "outputs": [],
      "source": [
        "# Let's look at the options in results\n",
        "# results.<tab>"
      ]
    },
    {
      "cell_type": "code",
      "execution_count": null,
      "metadata": {
        "id": "VwLXjCsUmsti",
        "colab": {
          "base_uri": "https://localhost:8080/"
        },
        "outputId": "c4559830-4fec-4875-e7ac-f3c4dca08c8e"
      },
      "outputs": [
        {
          "output_type": "stream",
          "name": "stdout",
          "text": [
            "                                 OLS Regression Results                                \n",
            "=======================================================================================\n",
            "Dep. Variable:              eruptions   R-squared (uncentered):                   0.973\n",
            "Model:                            OLS   Adj. R-squared (uncentered):              0.973\n",
            "Method:                 Least Squares   F-statistic:                              9621.\n",
            "Date:                Mon, 09 May 2022   Prob (F-statistic):                   9.97e-214\n",
            "Time:                        17:49:22   Log-Likelihood:                         -250.30\n",
            "No. Observations:                 272   AIC:                                      502.6\n",
            "Df Residuals:                     271   BIC:                                      506.2\n",
            "Df Model:                           1                                                  \n",
            "Covariance Type:            nonrobust                                                  \n",
            "==============================================================================\n",
            "                 coef    std err          t      P>|t|      [0.025      0.975]\n",
            "------------------------------------------------------------------------------\n",
            "waiting        0.0501      0.001     98.086      0.000       0.049       0.051\n",
            "==============================================================================\n",
            "Omnibus:                       37.012   Durbin-Watson:                   2.835\n",
            "Prob(Omnibus):                  0.000   Jarque-Bera (JB):               10.965\n",
            "Skew:                          -0.159   Prob(JB):                      0.00416\n",
            "Kurtosis:                       2.069   Cond. No.                         1.00\n",
            "==============================================================================\n",
            "\n",
            "Warnings:\n",
            "[1] Standard Errors assume that the covariance matrix of the errors is correctly specified.\n"
          ]
        }
      ],
      "source": [
        "print(results.summary())"
      ]
    },
    {
      "cell_type": "code",
      "execution_count": null,
      "metadata": {
        "id": "IS6gQWH_msti",
        "colab": {
          "base_uri": "https://localhost:8080/"
        },
        "outputId": "ab4ee001-039d-4f84-e048-8284b7b5f864"
      },
      "outputs": [
        {
          "output_type": "execute_result",
          "data": {
            "text/plain": [
              "array([0.05012919])"
            ]
          },
          "metadata": {},
          "execution_count": 61
        }
      ],
      "source": [
        "results.params.values"
      ]
    },
    {
      "cell_type": "markdown",
      "metadata": {
        "id": "w648fcQqmsti"
      },
      "source": [
        "We notice, there is no intercept ($\\beta_0$) fit in this linear model.  To add it, we can use the function `sm.add_constant`.  "
      ]
    },
    {
      "cell_type": "code",
      "execution_count": null,
      "metadata": {
        "id": "VJp-Sij9msti",
        "colab": {
          "base_uri": "https://localhost:8080/",
          "height": 262
        },
        "outputId": "b7603778-1541-4c40-e4a1-4520443ca2c7"
      },
      "outputs": [
        {
          "output_type": "stream",
          "name": "stderr",
          "text": [
            "/usr/local/lib/python3.7/dist-packages/statsmodels/tsa/tsatools.py:117: FutureWarning: In a future version of pandas all arguments of concat except for the argument 'objs' will be keyword-only\n",
            "  x = pd.concat(x[::order], 1)\n"
          ]
        },
        {
          "output_type": "execute_result",
          "data": {
            "text/plain": [
              "   const  waiting\n",
              "0    1.0       79\n",
              "1    1.0       54\n",
              "2    1.0       74\n",
              "3    1.0       62\n",
              "4    1.0       85"
            ],
            "text/html": [
              "\n",
              "  <div id=\"df-486df81f-b17d-4ef5-b77f-757123383925\">\n",
              "    <div class=\"colab-df-container\">\n",
              "      <div>\n",
              "<style scoped>\n",
              "    .dataframe tbody tr th:only-of-type {\n",
              "        vertical-align: middle;\n",
              "    }\n",
              "\n",
              "    .dataframe tbody tr th {\n",
              "        vertical-align: top;\n",
              "    }\n",
              "\n",
              "    .dataframe thead th {\n",
              "        text-align: right;\n",
              "    }\n",
              "</style>\n",
              "<table border=\"1\" class=\"dataframe\">\n",
              "  <thead>\n",
              "    <tr style=\"text-align: right;\">\n",
              "      <th></th>\n",
              "      <th>const</th>\n",
              "      <th>waiting</th>\n",
              "    </tr>\n",
              "  </thead>\n",
              "  <tbody>\n",
              "    <tr>\n",
              "      <th>0</th>\n",
              "      <td>1.0</td>\n",
              "      <td>79</td>\n",
              "    </tr>\n",
              "    <tr>\n",
              "      <th>1</th>\n",
              "      <td>1.0</td>\n",
              "      <td>54</td>\n",
              "    </tr>\n",
              "    <tr>\n",
              "      <th>2</th>\n",
              "      <td>1.0</td>\n",
              "      <td>74</td>\n",
              "    </tr>\n",
              "    <tr>\n",
              "      <th>3</th>\n",
              "      <td>1.0</td>\n",
              "      <td>62</td>\n",
              "    </tr>\n",
              "    <tr>\n",
              "      <th>4</th>\n",
              "      <td>1.0</td>\n",
              "      <td>85</td>\n",
              "    </tr>\n",
              "  </tbody>\n",
              "</table>\n",
              "</div>\n",
              "      <button class=\"colab-df-convert\" onclick=\"convertToInteractive('df-486df81f-b17d-4ef5-b77f-757123383925')\"\n",
              "              title=\"Convert this dataframe to an interactive table.\"\n",
              "              style=\"display:none;\">\n",
              "        \n",
              "  <svg xmlns=\"http://www.w3.org/2000/svg\" height=\"24px\"viewBox=\"0 0 24 24\"\n",
              "       width=\"24px\">\n",
              "    <path d=\"M0 0h24v24H0V0z\" fill=\"none\"/>\n",
              "    <path d=\"M18.56 5.44l.94 2.06.94-2.06 2.06-.94-2.06-.94-.94-2.06-.94 2.06-2.06.94zm-11 1L8.5 8.5l.94-2.06 2.06-.94-2.06-.94L8.5 2.5l-.94 2.06-2.06.94zm10 10l.94 2.06.94-2.06 2.06-.94-2.06-.94-.94-2.06-.94 2.06-2.06.94z\"/><path d=\"M17.41 7.96l-1.37-1.37c-.4-.4-.92-.59-1.43-.59-.52 0-1.04.2-1.43.59L10.3 9.45l-7.72 7.72c-.78.78-.78 2.05 0 2.83L4 21.41c.39.39.9.59 1.41.59.51 0 1.02-.2 1.41-.59l7.78-7.78 2.81-2.81c.8-.78.8-2.07 0-2.86zM5.41 20L4 18.59l7.72-7.72 1.47 1.35L5.41 20z\"/>\n",
              "  </svg>\n",
              "      </button>\n",
              "      \n",
              "  <style>\n",
              "    .colab-df-container {\n",
              "      display:flex;\n",
              "      flex-wrap:wrap;\n",
              "      gap: 12px;\n",
              "    }\n",
              "\n",
              "    .colab-df-convert {\n",
              "      background-color: #E8F0FE;\n",
              "      border: none;\n",
              "      border-radius: 50%;\n",
              "      cursor: pointer;\n",
              "      display: none;\n",
              "      fill: #1967D2;\n",
              "      height: 32px;\n",
              "      padding: 0 0 0 0;\n",
              "      width: 32px;\n",
              "    }\n",
              "\n",
              "    .colab-df-convert:hover {\n",
              "      background-color: #E2EBFA;\n",
              "      box-shadow: 0px 1px 2px rgba(60, 64, 67, 0.3), 0px 1px 3px 1px rgba(60, 64, 67, 0.15);\n",
              "      fill: #174EA6;\n",
              "    }\n",
              "\n",
              "    [theme=dark] .colab-df-convert {\n",
              "      background-color: #3B4455;\n",
              "      fill: #D2E3FC;\n",
              "    }\n",
              "\n",
              "    [theme=dark] .colab-df-convert:hover {\n",
              "      background-color: #434B5C;\n",
              "      box-shadow: 0px 1px 3px 1px rgba(0, 0, 0, 0.15);\n",
              "      filter: drop-shadow(0px 1px 2px rgba(0, 0, 0, 0.3));\n",
              "      fill: #FFFFFF;\n",
              "    }\n",
              "  </style>\n",
              "\n",
              "      <script>\n",
              "        const buttonEl =\n",
              "          document.querySelector('#df-486df81f-b17d-4ef5-b77f-757123383925 button.colab-df-convert');\n",
              "        buttonEl.style.display =\n",
              "          google.colab.kernel.accessAllowed ? 'block' : 'none';\n",
              "\n",
              "        async function convertToInteractive(key) {\n",
              "          const element = document.querySelector('#df-486df81f-b17d-4ef5-b77f-757123383925');\n",
              "          const dataTable =\n",
              "            await google.colab.kernel.invokeFunction('convertToInteractive',\n",
              "                                                     [key], {});\n",
              "          if (!dataTable) return;\n",
              "\n",
              "          const docLinkHtml = 'Like what you see? Visit the ' +\n",
              "            '<a target=\"_blank\" href=https://colab.research.google.com/notebooks/data_table.ipynb>data table notebook</a>'\n",
              "            + ' to learn more about interactive tables.';\n",
              "          element.innerHTML = '';\n",
              "          dataTable['output_type'] = 'display_data';\n",
              "          await google.colab.output.renderOutput(dataTable, element);\n",
              "          const docLink = document.createElement('div');\n",
              "          docLink.innerHTML = docLinkHtml;\n",
              "          element.appendChild(docLink);\n",
              "        }\n",
              "      </script>\n",
              "    </div>\n",
              "  </div>\n",
              "  "
            ]
          },
          "metadata": {},
          "execution_count": 62
        }
      ],
      "source": [
        "X = sm.add_constant(X)\n",
        "X.head()"
      ]
    },
    {
      "cell_type": "markdown",
      "metadata": {
        "id": "h-Bcx58Gmsti"
      },
      "source": [
        "Now let's fit a linear regression model with an intercept. "
      ]
    },
    {
      "cell_type": "code",
      "execution_count": null,
      "metadata": {
        "id": "v6Cp23JUmsti",
        "colab": {
          "base_uri": "https://localhost:8080/"
        },
        "outputId": "fe2b9d8a-4d73-406d-b6ff-8f4ce6426577"
      },
      "outputs": [
        {
          "output_type": "stream",
          "name": "stdout",
          "text": [
            "                            OLS Regression Results                            \n",
            "==============================================================================\n",
            "Dep. Variable:              eruptions   R-squared:                       0.811\n",
            "Model:                            OLS   Adj. R-squared:                  0.811\n",
            "Method:                 Least Squares   F-statistic:                     1162.\n",
            "Date:                Mon, 09 May 2022   Prob (F-statistic):          8.13e-100\n",
            "Time:                        17:49:22   Log-Likelihood:                -194.51\n",
            "No. Observations:                 272   AIC:                             393.0\n",
            "Df Residuals:                     270   BIC:                             400.2\n",
            "Df Model:                           1                                         \n",
            "Covariance Type:            nonrobust                                         \n",
            "==============================================================================\n",
            "                 coef    std err          t      P>|t|      [0.025      0.975]\n",
            "------------------------------------------------------------------------------\n",
            "const         -1.8740      0.160    -11.702      0.000      -2.189      -1.559\n",
            "waiting        0.0756      0.002     34.089      0.000       0.071       0.080\n",
            "==============================================================================\n",
            "Omnibus:                        4.133   Durbin-Watson:                   2.561\n",
            "Prob(Omnibus):                  0.127   Jarque-Bera (JB):                3.173\n",
            "Skew:                          -0.138   Prob(JB):                        0.205\n",
            "Kurtosis:                       2.548   Cond. No.                         384.\n",
            "==============================================================================\n",
            "\n",
            "Warnings:\n",
            "[1] Standard Errors assume that the covariance matrix of the errors is correctly specified.\n"
          ]
        }
      ],
      "source": [
        "modelW0 = sm.OLS(y, X)\n",
        "resultsW0 = modelW0.fit()\n",
        "print(resultsW0.summary())"
      ]
    },
    {
      "cell_type": "markdown",
      "metadata": {
        "id": "JRP5TlSLmsti"
      },
      "source": [
        "If you want to predict the time to the next eruption using a waiting time of 75, you can directly estimate this using the equation \n",
        "\n",
        "$$ \\hat{y} = \\hat{\\beta}_0 + \\hat{\\beta}_1 * 75 $$ \n",
        "\n",
        "or you can use `results.predict`.  "
      ]
    },
    {
      "cell_type": "code",
      "execution_count": null,
      "metadata": {
        "id": "d-ZIRrgomsti",
        "colab": {
          "base_uri": "https://localhost:8080/"
        },
        "outputId": "14b3bc7f-2d6a-402f-c7c1-1049207c03e1"
      },
      "outputs": [
        {
          "output_type": "execute_result",
          "data": {
            "text/plain": [
              "3.7980801099789647"
            ]
          },
          "metadata": {},
          "execution_count": 64
        }
      ],
      "source": [
        "newX = np.array([1,75])\n",
        "resultsW0.params[0]*newX[0] + resultsW0.params[1] * newX[1]"
      ]
    },
    {
      "cell_type": "code",
      "execution_count": null,
      "metadata": {
        "id": "qYzHgvLdmsti",
        "colab": {
          "base_uri": "https://localhost:8080/"
        },
        "outputId": "2ff30f2c-2948-4932-93d7-65020f923990"
      },
      "outputs": [
        {
          "output_type": "execute_result",
          "data": {
            "text/plain": [
              "array([3.79808011])"
            ]
          },
          "metadata": {},
          "execution_count": 65
        }
      ],
      "source": [
        "resultsW0.predict(newX)"
      ]
    },
    {
      "cell_type": "markdown",
      "metadata": {
        "id": "9XTeTQAEmsti"
      },
      "source": [
        "Based on this linear regression, if the waiting time since the last eruption has been 75 minutes, we expect the next one to last approximately 3.80 minutes."
      ]
    },
    {
      "cell_type": "markdown",
      "metadata": {
        "id": "J0k28B8Pmsti"
      },
      "source": [
        "### Plot the regression line \n",
        "***\n",
        "\n",
        "Instead of using `resultsW0.predict(X)`, we can use `resultsW0.fittedvalues` which are the $\\hat{y}$. "
      ]
    },
    {
      "cell_type": "code",
      "execution_count": null,
      "metadata": {
        "id": "3NABEnuSmsti",
        "colab": {
          "base_uri": "https://localhost:8080/",
          "height": 301
        },
        "outputId": "e5dd1c3c-1fd6-4279-8b3e-5710b95eee2d"
      },
      "outputs": [
        {
          "output_type": "display_data",
          "data": {
            "text/plain": [
              "<Figure size 432x288 with 1 Axes>"
            ],
            "image/png": "[encoded data removed]"
          },
          "metadata": {}
        }
      ],
      "source": [
        "plt.scatter(faithful.waiting, faithful.eruptions)\n",
        "plt.xlabel('Waiting time to next eruption (in mins)')\n",
        "plt.ylabel('Eruption time (in mins)')\n",
        "plt.title('Old Faithful Geyser')\n",
        "\n",
        "plt.plot(faithful.waiting, resultsW0.fittedvalues, color='blue', linewidth=3)\n",
        "plt.show()"
      ]
    },
    {
      "cell_type": "markdown",
      "metadata": {
        "id": "wn09hvuMmstj"
      },
      "source": [
        "### Residuals, residual sum of squares, mean squared error\n",
        "***\n",
        "\n",
        "Recall, we can directly calculate the residuals as \n",
        "\n",
        "$$r_i = y_i - (\\hat{\\beta}_0 + \\hat{\\beta}_1 x_i)$$\n",
        "\n",
        "To calculate the residual sum of squares, \n",
        "\n",
        "$$ S = \\sum_{i=1}^n r_i = \\sum_{i=1}^n (y_i - (\\hat{\\beta}_0 + \\hat{\\beta}_1 x_i))^2 $$\n",
        "\n",
        "where $n$ is the number of observations.  Alternatively, we can simply ask for the residuals using `resultsW0.predict`"
      ]
    },
    {
      "cell_type": "code",
      "execution_count": null,
      "metadata": {
        "id": "RcZ5I74omstj"
      },
      "outputs": [],
      "source": [
        "resids = faithful.eruptions - resultsW0.predict(X)"
      ]
    },
    {
      "cell_type": "code",
      "execution_count": null,
      "metadata": {
        "id": "Z6JpLAXcmstj"
      },
      "outputs": [],
      "source": [
        "resids = resultsW0.resid"
      ]
    },
    {
      "cell_type": "code",
      "execution_count": null,
      "metadata": {
        "id": "8QE2E8b9mstj",
        "colab": {
          "base_uri": "https://localhost:8080/",
          "height": 301
        },
        "outputId": "aa19e1a4-1d41-4e48-bf38-679663632ef8"
      },
      "outputs": [
        {
          "output_type": "display_data",
          "data": {
            "text/plain": [
              "<Figure size 432x288 with 1 Axes>"
            ],
            "image/png": "[encoded data removed]"
          },
          "metadata": {}
        }
      ],
      "source": [
        "plt.plot(faithful.waiting, resids, 'o')\n",
        "plt.hlines(y = 0, xmin=40, xmax = 100)\n",
        "plt.xlabel('Waiting time')\n",
        "plt.ylabel('Residuals')\n",
        "plt.title('Residual Plot')\n",
        "plt.show()"
      ]
    },
    {
      "cell_type": "markdown",
      "metadata": {
        "id": "U6zPaCgjmstj"
      },
      "source": [
        "The residual sum of squares: "
      ]
    },
    {
      "cell_type": "code",
      "execution_count": null,
      "metadata": {
        "id": "xfv8LYnomstj",
        "colab": {
          "base_uri": "https://localhost:8080/"
        },
        "outputId": "d8b56f78-f44c-4e02-bb00-fe8fb44b9494"
      },
      "outputs": [
        {
          "output_type": "stream",
          "name": "stdout",
          "text": [
            "66.56177571269987\n"
          ]
        }
      ],
      "source": [
        "print(np.sum((faithful.eruptions - resultsW0.predict(X)) ** 2))"
      ]
    },
    {
      "cell_type": "markdown",
      "metadata": {
        "id": "6vwhEUHlmstj"
      },
      "source": [
        "Mean squared error: "
      ]
    },
    {
      "cell_type": "code",
      "execution_count": null,
      "metadata": {
        "id": "KG4rrqtRmstj",
        "colab": {
          "base_uri": "https://localhost:8080/"
        },
        "outputId": "df96b8fa-f5fa-45ba-8940-526f175ae042"
      },
      "outputs": [
        {
          "output_type": "stream",
          "name": "stdout",
          "text": [
            "0.24471241070845534\n"
          ]
        }
      ],
      "source": [
        "print(np.mean((faithful.eruptions - resultsW0.predict(X)) ** 2))"
      ]
    },
    {
      "cell_type": "markdown",
      "metadata": {
        "id": "0GPvjH0Jmstj"
      },
      "source": [
        "## Build a linear regression to predict eruption time using least squares \n",
        "***\n",
        "\n",
        "Now let's build a linear regression model for the `faithful` DataFrame, but instead of using `statmodels` (or `sklearn`), let's use the least squares estimates of the coefficients for the linear regression model.\n",
        "\n",
        "$$ \\hat{\\beta} = (X^{\\top}X)^{-1} X^{\\top}Y $$ \n",
        "\n",
        "The `numpy` function [`np.dot`](http://docs.scipy.org/doc/numpy/reference/generated/numpy.dot.html#numpy.dot) is the dot product (or inner product) of two vectors (or arrays in python).  \n",
        "\n",
        "The `numpy` function [`np.linalg.inv`](http://docs.scipy.org/doc/numpy/reference/generated/numpy.linalg.inv.html#numpy.linalg.inv) can be used to compute the inverse of a matrix. "
      ]
    },
    {
      "cell_type": "code",
      "execution_count": null,
      "metadata": {
        "id": "Bksy2PXlmstj",
        "colab": {
          "base_uri": "https://localhost:8080/"
        },
        "outputId": "3c8dbe74-4b83-4e57-8cd5-ffd3a6526c83"
      },
      "outputs": [
        {
          "output_type": "stream",
          "name": "stderr",
          "text": [
            "/usr/local/lib/python3.7/dist-packages/statsmodels/tsa/tsatools.py:117: FutureWarning: In a future version of pandas all arguments of concat except for the argument 'objs' will be keyword-only\n",
            "  x = pd.concat(x[::order], 1)\n"
          ]
        }
      ],
      "source": [
        "X = sm.add_constant(faithful.waiting)\n",
        "y = faithful.eruptions"
      ]
    },
    {
      "cell_type": "markdown",
      "metadata": {
        "id": "jqvn1avgmstj"
      },
      "source": [
        "First, compute $X^{\\top}X$\n"
      ]
    },
    {
      "cell_type": "code",
      "execution_count": null,
      "metadata": {
        "id": "E8uhnDYYmstj",
        "colab": {
          "base_uri": "https://localhost:8080/"
        },
        "outputId": "09383d74-9f9d-40b7-846f-288066d11e61"
      },
      "outputs": [
        {
          "output_type": "execute_result",
          "data": {
            "text/plain": [
              "array([[2.720000e+02, 1.928400e+04],\n",
              "       [1.928400e+04, 1.417266e+06]])"
            ]
          },
          "metadata": {},
          "execution_count": 73
        }
      ],
      "source": [
        "np.dot(X.T, X)"
      ]
    },
    {
      "cell_type": "markdown",
      "metadata": {
        "id": "6_r3uklHmstj"
      },
      "source": [
        "Next, compute the inverse of $X^{\\top}X$ or $(X^{\\top}X)^{-1}$. "
      ]
    },
    {
      "cell_type": "code",
      "execution_count": null,
      "metadata": {
        "id": "ZTUGUQ52mstj",
        "colab": {
          "base_uri": "https://localhost:8080/"
        },
        "outputId": "5ba89790-ff79-47d9-8065-7d6bd0665eff"
      },
      "outputs": [
        {
          "output_type": "execute_result",
          "data": {
            "text/plain": [
              "array([[ 1.04029479e-01, -1.41547492e-03],\n",
              "       [-1.41547492e-03,  1.99652136e-05]])"
            ]
          },
          "metadata": {},
          "execution_count": 74
        }
      ],
      "source": [
        "np.linalg.inv(np.dot(X.T, X))"
      ]
    },
    {
      "cell_type": "markdown",
      "metadata": {
        "id": "Ev0U6G7amstj"
      },
      "source": [
        "Finally, compute $\\hat{\\beta} = (X^{\\top}X)^{-1} X^{\\top}Y $"
      ]
    },
    {
      "cell_type": "code",
      "execution_count": null,
      "metadata": {
        "id": "l8LARUu7mstk",
        "colab": {
          "base_uri": "https://localhost:8080/"
        },
        "outputId": "e29339e5-d58a-4980-9920-4f65fdfc741a"
      },
      "outputs": [
        {
          "output_type": "stream",
          "name": "stdout",
          "text": [
            "Directly estimating beta: [-1.87401599  0.07562795]\n",
            "Estimating beta using statmodels:  [-1.87401599  0.07562795]\n"
          ]
        }
      ],
      "source": [
        "beta = np.linalg.inv(np.dot(X.T, X)).dot(X.T).dot(y)\n",
        "print(\"Directly estimating beta:\", beta)\n",
        "print(\"Estimating beta using statmodels: \", resultsW0.params.values)"
      ]
    },
    {
      "cell_type": "markdown",
      "metadata": {
        "id": "bfn3QG0ymstk"
      },
      "source": [
        "# Part 4: Many different types of regression\n",
        "***\n",
        "<div class=\"span5 alert alert-info\">\n",
        "\n",
        "<p>You do not always have a continuous $y$ variable that you are measuring. Sometimes it may be binary (e.g. 0 or 1). Sometimes it may be count data.  What do you do?</p>\n",
        "\n",
        "<p>Use other types of regression besides just simple linear regression.</p>  \n",
        "\n",
        "</div>\n"
      ]
    },
    {
      "cell_type": "markdown",
      "metadata": {
        "id": "RDxZxKkzmstk"
      },
      "source": [
        "# Part 5: Logistic Regression\n",
        "***\n"
      ]
    },
    {
      "cell_type": "markdown",
      "metadata": {
        "id": "z6vb0mOJmstk"
      },
      "source": [
        "<div class=\"span5 alert alert-info\">\n",
        "<p>Logistic regression is a probabilistic model that links observed binary data to a set of features.</p>\n",
        "\n",
        "<p>Suppose that we have a set of binary (that is, taking the values 0 or 1) observations $Y_1,\\cdots,Y_n$, and for each observation $Y_i$ we have a vector of features $X_i$. The logistic regression model assumes that there is some set of **weights**, **coefficients**, or **parameters** $\\beta$, one for each feature, so that the data were generated by flipping a weighted coin whose probability of giving a 1 is given by the following equation:\n",
        "\n",
        "$$\n",
        "P(Y_i = 1) = \\mathrm{logistic}(\\sum \\beta_i X_i),\n",
        "$$\n",
        "\n",
        "where\n",
        "\n",
        "$$\n",
        "\\mathrm{logistic}(x) = \\frac{e^x}{1+e^x}.\n",
        "$$\n",
        "</p>\n",
        "<p>When we *fit* a logistic regression model, we determine values for each $\\beta$ that allows the model to best fit the *training data* we have observed. Once we do this, we can use these coefficients to make predictions about data we have not yet observed.</p>\n",
        "\n",
        "</div>"
      ]
    },
    {
      "cell_type": "markdown",
      "metadata": {
        "id": "X5z4_udNmstk"
      },
      "source": [
        "From http://www.edwardtufte.com/tufte/ebooks, in \"Visual and Statistical Thinking: \n",
        "Displays of Evidence for Making Decisions\":\n",
        "\n",
        ">On January 28, 1986, the space shuttle Challenger exploded and seven astronauts died because two rubber O-rings leaked. These rings had lost their resiliency because the shuttle was launched on a very cold day. Ambient temperatures were in the low 30s and the O-rings themselves were much colder, less than 20F.\n",
        "\n",
        ">One day before the flight, the predicted temperature for the launch was 26F to 29F. Concerned that the rings would not seal at such a cold temperature, the engineers who designed the rocket opposed launching Challenger the next day.\n",
        "\n",
        "But they did not make their case persuasively, and were over-ruled by NASA."
      ]
    },
    {
      "cell_type": "code",
      "execution_count": null,
      "metadata": {
        "id": "NCLWtgZfmstk",
        "colab": {
          "base_uri": "https://localhost:8080/",
          "height": 34
        },
        "outputId": "7106e51a-29db-4343-a78f-2af399d9bddd"
      },
      "outputs": [
        {
          "output_type": "execute_result",
          "data": {
            "text/plain": [
              "<IPython.core.display.Image object>"
            ],
            "image/png": "shuttle.png"
          },
          "metadata": {},
          "execution_count": 76
        }
      ],
      "source": [
        "from IPython.display import Image as Im\n",
        "from IPython.display import display\n",
        "Im('shuttle.png')"
      ]
    },
    {
      "cell_type": "markdown",
      "metadata": {
        "id": "YbmBrIKCmstk"
      },
      "source": [
        "The image above shows the leak, where the O-ring failed.\n",
        "\n",
        "We have here data on previous failures of the O-rings at various temperatures."
      ]
    },
    {
      "cell_type": "code",
      "execution_count": null,
      "metadata": {
        "id": "6Ye62rUPmstk",
        "colab": {
          "base_uri": "https://localhost:8080/",
          "height": 189
        },
        "outputId": "af5eda24-bf36-4d39-d7fc-d260764094db"
      },
      "outputs": [
        {
          "output_type": "error",
          "ename": "FileNotFoundError",
          "evalue": "ignored",
          "traceback": [
            "\u001b[0;31m---------------------------------------------------------------------------\u001b[0m",
            "\u001b[0;31mFileNotFoundError\u001b[0m                         Traceback (most recent call last)",
            "\u001b[0;32m<ipython-input-77-1a0ddd09af0f>\u001b[0m in \u001b[0;36m<module>\u001b[0;34m()\u001b[0m\n\u001b[0;32m----> 1\u001b[0;31m \u001b[0mdata\u001b[0m\u001b[0;34m=\u001b[0m\u001b[0mnp\u001b[0m\u001b[0;34m.\u001b[0m\u001b[0marray\u001b[0m\u001b[0;34m(\u001b[0m\u001b[0;34m[\u001b[0m\u001b[0;34m[\u001b[0m\u001b[0mfloat\u001b[0m\u001b[0;34m(\u001b[0m\u001b[0mj\u001b[0m\u001b[0;34m)\u001b[0m \u001b[0;32mfor\u001b[0m \u001b[0mj\u001b[0m \u001b[0;32min\u001b[0m \u001b[0me\u001b[0m\u001b[0;34m.\u001b[0m\u001b[0mstrip\u001b[0m\u001b[0;34m(\u001b[0m\u001b[0;34m)\u001b[0m\u001b[0;34m.\u001b[0m\u001b[0msplit\u001b[0m\u001b[0;34m(\u001b[0m\u001b[0;34m)\u001b[0m\u001b[0;34m]\u001b[0m \u001b[0;32mfor\u001b[0m \u001b[0me\u001b[0m \u001b[0;32min\u001b[0m \u001b[0mopen\u001b[0m\u001b[0;34m(\u001b[0m\u001b[0;34m\"chall.txt\"\u001b[0m\u001b[0;34m)\u001b[0m\u001b[0;34m]\u001b[0m\u001b[0;34m)\u001b[0m\u001b[0;34m\u001b[0m\u001b[0;34m\u001b[0m\u001b[0m\n\u001b[0m\u001b[1;32m      2\u001b[0m \u001b[0mdata\u001b[0m\u001b[0;34m\u001b[0m\u001b[0;34m\u001b[0m\u001b[0m\n",
            "\u001b[0;31mFileNotFoundError\u001b[0m: [Errno 2] No such file or directory: 'chall.txt'"
          ]
        }
      ],
      "source": [
        "data=np.array([[float(j) for j in e.strip().split()] for e in open(\"chall.txt\")])\n",
        "data"
      ]
    },
    {
      "cell_type": "markdown",
      "metadata": {
        "id": "U1vW7Go8mstk"
      },
      "source": [
        "Lets plot this data"
      ]
    },
    {
      "cell_type": "code",
      "execution_count": null,
      "metadata": {
        "id": "xnZK7Gmnmstk"
      },
      "outputs": [],
      "source": [
        "# fit logistic regression model\n",
        "import statsmodels.api as sm\n",
        "from statsmodels.formula.api import logit, glm, ols\n",
        "\n",
        "# statsmodels works nicely with pandas dataframes\n",
        "dat = pd.DataFrame(data, columns = ['Temperature', 'Failure'])\n",
        "logit_model = logit('Failure ~ Temperature',dat).fit()\n",
        "print(logit_model.summary())"
      ]
    },
    {
      "cell_type": "code",
      "source": [
        ""
      ],
      "metadata": {
        "id": "JBNIA3ao7PDv"
      },
      "execution_count": null,
      "outputs": []
    },
    {
      "cell_type": "markdown",
      "metadata": {
        "id": "f7g8aH6Amstk"
      },
      "source": [
        "#### Interpreting p-values:\n",
        "Generally we'd like the p-values to be very small as they represent the probability that we observed such an strong relationship between temperature and O-ring failures purely by chance. So when the p-value is small (we usually consider \"small\" as less than 0.05), what we're saying is that based on the data we observed, we know **fairly certainly** that temperature is strongly associated with the failure of O-rings. This is a very powerful statement that can take us a long way in terms of learning if used properly. Have a look at the Wikipedia page on [p-values](https://en.wikipedia.org/wiki/P-value) for a quick reminder.\n",
        "\n",
        "There are some issues with testing many many hypotheses that we'll also encounter in the homework. But generally, the idea is that the data may (or may not) have information about things you're interested in. We ask the data questions through hypotheses, but the more questions we ask of it, the higher chances we have of the data actually showing associations at random. Have alook at [this article](https://en.wikipedia.org/wiki/Multiple_comparisons_problem) to get an idea of the problem and some solutions. We'll be considering a very crude solution known as the [Bonferroni correction](https://en.wikipedia.org/wiki/Bonferroni_correction) but that is by no means the best solution. "
      ]
    },
    {
      "cell_type": "code",
      "execution_count": null,
      "metadata": {
        "collapsed": true,
        "id": "dMpGvbttmstk"
      },
      "outputs": [],
      "source": [
        "# calculate predicted failure probabilities for new termperatures\n",
        "x = np.linspace(50, 85, 1000)\n",
        "p = logit_model.params\n",
        "eta = p['Intercept'] + x*p['Temperature']\n",
        "y = np.exp(eta)/(1 + np.exp(eta))"
      ]
    },
    {
      "cell_type": "markdown",
      "metadata": {
        "id": "Dy_MIJ4xmstk"
      },
      "source": [
        "Let's plot the data along with a range of predicted failure probabilities for unobserved temperatures."
      ]
    },
    {
      "cell_type": "code",
      "execution_count": null,
      "metadata": {
        "id": "cg85DGGpmstk"
      },
      "outputs": [],
      "source": [
        "# plot data\n",
        "temps, pfail = data[:,0], data[:,1]\n",
        "plt.scatter(temps, pfail)\n",
        "axes=plt.gca()\n",
        "plt.xlabel('Temperature')\n",
        "plt.ylabel('Failure')\n",
        "plt.title('O-ring failures')\n",
        "\n",
        "# plot fitted values\n",
        "plt.plot(x, y)\n",
        "\n",
        "# change limits, for a nicer plot\n",
        "plt.xlim(50, 85)\n",
        "plt.ylim(-0.1, 1.1)\n"
      ]
    },
    {
      "cell_type": "markdown",
      "metadata": {
        "id": "smvve9SQmstl"
      },
      "source": [
        "We can interpret the output from a logistic regression by looking at the coefficient of temperature (as well as the p-value). Since the coefficient of temperature is negative, we can say that an increase in temperature is associated with a decrease in the odds of having an O-ring failure. "
      ]
    }
  ],
  "metadata": {
    "kernelspec": {
      "display_name": "Python 3",
      "name": "python3"
    },
    "language_info": {
      "name": "python"
    },
    "colab": {
      "name": "CaseStudy1.ipynb",
      "provenance": [],
      "collapsed_sections": [
        "gv7-R8NpmstV",
        "T8UVyCwmmsta",
        "LjCGfxwemstb"
      ],
      "include_colab_link": true
    }
  },
  "nbformat": 4,
  "nbformat_minor": 0
}