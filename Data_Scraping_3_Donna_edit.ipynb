{
  "nbformat": 4,
  "nbformat_minor": 0,
  "metadata": {
    "colab": {
      "name": "Data Scraping-3.ipynb",
      "provenance": [],
      "toc_visible": true,
      "include_colab_link": true
    },
    "kernelspec": {
      "name": "python3",
      "display_name": "Python 3"
    },
    "language_info": {
      "name": "python"
    }
  },
  "cells": [
    {
      "cell_type": "markdown",
      "metadata": {
        "id": "view-in-github",
        "colab_type": "text"
      },
      "source": [
        "<a href=\"https://colab.research.google.com/github/dli10/college-rankings-forbes-2019/blob/main/Data_Scraping_3_Donna_edit.ipynb\" target=\"_parent\"><img src=\"https://colab.research.google.com/assets/colab-badge.svg\" alt=\"Open In Colab\"/></a>"
      ]
    },
    {
      "cell_type": "code",
      "source": [
        "!pip install selenium\n",
        "!apt-get update \n",
        "!apt install chromium-chromedriver\n",
        "\n",
        "from selenium import webdriver\n",
        "from bs4 import BeautifulSoup\n",
        "import pandas as pd"
      ],
      "metadata": {
        "id": "C9wItTXj1F6m",
        "colab": {
          "base_uri": "https://localhost:8080/"
        },
        "outputId": "a2993681-ed3d-4097-d0a5-2bea70975b31"
      },
      "execution_count": 32,
      "outputs": [
        {
          "output_type": "stream",
          "name": "stdout",
          "text": [
            "Looking in indexes: https://pypi.org/simple, https://us-python.pkg.dev/colab-wheels/public/simple/\n",
            "Requirement already satisfied: selenium in /usr/local/lib/python3.7/dist-packages (4.1.5)\n",
            "Requirement already satisfied: trio~=0.17 in /usr/local/lib/python3.7/dist-packages (from selenium) (0.20.0)\n",
            "Requirement already satisfied: trio-websocket~=0.9 in /usr/local/lib/python3.7/dist-packages (from selenium) (0.9.2)\n",
            "Requirement already satisfied: urllib3[secure,socks]~=1.26 in /usr/local/lib/python3.7/dist-packages (from selenium) (1.26.9)\n",
            "Requirement already satisfied: idna in /usr/local/lib/python3.7/dist-packages (from trio~=0.17->selenium) (2.10)\n",
            "Requirement already satisfied: async-generator>=1.9 in /usr/local/lib/python3.7/dist-packages (from trio~=0.17->selenium) (1.10)\n",
            "Requirement already satisfied: attrs>=19.2.0 in /usr/local/lib/python3.7/dist-packages (from trio~=0.17->selenium) (21.4.0)\n",
            "Requirement already satisfied: sniffio in /usr/local/lib/python3.7/dist-packages (from trio~=0.17->selenium) (1.2.0)\n",
            "Requirement already satisfied: outcome in /usr/local/lib/python3.7/dist-packages (from trio~=0.17->selenium) (1.1.0)\n",
            "Requirement already satisfied: sortedcontainers in /usr/local/lib/python3.7/dist-packages (from trio~=0.17->selenium) (2.4.0)\n",
            "Requirement already satisfied: wsproto>=0.14 in /usr/local/lib/python3.7/dist-packages (from trio-websocket~=0.9->selenium) (1.1.0)\n",
            "Requirement already satisfied: PySocks!=1.5.7,<2.0,>=1.5.6 in /usr/local/lib/python3.7/dist-packages (from urllib3[secure,socks]~=1.26->selenium) (1.7.1)\n",
            "Requirement already satisfied: pyOpenSSL>=0.14 in /usr/local/lib/python3.7/dist-packages (from urllib3[secure,socks]~=1.26->selenium) (22.0.0)\n",
            "Requirement already satisfied: cryptography>=1.3.4 in /usr/local/lib/python3.7/dist-packages (from urllib3[secure,socks]~=1.26->selenium) (37.0.2)\n",
            "Requirement already satisfied: certifi in /usr/local/lib/python3.7/dist-packages (from urllib3[secure,socks]~=1.26->selenium) (2022.5.18.1)\n",
            "Requirement already satisfied: cffi>=1.12 in /usr/local/lib/python3.7/dist-packages (from cryptography>=1.3.4->urllib3[secure,socks]~=1.26->selenium) (1.15.0)\n",
            "Requirement already satisfied: pycparser in /usr/local/lib/python3.7/dist-packages (from cffi>=1.12->cryptography>=1.3.4->urllib3[secure,socks]~=1.26->selenium) (2.21)\n",
            "Requirement already satisfied: h11<1,>=0.9.0 in /usr/local/lib/python3.7/dist-packages (from wsproto>=0.14->trio-websocket~=0.9->selenium) (0.13.0)\n",
            "Requirement already satisfied: typing-extensions in /usr/local/lib/python3.7/dist-packages (from h11<1,>=0.9.0->wsproto>=0.14->trio-websocket~=0.9->selenium) (4.2.0)\n",
            "Hit:1 https://cloud.r-project.org/bin/linux/ubuntu bionic-cran40/ InRelease\n",
            "Get:2 http://security.ubuntu.com/ubuntu bionic-security InRelease [88.7 kB]\n",
            "Hit:3 https://developer.download.nvidia.com/compute/cuda/repos/ubuntu1804/x86_64  InRelease\n",
            "Hit:4 http://archive.ubuntu.com/ubuntu bionic InRelease\n",
            "Hit:5 http://ppa.launchpad.net/c2d4u.team/c2d4u4.0+/ubuntu bionic InRelease\n",
            "Get:6 http://archive.ubuntu.com/ubuntu bionic-updates InRelease [88.7 kB]\n",
            "Ign:7 https://developer.download.nvidia.com/compute/machine-learning/repos/ubuntu1804/x86_64  InRelease\n",
            "Hit:8 https://developer.download.nvidia.com/compute/machine-learning/repos/ubuntu1804/x86_64  Release\n",
            "Hit:9 http://ppa.launchpad.net/cran/libgit2/ubuntu bionic InRelease\n",
            "Get:10 http://archive.ubuntu.com/ubuntu bionic-backports InRelease [74.6 kB]\n",
            "Get:11 http://ppa.launchpad.net/deadsnakes/ppa/ubuntu bionic InRelease [15.9 kB]\n",
            "Get:12 http://security.ubuntu.com/ubuntu bionic-security/universe amd64 Packages [1,503 kB]\n",
            "Hit:14 http://ppa.launchpad.net/graphics-drivers/ppa/ubuntu bionic InRelease\n",
            "Fetched 1,771 kB in 3s (538 kB/s)\n",
            "Reading package lists... Done\n",
            "Reading package lists... Done\n",
            "Building dependency tree       \n",
            "Reading state information... Done\n",
            "chromium-chromedriver is already the newest version (101.0.4951.64-0ubuntu0.18.04.1).\n",
            "The following package was automatically installed and is no longer required:\n",
            "  libnvidia-common-460\n",
            "Use 'apt autoremove' to remove it.\n",
            "0 upgraded, 0 newly installed, 0 to remove and 48 not upgraded.\n"
          ]
        }
      ]
    },
    {
      "cell_type": "code",
      "source": [
        "options = webdriver.ChromeOptions()\n",
        "options.add_argument('--headless')\n",
        "options.add_argument('--no-sandbox')\n",
        "options.add_argument('--disable-dev-shm-usage')\n",
        "\n",
        "driver = webdriver.Chrome('chromedriver',chrome_options=options)\n",
        "driver.get('https://www.google.nl/')"
      ],
      "metadata": {
        "colab": {
          "base_uri": "https://localhost:8080/"
        },
        "id": "xbjF7-H3tmOe",
        "outputId": "32b37119-9e75-48a6-f0cd-14d677b2a27c"
      },
      "execution_count": 33,
      "outputs": [
        {
          "output_type": "stream",
          "name": "stderr",
          "text": [
            "/usr/local/lib/python3.7/dist-packages/ipykernel_launcher.py:6: DeprecationWarning: use options instead of chrome_options\n",
            "  \n"
          ]
        }
      ]
    },
    {
      "cell_type": "code",
      "source": [
        "# website for fix: https://www.pythonfixing.com/2021/11/fixed-selenium-access-denied.html\n",
        "\n",
        "options.add_argument(\"start-maximized\")\n",
        "options.add_argument('--disable-blink-features=AutomationControlled')\n",
        "options.add_experimental_option(\"excludeSwitches\", [\"enable-automation\"])\n",
        "options.add_experimental_option('useAutomationExtension', False)\n",
        "\n",
        "driver.execute_script(\"Object.defineProperty(navigator, 'webdriver', {get: () => undefined})\")\n",
        "driver.execute_cdp_cmd('Network.setUserAgentOverride', {\"userAgent\": 'Mozilla/5.0 (Windows NT 10.0; Win64; x64) '\n",
        "                                                                     'AppleWebKit/537.36 (KHTML, like Gecko) '\n",
        "                                                                     'Chrome/85.0.4183.102 Safari/537.36'})"
      ],
      "metadata": {
        "colab": {
          "base_uri": "https://localhost:8080/"
        },
        "id": "qO4TSGmFuKaK",
        "outputId": "b4a80bd8-a21c-4bd5-f491-c44761d307fa"
      },
      "execution_count": 34,
      "outputs": [
        {
          "output_type": "execute_result",
          "data": {
            "text/plain": [
              "{}"
            ]
          },
          "metadata": {},
          "execution_count": 34
        }
      ]
    },
    {
      "cell_type": "code",
      "source": [
        "url = 'https://www.forbes.com/colleges/university-of-california-berkeley/?list=top-colleges&sh=7e5e56735bd4'"
      ],
      "metadata": {
        "id": "CL4yo_dIzsA6"
      },
      "execution_count": 35,
      "outputs": []
    },
    {
      "cell_type": "code",
      "source": [
        "driver.get(url)"
      ],
      "metadata": {
        "id": "tImv9qF5razk"
      },
      "execution_count": 36,
      "outputs": []
    },
    {
      "cell_type": "code",
      "source": [
        "content = driver.page_source\n",
        "soup = BeautifulSoup(content)"
      ],
      "metadata": {
        "id": "76FFK6sptazx"
      },
      "execution_count": 37,
      "outputs": []
    },
    {
      "cell_type": "code",
      "source": [
        "#str(soup)"
      ],
      "metadata": {
        "id": "sZ8KQIuAvQxg"
      },
      "execution_count": 38,
      "outputs": []
    },
    {
      "cell_type": "code",
      "source": [
        "#print(soup.prettify())"
      ],
      "metadata": {
        "id": "gHBY_VWpJXd4"
      },
      "execution_count": 39,
      "outputs": []
    },
    {
      "cell_type": "code",
      "source": [
        "soup.findAll('div', attrs={'class':'profile-row__value'})"
      ],
      "metadata": {
        "id": "i3ExPM9OPj7F",
        "outputId": "072b7649-dd0d-4857-8fbe-a132f163179d",
        "colab": {
          "base_uri": "https://localhost:8080/"
        }
      },
      "execution_count": 40,
      "outputs": [
        {
          "output_type": "execute_result",
          "data": {
            "text/plain": [
              "[<div class=\"profile-row__value\"><span class=\"profile-row__value-text\">Berkeley, CA</span></div>,\n",
              " <div class=\"profile-row__value\"><span class=\"profile-row__value-text\">Public</span></div>,\n",
              " <div class=\"profile-row__value\"><span class=\"profile-row__value-text\">31,348</span></div>,\n",
              " <div class=\"profile-row__value\"><span class=\"profile-row__value-text\">43,185</span></div>,\n",
              " <div class=\"profile-row__value\"><span class=\"profile-row__value-text\">$19,126</span></div>,\n",
              " <div class=\"profile-row__value\"><span class=\"profile-row__value-text\">$71,282</span></div>,\n",
              " <div class=\"profile-row__value\"><span class=\"profile-row__value-text\">$138,800</span></div>,\n",
              " <div class=\"profile-row__value\"><span class=\"profile-row__value-text\">16%</span></div>,\n",
              " <div class=\"profile-row__value\"><span class=\"profile-row__value-text\">1330-1530</span></div>,\n",
              " <div class=\"profile-row__value\"><span class=\"profile-row__value-text\">31-35</span></div>,\n",
              " <div class=\"profile-row__value\"><a class=\"profile-row__value-text\" href=\"http://www.berkeley.edu\" rel=\"noopener noreferrer\" target=\"_blank\">www.berkeley.edu</a></div>]"
            ]
          },
          "metadata": {},
          "execution_count": 40
        }
      ]
    },
    {
      "cell_type": "code",
      "source": [
        "soup.findAll('div', attrs={'class':'profile-heading--desktop'})"
      ],
      "metadata": {
        "colab": {
          "base_uri": "https://localhost:8080/"
        },
        "id": "ClrfQNrc9U_o",
        "outputId": "98e60543-b74d-44b2-c11b-22a5e090fb2f"
      },
      "execution_count": 41,
      "outputs": [
        {
          "output_type": "execute_result",
          "data": {
            "text/plain": [
              "[<div class=\"profile-heading--desktop\"><h1>#1 University of California, Berkeley</h1></div>]"
            ]
          },
          "metadata": {},
          "execution_count": 41
        }
      ]
    },
    {
      "cell_type": "code",
      "source": [
        "# lists to save info from all colleges\n",
        "city_state = []\n",
        "public_private = []\n",
        "ug_pop = []\n",
        "stu_pop = []\n",
        "avg_grant_aid = []\n",
        "tot_annual_cost = []\n",
        "alumni_salary = []\n",
        "accept_rate = []\n",
        "sat_range = []\n",
        "act_range = []\n",
        "website = []\n",
        "\n",
        "rank = []\n",
        "school = []"
      ],
      "metadata": {
        "id": "nOUKHRnTwhCU"
      },
      "execution_count": 42,
      "outputs": []
    },
    {
      "cell_type": "code",
      "source": [
        "college = [] # list to save info from college\n",
        "\n",
        "for a in soup.findAll('div', attrs={'class':'profile-row__value'}):\n",
        "  #print(a.text)\n",
        "  college.append(a.text) # get info from one college\n",
        "\n",
        "# append info from one college to lists\n",
        "city_state.append(college[0])\n",
        "public_private.append(college[1])\n",
        "ug_pop.append(college[2])\n",
        "stu_pop.append(college[3])\n",
        "avg_grant_aid.append(college[4])\n",
        "tot_annual_cost.append(college[5])\n",
        "alumni_salary.append(college[6])\n",
        "accept_rate.append(college[7])\n",
        "sat_range.append(college[8])\n",
        "act_range.append(college[9])\n",
        "website.append(college[10])"
      ],
      "metadata": {
        "id": "CI7w4NlbtndZ"
      },
      "execution_count": 43,
      "outputs": []
    },
    {
      "cell_type": "code",
      "source": [
        "for a in soup.findAll('div', attrs={'class':'profile-heading--desktop'}):\n",
        "  print(a.text)\n",
        "  heading = a.text.split(' ', 1)\n",
        "  print(heading)\n",
        "  rank.append(heading[0])\n",
        "  school.append(heading[1])"
      ],
      "metadata": {
        "colab": {
          "base_uri": "https://localhost:8080/"
        },
        "id": "kebrTIDY9ekz",
        "outputId": "764e852e-4b44-45cc-8b0e-f0ced08d39bb"
      },
      "execution_count": 44,
      "outputs": [
        {
          "output_type": "stream",
          "name": "stdout",
          "text": [
            "#1 University of California, Berkeley\n",
            "['#1', 'University of California, Berkeley']\n"
          ]
        }
      ]
    },
    {
      "cell_type": "code",
      "source": [
        "print(city_state)\n",
        "print(public_private)\n",
        "print(ug_pop)\n",
        "print(stu_pop)\n",
        "print(avg_grant_aid)\n",
        "print(tot_annual_cost)\n",
        "print(alumni_salary)\n",
        "print(accept_rate)\n",
        "print(sat_range)\n",
        "print(act_range)\n",
        "print(website)\n",
        "\n",
        "print(rank)\n",
        "print(school)"
      ],
      "metadata": {
        "colab": {
          "base_uri": "https://localhost:8080/"
        },
        "id": "jNGkv1bcwWJC",
        "outputId": "0c5d8e52-b1aa-4ed9-a9bb-f3d006e93c01"
      },
      "execution_count": 45,
      "outputs": [
        {
          "output_type": "stream",
          "name": "stdout",
          "text": [
            "['Berkeley, CA']\n",
            "['Public']\n",
            "['31,348']\n",
            "['43,185']\n",
            "['$19,126']\n",
            "['$71,282']\n",
            "['$138,800']\n",
            "['16%']\n",
            "['1330-1530']\n",
            "['31-35']\n",
            "['www.berkeley.edu']\n",
            "['#1']\n",
            "['University of California, Berkeley']\n"
          ]
        }
      ]
    }
  ]
}