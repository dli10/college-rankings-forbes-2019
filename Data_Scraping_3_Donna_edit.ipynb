{
  "nbformat": 4,
  "nbformat_minor": 0,
  "metadata": {
    "colab": {
      "name": "Data Scraping-3.ipynb",
      "provenance": [],
      "toc_visible": true,
      "include_colab_link": true
    },
    "kernelspec": {
      "name": "python3",
      "display_name": "Python 3"
    },
    "language_info": {
      "name": "python"
    }
  },
  "cells": [
    {
      "cell_type": "markdown",
      "metadata": {
        "id": "view-in-github",
        "colab_type": "text"
      },
      "source": [
        "<a href=\"https://colab.research.google.com/github/dli10/college-rankings-forbes-2019/blob/main/Data_Scraping_3_Donna_edit.ipynb\" target=\"_parent\"><img src=\"https://colab.research.google.com/assets/colab-badge.svg\" alt=\"Open In Colab\"/></a>"
      ]
    },
    {
      "cell_type": "code",
      "source": [
        "from selenium import webdriver\n",
        "from bs4 import BeautifulSoup\n",
        "import pandas as pd"
      ],
      "metadata": {
        "id": "C9wItTXj1F6m"
      },
      "execution_count": 91,
      "outputs": []
    },
    {
      "cell_type": "code",
      "source": [
        "options = webdriver.ChromeOptions()\n",
        "options.add_argument('--headless')\n",
        "options.add_argument('--no-sandbox')\n",
        "options.add_argument('--disable-dev-shm-usage')\n",
        "\n",
        "driver = webdriver.Chrome('chromedriver',chrome_options=options)\n",
        "driver.get('https://www.google.nl/')"
      ],
      "metadata": {
        "colab": {
          "base_uri": "https://localhost:8080/"
        },
        "id": "xbjF7-H3tmOe",
        "outputId": "9d63309b-6064-4da9-8506-2b87f72feb88"
      },
      "execution_count": 92,
      "outputs": [
        {
          "output_type": "stream",
          "name": "stderr",
          "text": [
            "/usr/local/lib/python3.7/dist-packages/ipykernel_launcher.py:6: DeprecationWarning: use options instead of chrome_options\n",
            "  \n"
          ]
        }
      ]
    },
    {
      "cell_type": "code",
      "source": [
        "# website for fix: https://www.pythonfixing.com/2021/11/fixed-selenium-access-denied.html\n",
        "\n",
        "options.add_argument(\"start-maximized\")\n",
        "options.add_argument('--disable-blink-features=AutomationControlled')\n",
        "options.add_experimental_option(\"excludeSwitches\", [\"enable-automation\"])\n",
        "options.add_experimental_option('useAutomationExtension', False)\n",
        "\n",
        "driver.execute_script(\"Object.defineProperty(navigator, 'webdriver', {get: () => undefined})\")\n",
        "driver.execute_cdp_cmd('Network.setUserAgentOverride', {\"userAgent\": 'Mozilla/5.0 (Windows NT 10.0; Win64; x64) '\n",
        "                                                                     'AppleWebKit/537.36 (KHTML, like Gecko) '\n",
        "                                                                     'Chrome/85.0.4183.102 Safari/537.36'})"
      ],
      "metadata": {
        "colab": {
          "base_uri": "https://localhost:8080/"
        },
        "id": "qO4TSGmFuKaK",
        "outputId": "9fe7fe9f-45a3-4334-aa6d-28bf11293bb7"
      },
      "execution_count": 93,
      "outputs": [
        {
          "output_type": "execute_result",
          "data": {
            "text/plain": [
              "{}"
            ]
          },
          "metadata": {},
          "execution_count": 93
        }
      ]
    },
    {
      "cell_type": "code",
      "source": [
        "url = 'https://www.forbes.com/colleges/university-of-california-berkeley/?list=top-colleges&sh=7e5e56735bd4'"
      ],
      "metadata": {
        "id": "CL4yo_dIzsA6"
      },
      "execution_count": 94,
      "outputs": []
    },
    {
      "cell_type": "code",
      "source": [
        "driver.get(url)"
      ],
      "metadata": {
        "id": "tImv9qF5razk"
      },
      "execution_count": 95,
      "outputs": []
    },
    {
      "cell_type": "code",
      "source": [
        "content = driver.page_source\n",
        "soup = BeautifulSoup(content)"
      ],
      "metadata": {
        "id": "76FFK6sptazx"
      },
      "execution_count": 96,
      "outputs": []
    },
    {
      "cell_type": "code",
      "source": [
        "#str(soup)"
      ],
      "metadata": {
        "id": "sZ8KQIuAvQxg"
      },
      "execution_count": 104,
      "outputs": []
    },
    {
      "cell_type": "code",
      "source": [
        "#print(soup.prettify())"
      ],
      "metadata": {
        "id": "gHBY_VWpJXd4"
      },
      "execution_count": 105,
      "outputs": []
    },
    {
      "cell_type": "code",
      "source": [
        "soup.findAll('div', attrs={'class':'profile-row__value'})"
      ],
      "metadata": {
        "id": "i3ExPM9OPj7F",
        "outputId": "f17bc7bb-a11c-4b25-90b8-6f2732372ad9",
        "colab": {
          "base_uri": "https://localhost:8080/"
        }
      },
      "execution_count": 99,
      "outputs": [
        {
          "output_type": "execute_result",
          "data": {
            "text/plain": [
              "[<div class=\"profile-row__value\"><span class=\"profile-row__value-text\">Berkeley, CA</span></div>,\n",
              " <div class=\"profile-row__value\"><span class=\"profile-row__value-text\">Public</span></div>,\n",
              " <div class=\"profile-row__value\"><span class=\"profile-row__value-text\">31,348</span></div>,\n",
              " <div class=\"profile-row__value\"><span class=\"profile-row__value-text\">43,185</span></div>,\n",
              " <div class=\"profile-row__value\"><span class=\"profile-row__value-text\">$19,126</span></div>,\n",
              " <div class=\"profile-row__value\"><span class=\"profile-row__value-text\">$71,282</span></div>,\n",
              " <div class=\"profile-row__value\"><span class=\"profile-row__value-text\">$138,800</span></div>,\n",
              " <div class=\"profile-row__value\"><span class=\"profile-row__value-text\">16%</span></div>,\n",
              " <div class=\"profile-row__value\"><span class=\"profile-row__value-text\">1330-1530</span></div>,\n",
              " <div class=\"profile-row__value\"><span class=\"profile-row__value-text\">31-35</span></div>,\n",
              " <div class=\"profile-row__value\"><a class=\"profile-row__value-text\" href=\"http://www.berkeley.edu\" rel=\"noopener noreferrer\" target=\"_blank\">www.berkeley.edu</a></div>]"
            ]
          },
          "metadata": {},
          "execution_count": 99
        }
      ]
    },
    {
      "cell_type": "code",
      "source": [
        "# lists to save info from all colleges\n",
        "city_state = []\n",
        "public_private = []\n",
        "ug_pop = []\n",
        "stu_pop = []\n",
        "avg_grant_aid = []\n",
        "tot_annual_cost = []\n",
        "alumni_salary = []\n",
        "accept_rate = []\n",
        "sat_range = []\n",
        "act_range = []\n",
        "website = []"
      ],
      "metadata": {
        "id": "nOUKHRnTwhCU"
      },
      "execution_count": 100,
      "outputs": []
    },
    {
      "cell_type": "code",
      "source": [
        "college = [] # list to save info from college\n",
        "\n",
        "for a in soup.findAll('div', attrs={'class':'profile-row__value'}):\n",
        "  #print(a.text)\n",
        "  college.append(a.text) # get info from one college\n",
        "\n",
        "# append info from one college to lists\n",
        "city_state.append(college[0])\n",
        "public_private.append(college[1])\n",
        "ug_pop.append(college[2])\n",
        "stu_pop.append(college[3])\n",
        "avg_grant_aid.append(college[4])\n",
        "tot_annual_cost.append(college[5])\n",
        "alumni_salary.append(college[6])\n",
        "accept_rate.append(college[7])\n",
        "sat_range.append(college[8])\n",
        "act_range.append(college[9])\n",
        "website.append(college[10])"
      ],
      "metadata": {
        "id": "CI7w4NlbtndZ"
      },
      "execution_count": 102,
      "outputs": []
    },
    {
      "cell_type": "code",
      "source": [
        "print(city_state)\n",
        "print(public_private)\n",
        "print(ug_pop)\n",
        "print(stu_pop)\n",
        "print(avg_grant_aid)\n",
        "print(tot_annual_cost)\n",
        "print(alumni_salary)\n",
        "print(accept_rate)\n",
        "print(sat_range)\n",
        "print(act_range)\n",
        "print(website)"
      ],
      "metadata": {
        "colab": {
          "base_uri": "https://localhost:8080/"
        },
        "id": "jNGkv1bcwWJC",
        "outputId": "44cf2f1a-30f2-4e55-fed5-71d4264b4748"
      },
      "execution_count": 103,
      "outputs": [
        {
          "output_type": "stream",
          "name": "stdout",
          "text": [
            "['Berkeley, CA', 'Berkeley, CA']\n",
            "['Public']\n",
            "['31,348']\n",
            "['43,185']\n",
            "['$19,126']\n",
            "['$71,282']\n",
            "['$138,800']\n",
            "['16%']\n",
            "['1330-1530']\n",
            "['31-35']\n",
            "['www.berkeley.edu']\n"
          ]
        }
      ]
    }
  ]
}