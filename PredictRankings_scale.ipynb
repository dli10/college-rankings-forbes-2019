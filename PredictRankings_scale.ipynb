{
  "cells": [
    {
      "cell_type": "markdown",
      "metadata": {
        "id": "view-in-github",
        "colab_type": "text"
      },
      "source": [
        "<a href=\"https://colab.research.google.com/github/dli10/college-rankings-forbes-2019/blob/main/PredictRankings_scale.ipynb\" target=\"_parent\"><img src=\"https://colab.research.google.com/assets/colab-badge.svg\" alt=\"Open In Colab\"/></a>"
      ]
    },
    {
      "cell_type": "markdown",
      "metadata": {
        "id": "jsqYzUxDmstJ"
      },
      "source": [
        "# Prediction using Linear Regression\n",
        "\n",
        "* Forbes 2019 College Rankings Data Set\n",
        "\n"
      ]
    },
    {
      "cell_type": "code",
      "execution_count": 60,
      "metadata": {
        "collapsed": true,
        "id": "6sC_4xtGmstL"
      },
      "outputs": [],
      "source": [
        "# special IPython command to prepare the notebook for matplotlib\n",
        "%matplotlib inline \n",
        "\n",
        "import numpy as np\n",
        "import pandas as pd\n",
        "import scipy.stats as stats\n",
        "import matplotlib.pyplot as plt\n",
        "import sklearn\n",
        "import statsmodels.api as sm\n",
        "\n",
        "import seaborn as sns\n",
        "sns.set_theme(style=\"whitegrid\")\n",
        "\n",
        "# special matplotlib argument for improved plots\n",
        "from matplotlib import rcParams"
      ]
    },
    {
      "cell_type": "code",
      "source": [
        "import sys\n",
        "#cwd = os.getcwd()\n",
        "#print(cwd)"
      ],
      "metadata": {
        "id": "1AX38YSC7Rgw"
      },
      "execution_count": 61,
      "outputs": []
    },
    {
      "cell_type": "code",
      "source": [
        "with open('ForbesAmericasTopColleges2019.csv', newline='') as data:\n",
        "    forbesraw = pd.read_csv(data)"
      ],
      "metadata": {
        "id": "2ZH5hsP1Phey"
      },
      "execution_count": 62,
      "outputs": []
    },
    {
      "cell_type": "code",
      "execution_count": 63,
      "metadata": {
        "colab": {
          "base_uri": "https://localhost:8080/"
        },
        "id": "5gLBsuRomstO",
        "outputId": "baba4ba7-6bba-4b61-ad1f-f74593658cf7"
      },
      "outputs": [
        {
          "output_type": "execute_result",
          "data": {
            "text/plain": [
              "Index(['Rank', 'Name', 'City', 'State', 'Public/Private',\n",
              "       'Undergraduate Population', 'Student Population', 'Net Price',\n",
              "       'Average Grant Aid', 'Total Annual Cost', 'Alumni Salary',\n",
              "       'Acceptance Rate', 'SAT Lower', 'SAT Upper', 'ACT Lower', 'ACT Upper',\n",
              "       'Website'],\n",
              "      dtype='object')"
            ]
          },
          "metadata": {},
          "execution_count": 63
        }
      ],
      "source": [
        "forbesraw.keys()"
      ]
    },
    {
      "cell_type": "code",
      "execution_count": 64,
      "metadata": {
        "colab": {
          "base_uri": "https://localhost:8080/"
        },
        "id": "6_ZsnikvmstP",
        "outputId": "986215b4-5429-42d2-8158-8ab6d49a93cc"
      },
      "outputs": [
        {
          "output_type": "execute_result",
          "data": {
            "text/plain": [
              "(650, 17)"
            ]
          },
          "metadata": {},
          "execution_count": 64
        }
      ],
      "source": [
        "forbesraw.shape"
      ]
    },
    {
      "cell_type": "code",
      "execution_count": 65,
      "metadata": {
        "colab": {
          "base_uri": "https://localhost:8080/"
        },
        "id": "lv_g-HBQmstQ",
        "outputId": "3640f468-047a-4bc3-b601-67dea18a90ad"
      },
      "outputs": [
        {
          "output_type": "stream",
          "name": "stdout",
          "text": [
            "Index(['Rank', 'Name', 'City', 'State', 'Public/Private',\n",
            "       'Undergraduate Population', 'Student Population', 'Net Price',\n",
            "       'Average Grant Aid', 'Total Annual Cost', 'Alumni Salary',\n",
            "       'Acceptance Rate', 'SAT Lower', 'SAT Upper', 'ACT Lower', 'ACT Upper',\n",
            "       'Website'],\n",
            "      dtype='object')\n",
            "Index(['Rank', 'Name', 'City', 'State', 'Public/Private',\n",
            "       'Undergraduate_Population', 'Student_Population', 'Net_Price',\n",
            "       'Average_Grant_Aid', 'Total_Annual_Cost', 'Alumni_Salary',\n",
            "       'Acceptance_Rate', 'SAT_Lower', 'SAT_Upper', 'ACT_Lower', 'ACT_Upper',\n",
            "       'Website'],\n",
            "      dtype='object')\n"
          ]
        }
      ],
      "source": [
        "# Print column names\n",
        "print(forbesraw.columns)\n",
        "\n",
        "# Replace spaces in names with underscores\n",
        "forbesraw.columns = forbesraw.columns.str.replace(' ', '_')\n",
        "print(forbesraw.columns)"
      ]
    },
    {
      "cell_type": "code",
      "execution_count": 66,
      "metadata": {
        "colab": {
          "base_uri": "https://localhost:8080/",
          "height": 374
        },
        "id": "8uFJqe87mstR",
        "outputId": "1bd7ceec-7c6c-4431-dfe6-a9eae9dbcdec"
      },
      "outputs": [
        {
          "output_type": "execute_result",
          "data": {
            "text/plain": [
              "   Rank                                   Name       City State  \\\n",
              "0   1.0                     Harvard University  Cambridge    MA   \n",
              "1   2.0                    Stanford University   Stanford    CA   \n",
              "2   3.0                        Yale University  New Haven    CT   \n",
              "3   4.0  Massachusetts Institute of Technology  Cambridge    MA   \n",
              "4   5.0                   Princeton University  Princeton    NJ   \n",
              "\n",
              "  Public/Private  Undergraduate_Population  Student_Population  Net_Price  \\\n",
              "0        Private                   13844.0             31120.0    14327.0   \n",
              "1        Private                    8402.0             17534.0    13261.0   \n",
              "2        Private                    6483.0             12974.0    18627.0   \n",
              "3        Private                    4680.0             11466.0    20771.0   \n",
              "4        Private                    5659.0              8273.0     9327.0   \n",
              "\n",
              "   Average_Grant_Aid  Total_Annual_Cost  Alumni_Salary  Acceptance_Rate  \\\n",
              "0            49870.0            69600.0       146800.0              5.0   \n",
              "1            50134.0            69109.0       145200.0              5.0   \n",
              "2            50897.0            71290.0       138300.0              7.0   \n",
              "3            43248.0            67430.0       155200.0              7.0   \n",
              "4            48088.0            66150.0       139400.0              6.0   \n",
              "\n",
              "   SAT_Lower  SAT_Upper  ACT_Lower  ACT_Upper            Website  \n",
              "0     1460.0     1590.0       32.0       35.0    www.harvard.edu  \n",
              "1     1390.0     1540.0       32.0       35.0   www.stanford.edu  \n",
              "2     1460.0     1580.0       32.0       35.0       www.yale.edu  \n",
              "3     1490.0     1570.0       33.0       35.0        web.mit.edu  \n",
              "4     1430.0     1570.0       31.0       35.0  www.princeton.edu  "
            ],
            "text/html": [
              "\n",
              "  <div id=\"df-5131bcf1-e8bd-45fb-bebf-58e31fcf3e31\">\n",
              "    <div class=\"colab-df-container\">\n",
              "      <div>\n",
              "<style scoped>\n",
              "    .dataframe tbody tr th:only-of-type {\n",
              "        vertical-align: middle;\n",
              "    }\n",
              "\n",
              "    .dataframe tbody tr th {\n",
              "        vertical-align: top;\n",
              "    }\n",
              "\n",
              "    .dataframe thead th {\n",
              "        text-align: right;\n",
              "    }\n",
              "</style>\n",
              "<table border=\"1\" class=\"dataframe\">\n",
              "  <thead>\n",
              "    <tr style=\"text-align: right;\">\n",
              "      <th></th>\n",
              "      <th>Rank</th>\n",
              "      <th>Name</th>\n",
              "      <th>City</th>\n",
              "      <th>State</th>\n",
              "      <th>Public/Private</th>\n",
              "      <th>Undergraduate_Population</th>\n",
              "      <th>Student_Population</th>\n",
              "      <th>Net_Price</th>\n",
              "      <th>Average_Grant_Aid</th>\n",
              "      <th>Total_Annual_Cost</th>\n",
              "      <th>Alumni_Salary</th>\n",
              "      <th>Acceptance_Rate</th>\n",
              "      <th>SAT_Lower</th>\n",
              "      <th>SAT_Upper</th>\n",
              "      <th>ACT_Lower</th>\n",
              "      <th>ACT_Upper</th>\n",
              "      <th>Website</th>\n",
              "    </tr>\n",
              "  </thead>\n",
              "  <tbody>\n",
              "    <tr>\n",
              "      <th>0</th>\n",
              "      <td>1.0</td>\n",
              "      <td>Harvard University</td>\n",
              "      <td>Cambridge</td>\n",
              "      <td>MA</td>\n",
              "      <td>Private</td>\n",
              "      <td>13844.0</td>\n",
              "      <td>31120.0</td>\n",
              "      <td>14327.0</td>\n",
              "      <td>49870.0</td>\n",
              "      <td>69600.0</td>\n",
              "      <td>146800.0</td>\n",
              "      <td>5.0</td>\n",
              "      <td>1460.0</td>\n",
              "      <td>1590.0</td>\n",
              "      <td>32.0</td>\n",
              "      <td>35.0</td>\n",
              "      <td>www.harvard.edu</td>\n",
              "    </tr>\n",
              "    <tr>\n",
              "      <th>1</th>\n",
              "      <td>2.0</td>\n",
              "      <td>Stanford University</td>\n",
              "      <td>Stanford</td>\n",
              "      <td>CA</td>\n",
              "      <td>Private</td>\n",
              "      <td>8402.0</td>\n",
              "      <td>17534.0</td>\n",
              "      <td>13261.0</td>\n",
              "      <td>50134.0</td>\n",
              "      <td>69109.0</td>\n",
              "      <td>145200.0</td>\n",
              "      <td>5.0</td>\n",
              "      <td>1390.0</td>\n",
              "      <td>1540.0</td>\n",
              "      <td>32.0</td>\n",
              "      <td>35.0</td>\n",
              "      <td>www.stanford.edu</td>\n",
              "    </tr>\n",
              "    <tr>\n",
              "      <th>2</th>\n",
              "      <td>3.0</td>\n",
              "      <td>Yale University</td>\n",
              "      <td>New Haven</td>\n",
              "      <td>CT</td>\n",
              "      <td>Private</td>\n",
              "      <td>6483.0</td>\n",
              "      <td>12974.0</td>\n",
              "      <td>18627.0</td>\n",
              "      <td>50897.0</td>\n",
              "      <td>71290.0</td>\n",
              "      <td>138300.0</td>\n",
              "      <td>7.0</td>\n",
              "      <td>1460.0</td>\n",
              "      <td>1580.0</td>\n",
              "      <td>32.0</td>\n",
              "      <td>35.0</td>\n",
              "      <td>www.yale.edu</td>\n",
              "    </tr>\n",
              "    <tr>\n",
              "      <th>3</th>\n",
              "      <td>4.0</td>\n",
              "      <td>Massachusetts Institute of Technology</td>\n",
              "      <td>Cambridge</td>\n",
              "      <td>MA</td>\n",
              "      <td>Private</td>\n",
              "      <td>4680.0</td>\n",
              "      <td>11466.0</td>\n",
              "      <td>20771.0</td>\n",
              "      <td>43248.0</td>\n",
              "      <td>67430.0</td>\n",
              "      <td>155200.0</td>\n",
              "      <td>7.0</td>\n",
              "      <td>1490.0</td>\n",
              "      <td>1570.0</td>\n",
              "      <td>33.0</td>\n",
              "      <td>35.0</td>\n",
              "      <td>web.mit.edu</td>\n",
              "    </tr>\n",
              "    <tr>\n",
              "      <th>4</th>\n",
              "      <td>5.0</td>\n",
              "      <td>Princeton University</td>\n",
              "      <td>Princeton</td>\n",
              "      <td>NJ</td>\n",
              "      <td>Private</td>\n",
              "      <td>5659.0</td>\n",
              "      <td>8273.0</td>\n",
              "      <td>9327.0</td>\n",
              "      <td>48088.0</td>\n",
              "      <td>66150.0</td>\n",
              "      <td>139400.0</td>\n",
              "      <td>6.0</td>\n",
              "      <td>1430.0</td>\n",
              "      <td>1570.0</td>\n",
              "      <td>31.0</td>\n",
              "      <td>35.0</td>\n",
              "      <td>www.princeton.edu</td>\n",
              "    </tr>\n",
              "  </tbody>\n",
              "</table>\n",
              "</div>\n",
              "      <button class=\"colab-df-convert\" onclick=\"convertToInteractive('df-5131bcf1-e8bd-45fb-bebf-58e31fcf3e31')\"\n",
              "              title=\"Convert this dataframe to an interactive table.\"\n",
              "              style=\"display:none;\">\n",
              "        \n",
              "  <svg xmlns=\"http://www.w3.org/2000/svg\" height=\"24px\"viewBox=\"0 0 24 24\"\n",
              "       width=\"24px\">\n",
              "    <path d=\"M0 0h24v24H0V0z\" fill=\"none\"/>\n",
              "    <path d=\"M18.56 5.44l.94 2.06.94-2.06 2.06-.94-2.06-.94-.94-2.06-.94 2.06-2.06.94zm-11 1L8.5 8.5l.94-2.06 2.06-.94-2.06-.94L8.5 2.5l-.94 2.06-2.06.94zm10 10l.94 2.06.94-2.06 2.06-.94-2.06-.94-.94-2.06-.94 2.06-2.06.94z\"/><path d=\"M17.41 7.96l-1.37-1.37c-.4-.4-.92-.59-1.43-.59-.52 0-1.04.2-1.43.59L10.3 9.45l-7.72 7.72c-.78.78-.78 2.05 0 2.83L4 21.41c.39.39.9.59 1.41.59.51 0 1.02-.2 1.41-.59l7.78-7.78 2.81-2.81c.8-.78.8-2.07 0-2.86zM5.41 20L4 18.59l7.72-7.72 1.47 1.35L5.41 20z\"/>\n",
              "  </svg>\n",
              "      </button>\n",
              "      \n",
              "  <style>\n",
              "    .colab-df-container {\n",
              "      display:flex;\n",
              "      flex-wrap:wrap;\n",
              "      gap: 12px;\n",
              "    }\n",
              "\n",
              "    .colab-df-convert {\n",
              "      background-color: #E8F0FE;\n",
              "      border: none;\n",
              "      border-radius: 50%;\n",
              "      cursor: pointer;\n",
              "      display: none;\n",
              "      fill: #1967D2;\n",
              "      height: 32px;\n",
              "      padding: 0 0 0 0;\n",
              "      width: 32px;\n",
              "    }\n",
              "\n",
              "    .colab-df-convert:hover {\n",
              "      background-color: #E2EBFA;\n",
              "      box-shadow: 0px 1px 2px rgba(60, 64, 67, 0.3), 0px 1px 3px 1px rgba(60, 64, 67, 0.15);\n",
              "      fill: #174EA6;\n",
              "    }\n",
              "\n",
              "    [theme=dark] .colab-df-convert {\n",
              "      background-color: #3B4455;\n",
              "      fill: #D2E3FC;\n",
              "    }\n",
              "\n",
              "    [theme=dark] .colab-df-convert:hover {\n",
              "      background-color: #434B5C;\n",
              "      box-shadow: 0px 1px 3px 1px rgba(0, 0, 0, 0.15);\n",
              "      filter: drop-shadow(0px 1px 2px rgba(0, 0, 0, 0.3));\n",
              "      fill: #FFFFFF;\n",
              "    }\n",
              "  </style>\n",
              "\n",
              "      <script>\n",
              "        const buttonEl =\n",
              "          document.querySelector('#df-5131bcf1-e8bd-45fb-bebf-58e31fcf3e31 button.colab-df-convert');\n",
              "        buttonEl.style.display =\n",
              "          google.colab.kernel.accessAllowed ? 'block' : 'none';\n",
              "\n",
              "        async function convertToInteractive(key) {\n",
              "          const element = document.querySelector('#df-5131bcf1-e8bd-45fb-bebf-58e31fcf3e31');\n",
              "          const dataTable =\n",
              "            await google.colab.kernel.invokeFunction('convertToInteractive',\n",
              "                                                     [key], {});\n",
              "          if (!dataTable) return;\n",
              "\n",
              "          const docLinkHtml = 'Like what you see? Visit the ' +\n",
              "            '<a target=\"_blank\" href=https://colab.research.google.com/notebooks/data_table.ipynb>data table notebook</a>'\n",
              "            + ' to learn more about interactive tables.';\n",
              "          element.innerHTML = '';\n",
              "          dataTable['output_type'] = 'display_data';\n",
              "          await google.colab.output.renderOutput(dataTable, element);\n",
              "          const docLink = document.createElement('div');\n",
              "          docLink.innerHTML = docLinkHtml;\n",
              "          element.appendChild(docLink);\n",
              "        }\n",
              "      </script>\n",
              "    </div>\n",
              "  </div>\n",
              "  "
            ]
          },
          "metadata": {},
          "execution_count": 66
        }
      ],
      "source": [
        "forbesraw.head()"
      ]
    },
    {
      "cell_type": "markdown",
      "metadata": {
        "id": "GJAlqKVjmstT"
      },
      "source": [
        "## Summary Statistics\n",
        "***\n",
        "\n",
        "Let's explore this data set.  First we use `describe()` to get basic summary statistics for each of the columns. "
      ]
    },
    {
      "cell_type": "code",
      "execution_count": 67,
      "metadata": {
        "colab": {
          "base_uri": "https://localhost:8080/",
          "height": 364
        },
        "id": "-42XFTnPmstT",
        "outputId": "298a4ffe-9911-4f68-bade-72bcea5d1a42"
      },
      "outputs": [
        {
          "output_type": "execute_result",
          "data": {
            "text/plain": [
              "            Rank  Undergraduate_Population  Student_Population     Net_Price  \\\n",
              "count  650.00000                650.000000          650.000000    648.000000   \n",
              "mean   325.50000              10002.692308        12022.290769  22336.947531   \n",
              "std    187.78312              11162.172430        13175.091581   8269.912032   \n",
              "min      1.00000                185.000000          386.000000      0.000000   \n",
              "25%    163.25000               2020.250000         2240.750000  16410.000000   \n",
              "50%    325.50000               4503.000000         6269.000000  21989.000000   \n",
              "75%    487.75000              15657.000000        17788.000000  27580.500000   \n",
              "max    650.00000              65100.000000        75044.000000  47270.000000   \n",
              "\n",
              "       Average_Grant_Aid  Total_Annual_Cost  Alumni_Salary  Acceptance_Rate  \\\n",
              "count         646.000000         650.000000     635.000000       648.000000   \n",
              "mean        20031.208978       50330.175385   98851.968504        61.597222   \n",
              "std         11175.869976       13223.055038   14335.249458        22.024781   \n",
              "min          2975.000000           0.000000   70700.000000         5.000000   \n",
              "25%          9288.250000       39917.000000   88600.000000        48.000000   \n",
              "50%         19605.000000       50265.000000   96400.000000        67.000000   \n",
              "75%         27474.500000       60771.750000  105600.000000        78.000000   \n",
              "max         50897.000000       75735.000000  158200.000000       100.000000   \n",
              "\n",
              "         SAT_Lower    SAT_Upper   ACT_Lower   ACT_Upper  \n",
              "count   551.000000   551.000000  553.000000  553.000000  \n",
              "mean   1110.145191  1308.078040   23.278481   28.441230  \n",
              "std     127.744079   113.553237    3.729318    3.058115  \n",
              "min     820.000000  1060.000000   15.000000   20.000000  \n",
              "25%    1020.000000  1230.000000   21.000000   26.000000  \n",
              "50%    1080.000000  1290.000000   22.000000   28.000000  \n",
              "75%    1180.000000  1380.000000   25.000000   31.000000  \n",
              "max    1530.000000  1590.000000   34.000000   35.000000  "
            ],
            "text/html": [
              "\n",
              "  <div id=\"df-4e148b89-f334-4c07-be1b-12201be138ff\">\n",
              "    <div class=\"colab-df-container\">\n",
              "      <div>\n",
              "<style scoped>\n",
              "    .dataframe tbody tr th:only-of-type {\n",
              "        vertical-align: middle;\n",
              "    }\n",
              "\n",
              "    .dataframe tbody tr th {\n",
              "        vertical-align: top;\n",
              "    }\n",
              "\n",
              "    .dataframe thead th {\n",
              "        text-align: right;\n",
              "    }\n",
              "</style>\n",
              "<table border=\"1\" class=\"dataframe\">\n",
              "  <thead>\n",
              "    <tr style=\"text-align: right;\">\n",
              "      <th></th>\n",
              "      <th>Rank</th>\n",
              "      <th>Undergraduate_Population</th>\n",
              "      <th>Student_Population</th>\n",
              "      <th>Net_Price</th>\n",
              "      <th>Average_Grant_Aid</th>\n",
              "      <th>Total_Annual_Cost</th>\n",
              "      <th>Alumni_Salary</th>\n",
              "      <th>Acceptance_Rate</th>\n",
              "      <th>SAT_Lower</th>\n",
              "      <th>SAT_Upper</th>\n",
              "      <th>ACT_Lower</th>\n",
              "      <th>ACT_Upper</th>\n",
              "    </tr>\n",
              "  </thead>\n",
              "  <tbody>\n",
              "    <tr>\n",
              "      <th>count</th>\n",
              "      <td>650.00000</td>\n",
              "      <td>650.000000</td>\n",
              "      <td>650.000000</td>\n",
              "      <td>648.000000</td>\n",
              "      <td>646.000000</td>\n",
              "      <td>650.000000</td>\n",
              "      <td>635.000000</td>\n",
              "      <td>648.000000</td>\n",
              "      <td>551.000000</td>\n",
              "      <td>551.000000</td>\n",
              "      <td>553.000000</td>\n",
              "      <td>553.000000</td>\n",
              "    </tr>\n",
              "    <tr>\n",
              "      <th>mean</th>\n",
              "      <td>325.50000</td>\n",
              "      <td>10002.692308</td>\n",
              "      <td>12022.290769</td>\n",
              "      <td>22336.947531</td>\n",
              "      <td>20031.208978</td>\n",
              "      <td>50330.175385</td>\n",
              "      <td>98851.968504</td>\n",
              "      <td>61.597222</td>\n",
              "      <td>1110.145191</td>\n",
              "      <td>1308.078040</td>\n",
              "      <td>23.278481</td>\n",
              "      <td>28.441230</td>\n",
              "    </tr>\n",
              "    <tr>\n",
              "      <th>std</th>\n",
              "      <td>187.78312</td>\n",
              "      <td>11162.172430</td>\n",
              "      <td>13175.091581</td>\n",
              "      <td>8269.912032</td>\n",
              "      <td>11175.869976</td>\n",
              "      <td>13223.055038</td>\n",
              "      <td>14335.249458</td>\n",
              "      <td>22.024781</td>\n",
              "      <td>127.744079</td>\n",
              "      <td>113.553237</td>\n",
              "      <td>3.729318</td>\n",
              "      <td>3.058115</td>\n",
              "    </tr>\n",
              "    <tr>\n",
              "      <th>min</th>\n",
              "      <td>1.00000</td>\n",
              "      <td>185.000000</td>\n",
              "      <td>386.000000</td>\n",
              "      <td>0.000000</td>\n",
              "      <td>2975.000000</td>\n",
              "      <td>0.000000</td>\n",
              "      <td>70700.000000</td>\n",
              "      <td>5.000000</td>\n",
              "      <td>820.000000</td>\n",
              "      <td>1060.000000</td>\n",
              "      <td>15.000000</td>\n",
              "      <td>20.000000</td>\n",
              "    </tr>\n",
              "    <tr>\n",
              "      <th>25%</th>\n",
              "      <td>163.25000</td>\n",
              "      <td>2020.250000</td>\n",
              "      <td>2240.750000</td>\n",
              "      <td>16410.000000</td>\n",
              "      <td>9288.250000</td>\n",
              "      <td>39917.000000</td>\n",
              "      <td>88600.000000</td>\n",
              "      <td>48.000000</td>\n",
              "      <td>1020.000000</td>\n",
              "      <td>1230.000000</td>\n",
              "      <td>21.000000</td>\n",
              "      <td>26.000000</td>\n",
              "    </tr>\n",
              "    <tr>\n",
              "      <th>50%</th>\n",
              "      <td>325.50000</td>\n",
              "      <td>4503.000000</td>\n",
              "      <td>6269.000000</td>\n",
              "      <td>21989.000000</td>\n",
              "      <td>19605.000000</td>\n",
              "      <td>50265.000000</td>\n",
              "      <td>96400.000000</td>\n",
              "      <td>67.000000</td>\n",
              "      <td>1080.000000</td>\n",
              "      <td>1290.000000</td>\n",
              "      <td>22.000000</td>\n",
              "      <td>28.000000</td>\n",
              "    </tr>\n",
              "    <tr>\n",
              "      <th>75%</th>\n",
              "      <td>487.75000</td>\n",
              "      <td>15657.000000</td>\n",
              "      <td>17788.000000</td>\n",
              "      <td>27580.500000</td>\n",
              "      <td>27474.500000</td>\n",
              "      <td>60771.750000</td>\n",
              "      <td>105600.000000</td>\n",
              "      <td>78.000000</td>\n",
              "      <td>1180.000000</td>\n",
              "      <td>1380.000000</td>\n",
              "      <td>25.000000</td>\n",
              "      <td>31.000000</td>\n",
              "    </tr>\n",
              "    <tr>\n",
              "      <th>max</th>\n",
              "      <td>650.00000</td>\n",
              "      <td>65100.000000</td>\n",
              "      <td>75044.000000</td>\n",
              "      <td>47270.000000</td>\n",
              "      <td>50897.000000</td>\n",
              "      <td>75735.000000</td>\n",
              "      <td>158200.000000</td>\n",
              "      <td>100.000000</td>\n",
              "      <td>1530.000000</td>\n",
              "      <td>1590.000000</td>\n",
              "      <td>34.000000</td>\n",
              "      <td>35.000000</td>\n",
              "    </tr>\n",
              "  </tbody>\n",
              "</table>\n",
              "</div>\n",
              "      <button class=\"colab-df-convert\" onclick=\"convertToInteractive('df-4e148b89-f334-4c07-be1b-12201be138ff')\"\n",
              "              title=\"Convert this dataframe to an interactive table.\"\n",
              "              style=\"display:none;\">\n",
              "        \n",
              "  <svg xmlns=\"http://www.w3.org/2000/svg\" height=\"24px\"viewBox=\"0 0 24 24\"\n",
              "       width=\"24px\">\n",
              "    <path d=\"M0 0h24v24H0V0z\" fill=\"none\"/>\n",
              "    <path d=\"M18.56 5.44l.94 2.06.94-2.06 2.06-.94-2.06-.94-.94-2.06-.94 2.06-2.06.94zm-11 1L8.5 8.5l.94-2.06 2.06-.94-2.06-.94L8.5 2.5l-.94 2.06-2.06.94zm10 10l.94 2.06.94-2.06 2.06-.94-2.06-.94-.94-2.06-.94 2.06-2.06.94z\"/><path d=\"M17.41 7.96l-1.37-1.37c-.4-.4-.92-.59-1.43-.59-.52 0-1.04.2-1.43.59L10.3 9.45l-7.72 7.72c-.78.78-.78 2.05 0 2.83L4 21.41c.39.39.9.59 1.41.59.51 0 1.02-.2 1.41-.59l7.78-7.78 2.81-2.81c.8-.78.8-2.07 0-2.86zM5.41 20L4 18.59l7.72-7.72 1.47 1.35L5.41 20z\"/>\n",
              "  </svg>\n",
              "      </button>\n",
              "      \n",
              "  <style>\n",
              "    .colab-df-container {\n",
              "      display:flex;\n",
              "      flex-wrap:wrap;\n",
              "      gap: 12px;\n",
              "    }\n",
              "\n",
              "    .colab-df-convert {\n",
              "      background-color: #E8F0FE;\n",
              "      border: none;\n",
              "      border-radius: 50%;\n",
              "      cursor: pointer;\n",
              "      display: none;\n",
              "      fill: #1967D2;\n",
              "      height: 32px;\n",
              "      padding: 0 0 0 0;\n",
              "      width: 32px;\n",
              "    }\n",
              "\n",
              "    .colab-df-convert:hover {\n",
              "      background-color: #E2EBFA;\n",
              "      box-shadow: 0px 1px 2px rgba(60, 64, 67, 0.3), 0px 1px 3px 1px rgba(60, 64, 67, 0.15);\n",
              "      fill: #174EA6;\n",
              "    }\n",
              "\n",
              "    [theme=dark] .colab-df-convert {\n",
              "      background-color: #3B4455;\n",
              "      fill: #D2E3FC;\n",
              "    }\n",
              "\n",
              "    [theme=dark] .colab-df-convert:hover {\n",
              "      background-color: #434B5C;\n",
              "      box-shadow: 0px 1px 3px 1px rgba(0, 0, 0, 0.15);\n",
              "      filter: drop-shadow(0px 1px 2px rgba(0, 0, 0, 0.3));\n",
              "      fill: #FFFFFF;\n",
              "    }\n",
              "  </style>\n",
              "\n",
              "      <script>\n",
              "        const buttonEl =\n",
              "          document.querySelector('#df-4e148b89-f334-4c07-be1b-12201be138ff button.colab-df-convert');\n",
              "        buttonEl.style.display =\n",
              "          google.colab.kernel.accessAllowed ? 'block' : 'none';\n",
              "\n",
              "        async function convertToInteractive(key) {\n",
              "          const element = document.querySelector('#df-4e148b89-f334-4c07-be1b-12201be138ff');\n",
              "          const dataTable =\n",
              "            await google.colab.kernel.invokeFunction('convertToInteractive',\n",
              "                                                     [key], {});\n",
              "          if (!dataTable) return;\n",
              "\n",
              "          const docLinkHtml = 'Like what you see? Visit the ' +\n",
              "            '<a target=\"_blank\" href=https://colab.research.google.com/notebooks/data_table.ipynb>data table notebook</a>'\n",
              "            + ' to learn more about interactive tables.';\n",
              "          element.innerHTML = '';\n",
              "          dataTable['output_type'] = 'display_data';\n",
              "          await google.colab.output.renderOutput(dataTable, element);\n",
              "          const docLink = document.createElement('div');\n",
              "          docLink.innerHTML = docLinkHtml;\n",
              "          element.appendChild(docLink);\n",
              "        }\n",
              "      </script>\n",
              "    </div>\n",
              "  </div>\n",
              "  "
            ]
          },
          "metadata": {},
          "execution_count": 67
        }
      ],
      "source": [
        "forbesraw.describe()"
      ]
    },
    {
      "cell_type": "markdown",
      "metadata": {
        "id": "zu64pRcXmstU"
      },
      "source": [
        "## Linear regression with Forbes 2019 college rankings\n",
        "***\n",
        "\n",
        "Here, \n",
        "\n",
        "$Y$ = college rankings\n",
        "\n",
        "and\n",
        "\n",
        "$X$ = all the other features (or independent variables)\n",
        "\n",
        "which we will use to fit a linear regression model and predict college rankings. We will use the least squares method as the way to estimate the coefficients.  "
      ]
    },
    {
      "cell_type": "markdown",
      "metadata": {
        "id": "Y9KaddXBmstV"
      },
      "source": [
        "We'll use two ways of fitting a linear regression. We recommend the first but the second is also powerful in its features."
      ]
    },
    {
      "cell_type": "markdown",
      "metadata": {
        "id": "Lb2BzrewmstV"
      },
      "source": [
        "### Fitting Linear Regression using `statsmodels`\n",
        "***"
      ]
    },
    {
      "cell_type": "code",
      "execution_count": 68,
      "metadata": {
        "collapsed": true,
        "id": "_I6SzHfKmstV"
      },
      "outputs": [],
      "source": [
        "# Import regression modules\n",
        "# ols - stands for Ordinary least squares, we'll use this\n",
        "import statsmodels.api as sm\n",
        "from statsmodels.formula.api import ols"
      ]
    },
    {
      "cell_type": "code",
      "source": [
        "forbesraw_no_NaN = forbesraw.dropna()\n",
        "forbesraw_no_NaN.describe()"
      ],
      "metadata": {
        "colab": {
          "base_uri": "https://localhost:8080/",
          "height": 364
        },
        "id": "OBf1itQzTFfI",
        "outputId": "1098b516-517f-49a2-b591-3d94c8f5901e"
      },
      "execution_count": 69,
      "outputs": [
        {
          "output_type": "execute_result",
          "data": {
            "text/plain": [
              "             Rank  Undergraduate_Population  Student_Population     Net_Price  \\\n",
              "count  523.000000                523.000000          523.000000    523.000000   \n",
              "mean   318.500956              10874.346080        13173.776291  22169.518164   \n",
              "std    188.889387              11620.485424        13697.553695   7779.185471   \n",
              "min      1.000000                323.000000          406.000000   1298.000000   \n",
              "25%    154.000000               2151.500000         2500.000000  16258.000000   \n",
              "50%    317.000000               5768.000000         7709.000000  21374.000000   \n",
              "75%    479.500000              17514.500000        20802.000000  27336.000000   \n",
              "max    650.000000              65100.000000        75044.000000  46277.000000   \n",
              "\n",
              "       Average_Grant_Aid  Total_Annual_Cost  Alumni_Salary  Acceptance_Rate  \\\n",
              "count         523.000000         523.000000     523.000000       523.000000   \n",
              "mean        19668.535373       50364.416826   99046.271511        61.623327   \n",
              "std         11247.855910       12628.590736   14597.397831        22.078352   \n",
              "min          3597.000000        8646.000000   70700.000000         5.000000   \n",
              "25%          9034.000000       40009.500000   88600.000000        49.000000   \n",
              "50%         18824.000000       49698.000000   96400.000000        67.000000   \n",
              "75%         26740.000000       60136.500000  106550.000000        78.000000   \n",
              "max         50897.000000       75735.000000  158200.000000       100.000000   \n",
              "\n",
              "         SAT_Lower    SAT_Upper   ACT_Lower   ACT_Upper  \n",
              "count   523.000000   523.000000  523.000000  523.000000  \n",
              "mean   1111.728489  1310.128107   23.372849   28.510516  \n",
              "std     128.771497   114.031172    3.763684    3.062782  \n",
              "min     820.000000  1060.000000   15.000000   20.000000  \n",
              "25%    1024.000000  1230.000000   21.000000   26.000000  \n",
              "50%    1080.000000  1290.000000   22.000000   28.000000  \n",
              "75%    1180.000000  1380.000000   25.500000   31.000000  \n",
              "max    1530.000000  1590.000000   34.000000   35.000000  "
            ],
            "text/html": [
              "\n",
              "  <div id=\"df-a861700e-9347-4e9f-8913-157da025c3f7\">\n",
              "    <div class=\"colab-df-container\">\n",
              "      <div>\n",
              "<style scoped>\n",
              "    .dataframe tbody tr th:only-of-type {\n",
              "        vertical-align: middle;\n",
              "    }\n",
              "\n",
              "    .dataframe tbody tr th {\n",
              "        vertical-align: top;\n",
              "    }\n",
              "\n",
              "    .dataframe thead th {\n",
              "        text-align: right;\n",
              "    }\n",
              "</style>\n",
              "<table border=\"1\" class=\"dataframe\">\n",
              "  <thead>\n",
              "    <tr style=\"text-align: right;\">\n",
              "      <th></th>\n",
              "      <th>Rank</th>\n",
              "      <th>Undergraduate_Population</th>\n",
              "      <th>Student_Population</th>\n",
              "      <th>Net_Price</th>\n",
              "      <th>Average_Grant_Aid</th>\n",
              "      <th>Total_Annual_Cost</th>\n",
              "      <th>Alumni_Salary</th>\n",
              "      <th>Acceptance_Rate</th>\n",
              "      <th>SAT_Lower</th>\n",
              "      <th>SAT_Upper</th>\n",
              "      <th>ACT_Lower</th>\n",
              "      <th>ACT_Upper</th>\n",
              "    </tr>\n",
              "  </thead>\n",
              "  <tbody>\n",
              "    <tr>\n",
              "      <th>count</th>\n",
              "      <td>523.000000</td>\n",
              "      <td>523.000000</td>\n",
              "      <td>523.000000</td>\n",
              "      <td>523.000000</td>\n",
              "      <td>523.000000</td>\n",
              "      <td>523.000000</td>\n",
              "      <td>523.000000</td>\n",
              "      <td>523.000000</td>\n",
              "      <td>523.000000</td>\n",
              "      <td>523.000000</td>\n",
              "      <td>523.000000</td>\n",
              "      <td>523.000000</td>\n",
              "    </tr>\n",
              "    <tr>\n",
              "      <th>mean</th>\n",
              "      <td>318.500956</td>\n",
              "      <td>10874.346080</td>\n",
              "      <td>13173.776291</td>\n",
              "      <td>22169.518164</td>\n",
              "      <td>19668.535373</td>\n",
              "      <td>50364.416826</td>\n",
              "      <td>99046.271511</td>\n",
              "      <td>61.623327</td>\n",
              "      <td>1111.728489</td>\n",
              "      <td>1310.128107</td>\n",
              "      <td>23.372849</td>\n",
              "      <td>28.510516</td>\n",
              "    </tr>\n",
              "    <tr>\n",
              "      <th>std</th>\n",
              "      <td>188.889387</td>\n",
              "      <td>11620.485424</td>\n",
              "      <td>13697.553695</td>\n",
              "      <td>7779.185471</td>\n",
              "      <td>11247.855910</td>\n",
              "      <td>12628.590736</td>\n",
              "      <td>14597.397831</td>\n",
              "      <td>22.078352</td>\n",
              "      <td>128.771497</td>\n",
              "      <td>114.031172</td>\n",
              "      <td>3.763684</td>\n",
              "      <td>3.062782</td>\n",
              "    </tr>\n",
              "    <tr>\n",
              "      <th>min</th>\n",
              "      <td>1.000000</td>\n",
              "      <td>323.000000</td>\n",
              "      <td>406.000000</td>\n",
              "      <td>1298.000000</td>\n",
              "      <td>3597.000000</td>\n",
              "      <td>8646.000000</td>\n",
              "      <td>70700.000000</td>\n",
              "      <td>5.000000</td>\n",
              "      <td>820.000000</td>\n",
              "      <td>1060.000000</td>\n",
              "      <td>15.000000</td>\n",
              "      <td>20.000000</td>\n",
              "    </tr>\n",
              "    <tr>\n",
              "      <th>25%</th>\n",
              "      <td>154.000000</td>\n",
              "      <td>2151.500000</td>\n",
              "      <td>2500.000000</td>\n",
              "      <td>16258.000000</td>\n",
              "      <td>9034.000000</td>\n",
              "      <td>40009.500000</td>\n",
              "      <td>88600.000000</td>\n",
              "      <td>49.000000</td>\n",
              "      <td>1024.000000</td>\n",
              "      <td>1230.000000</td>\n",
              "      <td>21.000000</td>\n",
              "      <td>26.000000</td>\n",
              "    </tr>\n",
              "    <tr>\n",
              "      <th>50%</th>\n",
              "      <td>317.000000</td>\n",
              "      <td>5768.000000</td>\n",
              "      <td>7709.000000</td>\n",
              "      <td>21374.000000</td>\n",
              "      <td>18824.000000</td>\n",
              "      <td>49698.000000</td>\n",
              "      <td>96400.000000</td>\n",
              "      <td>67.000000</td>\n",
              "      <td>1080.000000</td>\n",
              "      <td>1290.000000</td>\n",
              "      <td>22.000000</td>\n",
              "      <td>28.000000</td>\n",
              "    </tr>\n",
              "    <tr>\n",
              "      <th>75%</th>\n",
              "      <td>479.500000</td>\n",
              "      <td>17514.500000</td>\n",
              "      <td>20802.000000</td>\n",
              "      <td>27336.000000</td>\n",
              "      <td>26740.000000</td>\n",
              "      <td>60136.500000</td>\n",
              "      <td>106550.000000</td>\n",
              "      <td>78.000000</td>\n",
              "      <td>1180.000000</td>\n",
              "      <td>1380.000000</td>\n",
              "      <td>25.500000</td>\n",
              "      <td>31.000000</td>\n",
              "    </tr>\n",
              "    <tr>\n",
              "      <th>max</th>\n",
              "      <td>650.000000</td>\n",
              "      <td>65100.000000</td>\n",
              "      <td>75044.000000</td>\n",
              "      <td>46277.000000</td>\n",
              "      <td>50897.000000</td>\n",
              "      <td>75735.000000</td>\n",
              "      <td>158200.000000</td>\n",
              "      <td>100.000000</td>\n",
              "      <td>1530.000000</td>\n",
              "      <td>1590.000000</td>\n",
              "      <td>34.000000</td>\n",
              "      <td>35.000000</td>\n",
              "    </tr>\n",
              "  </tbody>\n",
              "</table>\n",
              "</div>\n",
              "      <button class=\"colab-df-convert\" onclick=\"convertToInteractive('df-a861700e-9347-4e9f-8913-157da025c3f7')\"\n",
              "              title=\"Convert this dataframe to an interactive table.\"\n",
              "              style=\"display:none;\">\n",
              "        \n",
              "  <svg xmlns=\"http://www.w3.org/2000/svg\" height=\"24px\"viewBox=\"0 0 24 24\"\n",
              "       width=\"24px\">\n",
              "    <path d=\"M0 0h24v24H0V0z\" fill=\"none\"/>\n",
              "    <path d=\"M18.56 5.44l.94 2.06.94-2.06 2.06-.94-2.06-.94-.94-2.06-.94 2.06-2.06.94zm-11 1L8.5 8.5l.94-2.06 2.06-.94-2.06-.94L8.5 2.5l-.94 2.06-2.06.94zm10 10l.94 2.06.94-2.06 2.06-.94-2.06-.94-.94-2.06-.94 2.06-2.06.94z\"/><path d=\"M17.41 7.96l-1.37-1.37c-.4-.4-.92-.59-1.43-.59-.52 0-1.04.2-1.43.59L10.3 9.45l-7.72 7.72c-.78.78-.78 2.05 0 2.83L4 21.41c.39.39.9.59 1.41.59.51 0 1.02-.2 1.41-.59l7.78-7.78 2.81-2.81c.8-.78.8-2.07 0-2.86zM5.41 20L4 18.59l7.72-7.72 1.47 1.35L5.41 20z\"/>\n",
              "  </svg>\n",
              "      </button>\n",
              "      \n",
              "  <style>\n",
              "    .colab-df-container {\n",
              "      display:flex;\n",
              "      flex-wrap:wrap;\n",
              "      gap: 12px;\n",
              "    }\n",
              "\n",
              "    .colab-df-convert {\n",
              "      background-color: #E8F0FE;\n",
              "      border: none;\n",
              "      border-radius: 50%;\n",
              "      cursor: pointer;\n",
              "      display: none;\n",
              "      fill: #1967D2;\n",
              "      height: 32px;\n",
              "      padding: 0 0 0 0;\n",
              "      width: 32px;\n",
              "    }\n",
              "\n",
              "    .colab-df-convert:hover {\n",
              "      background-color: #E2EBFA;\n",
              "      box-shadow: 0px 1px 2px rgba(60, 64, 67, 0.3), 0px 1px 3px 1px rgba(60, 64, 67, 0.15);\n",
              "      fill: #174EA6;\n",
              "    }\n",
              "\n",
              "    [theme=dark] .colab-df-convert {\n",
              "      background-color: #3B4455;\n",
              "      fill: #D2E3FC;\n",
              "    }\n",
              "\n",
              "    [theme=dark] .colab-df-convert:hover {\n",
              "      background-color: #434B5C;\n",
              "      box-shadow: 0px 1px 3px 1px rgba(0, 0, 0, 0.15);\n",
              "      filter: drop-shadow(0px 1px 2px rgba(0, 0, 0, 0.3));\n",
              "      fill: #FFFFFF;\n",
              "    }\n",
              "  </style>\n",
              "\n",
              "      <script>\n",
              "        const buttonEl =\n",
              "          document.querySelector('#df-a861700e-9347-4e9f-8913-157da025c3f7 button.colab-df-convert');\n",
              "        buttonEl.style.display =\n",
              "          google.colab.kernel.accessAllowed ? 'block' : 'none';\n",
              "\n",
              "        async function convertToInteractive(key) {\n",
              "          const element = document.querySelector('#df-a861700e-9347-4e9f-8913-157da025c3f7');\n",
              "          const dataTable =\n",
              "            await google.colab.kernel.invokeFunction('convertToInteractive',\n",
              "                                                     [key], {});\n",
              "          if (!dataTable) return;\n",
              "\n",
              "          const docLinkHtml = 'Like what you see? Visit the ' +\n",
              "            '<a target=\"_blank\" href=https://colab.research.google.com/notebooks/data_table.ipynb>data table notebook</a>'\n",
              "            + ' to learn more about interactive tables.';\n",
              "          element.innerHTML = '';\n",
              "          dataTable['output_type'] = 'display_data';\n",
              "          await google.colab.output.renderOutput(dataTable, element);\n",
              "          const docLink = document.createElement('div');\n",
              "          docLink.innerHTML = docLinkHtml;\n",
              "          element.appendChild(docLink);\n",
              "        }\n",
              "      </script>\n",
              "    </div>\n",
              "  </div>\n",
              "  "
            ]
          },
          "metadata": {},
          "execution_count": 69
        }
      ]
    },
    {
      "cell_type": "code",
      "execution_count": 70,
      "metadata": {
        "colab": {
          "base_uri": "https://localhost:8080/"
        },
        "id": "0BG6vDiBmstV",
        "outputId": "6deb5502-db90-43d0-fc65-b55a242bb5bb"
      },
      "outputs": [
        {
          "output_type": "stream",
          "name": "stdout",
          "text": [
            "                            OLS Regression Results                            \n",
            "==============================================================================\n",
            "Dep. Variable:                   Rank   R-squared:                       0.408\n",
            "Model:                            OLS   Adj. R-squared:                  0.407\n",
            "Method:                 Least Squares   F-statistic:                     359.3\n",
            "Date:                Wed, 25 May 2022   Prob (F-statistic):           2.50e-61\n",
            "Time:                        16:08:29   Log-Likelihood:                -3345.6\n",
            "No. Observations:                 523   AIC:                             6695.\n",
            "Df Residuals:                     521   BIC:                             6704.\n",
            "Df Model:                           1                                         \n",
            "Covariance Type:            nonrobust                                         \n",
            "===================================================================================\n",
            "                      coef    std err          t      P>|t|      [0.025      0.975]\n",
            "-----------------------------------------------------------------------------------\n",
            "Intercept         -18.3185     18.873     -0.971      0.332     -55.396      18.759\n",
            "Acceptance_Rate     5.4658      0.288     18.955      0.000       4.899       6.032\n",
            "==============================================================================\n",
            "Omnibus:                       17.460   Durbin-Watson:                   0.477\n",
            "Prob(Omnibus):                  0.000   Jarque-Bera (JB):               16.843\n",
            "Skew:                           0.396   Prob(JB):                     0.000220\n",
            "Kurtosis:                       2.617   Cond. No.                         194.\n",
            "==============================================================================\n",
            "\n",
            "Warnings:\n",
            "[1] Standard Errors assume that the covariance matrix of the errors is correctly specified.\n"
          ]
        }
      ],
      "source": [
        "# statsmodels works nicely with pandas dataframes\n",
        "# The thing inside the \"quotes\" is called a formula, a bit on that below\n",
        "m = ols('Rank ~ Acceptance_Rate',forbesraw_no_NaN).fit()\n",
        "print(m.summary())"
      ]
    },
    {
      "cell_type": "markdown",
      "metadata": {
        "id": "gv7-R8NpmstV"
      },
      "source": [
        "#### Interpreting coefficients\n",
        "\n",
        "There is a ton of information in this output. But we'll concentrate on the coefficient table (middle table). We can interpret the `Acceptance_Rate` coefficient (5.3484) by first noticing that the p-value (under `P>|t|`) is so small, basically zero. We can interpret the coefficient as, if we compare two colleges, one where the acceptance rate is say $5$ and the other college is the same except that the acceptance rate is $6$. For these two colleges the average difference in acceptance rate is about $5.3484$. The confidence interval gives us a range of plausible values for this difference, about ($4.837, 5.860$)."
      ]
    },
    {
      "cell_type": "markdown",
      "metadata": {
        "id": "gAIfOwMrmstV"
      },
      "source": [
        "####  `statsmodels` formulas\n",
        "***\n",
        "This formula notation will seem familiar to `R` users, but will take some getting used to for people coming from other languages or are new to statistics.\n",
        "\n",
        "The formula gives instruction for a general structure for a regression call. For `statsmodels` (`ols` or `logit`) calls you need to have a Pandas dataframe with column names that you will add to your formula. In the below example you need a pandas data frame that includes the columns named (`Outcome`, `X1`,`X2`, ...), bbut you don't need to build a new dataframe for every regression. Use the same dataframe with all these things in it. The structure is very simple:\n",
        "\n",
        "`Outcome ~ X1`\n",
        "\n",
        "But of course we want to to be able to handle more complex models, for example multiple regression is done like this:\n",
        "\n",
        "`Outcome ~ X1 + X2 + X3`\n",
        "\n",
        "This is the very basic structure but it should be enough to get you through the homework. Things can get much more complex, for a quick run-down of further uses see the `statsmodels` [help page](http://statsmodels.sourceforge.net/devel/example_formulas.html).\n"
      ]
    },
    {
      "cell_type": "markdown",
      "metadata": {
        "id": "kyl8bN2XmstV"
      },
      "source": [
        "Let's see how our model actually fit our data. We can see below that there is a ceiling effect, we should probably look into that. Also, for large values of $Y$ we get underpredictions, most predictions are below the 45-degree gridlines. "
      ]
    },
    {
      "cell_type": "code",
      "execution_count": 71,
      "metadata": {
        "id": "FCB91UkimstV",
        "colab": {
          "base_uri": "https://localhost:8080/",
          "height": 310
        },
        "outputId": "91812580-e30e-4a20-8b18-2774a3734624"
      },
      "outputs": [
        {
          "output_type": "display_data",
          "data": {
            "text/plain": [
              "<Figure size 432x288 with 1 Axes>"
            ],
            "image/png": "[encoded data removed]"
          },
          "metadata": {}
        }
      ],
      "source": [
        "plt.scatter(forbesraw_no_NaN['Rank'], m.fittedvalues)\n",
        "plt.xlabel(\"Ranks: $Y_i$\")\n",
        "plt.ylabel(\"Predicted ranks: $\\hat{Y}_i$\")\n",
        "plt.title(\"Ranks vs Predicted Ranks Based on Acceptance Rate: $Y_i$ vs $\\hat{Y}_i$\")\n",
        "plt.plot([0, 700], [0, 700], color='r', linestyle='-', linewidth=2)\n",
        "plt.gca().set_aspect('equal')"
      ]
    },
    {
      "cell_type": "markdown",
      "metadata": {
        "id": "rpwL-9yNmstV"
      },
      "source": [
        "### Fitting Linear Regression using `sklearn`\n"
      ]
    },
    {
      "cell_type": "code",
      "execution_count": 72,
      "metadata": {
        "id": "uJVZDpSmmstW",
        "colab": {
          "base_uri": "https://localhost:8080/"
        },
        "outputId": "6a93ff9f-5790-4504-d977-60869804b3c4"
      },
      "outputs": [
        {
          "output_type": "execute_result",
          "data": {
            "text/plain": [
              "LinearRegression()"
            ]
          },
          "metadata": {},
          "execution_count": 72
        }
      ],
      "source": [
        "from sklearn.linear_model import LinearRegression\n",
        "X = forbesraw_no_NaN.drop('Rank', axis = 1)\n",
        "\n",
        "# This creates a LinearRegression object\n",
        "lm = LinearRegression()\n",
        "lm"
      ]
    },
    {
      "cell_type": "markdown",
      "metadata": {
        "id": "PihVfGvTmstW"
      },
      "source": [
        "#### What can you do with a LinearRegression object? "
      ]
    },
    {
      "cell_type": "code",
      "execution_count": 73,
      "metadata": {
        "id": "Aorfj4sUmstW"
      },
      "outputs": [],
      "source": [
        "# Look inside linear regression object\n",
        "# LinearRegression.<tab>\n",
        "#lm."
      ]
    },
    {
      "cell_type": "markdown",
      "metadata": {
        "id": "P-BemtCnmstW"
      },
      "source": [
        "Main functions | Description\n",
        "--- | --- \n",
        "`lm.fit()` | Fit a linear model\n",
        "`lm.predit()` | Predict Y using the linear model with estimated coefficients\n",
        "`lm.score()` | Returns the coefficient of determination (R^2). *A measure of how well observed outcomes are replicated by the model, as the proportion of total variation of outcomes explained by the model*"
      ]
    },
    {
      "cell_type": "markdown",
      "metadata": {
        "id": "c1vkGm8cmstW"
      },
      "source": [
        "#### What output can you get?"
      ]
    },
    {
      "cell_type": "code",
      "execution_count": 74,
      "metadata": {
        "id": "Rf-2s6P3mstW"
      },
      "outputs": [],
      "source": [
        "# Look inside lm object\n",
        "# lm.<tab>"
      ]
    },
    {
      "cell_type": "markdown",
      "metadata": {
        "id": "JkcSTRY_mstW"
      },
      "source": [
        "Output | Description\n",
        "--- | --- \n",
        "`lm.coef_` | Estimated coefficients\n",
        "`lm.intercept_` | Estimated intercept "
      ]
    },
    {
      "cell_type": "markdown",
      "metadata": {
        "id": "O-XHN4tTmstW"
      },
      "source": [
        "### Fit a linear model\n",
        "***\n",
        "\n",
        "The `lm.fit()` function estimates the coefficients the linear regression using least squares. "
      ]
    },
    {
      "cell_type": "code",
      "source": [
        "forbesraw.head()"
      ],
      "metadata": {
        "id": "bw3O_HGVTU8C",
        "outputId": "d1302388-a516-4089-d2fc-5b0d5c6a66e1",
        "colab": {
          "base_uri": "https://localhost:8080/",
          "height": 374
        }
      },
      "execution_count": 75,
      "outputs": [
        {
          "output_type": "execute_result",
          "data": {
            "text/plain": [
              "   Rank                                   Name       City State  \\\n",
              "0   1.0                     Harvard University  Cambridge    MA   \n",
              "1   2.0                    Stanford University   Stanford    CA   \n",
              "2   3.0                        Yale University  New Haven    CT   \n",
              "3   4.0  Massachusetts Institute of Technology  Cambridge    MA   \n",
              "4   5.0                   Princeton University  Princeton    NJ   \n",
              "\n",
              "  Public/Private  Undergraduate_Population  Student_Population  Net_Price  \\\n",
              "0        Private                   13844.0             31120.0    14327.0   \n",
              "1        Private                    8402.0             17534.0    13261.0   \n",
              "2        Private                    6483.0             12974.0    18627.0   \n",
              "3        Private                    4680.0             11466.0    20771.0   \n",
              "4        Private                    5659.0              8273.0     9327.0   \n",
              "\n",
              "   Average_Grant_Aid  Total_Annual_Cost  Alumni_Salary  Acceptance_Rate  \\\n",
              "0            49870.0            69600.0       146800.0              5.0   \n",
              "1            50134.0            69109.0       145200.0              5.0   \n",
              "2            50897.0            71290.0       138300.0              7.0   \n",
              "3            43248.0            67430.0       155200.0              7.0   \n",
              "4            48088.0            66150.0       139400.0              6.0   \n",
              "\n",
              "   SAT_Lower  SAT_Upper  ACT_Lower  ACT_Upper            Website  \n",
              "0     1460.0     1590.0       32.0       35.0    www.harvard.edu  \n",
              "1     1390.0     1540.0       32.0       35.0   www.stanford.edu  \n",
              "2     1460.0     1580.0       32.0       35.0       www.yale.edu  \n",
              "3     1490.0     1570.0       33.0       35.0        web.mit.edu  \n",
              "4     1430.0     1570.0       31.0       35.0  www.princeton.edu  "
            ],
            "text/html": [
              "\n",
              "  <div id=\"df-77c4471b-1c1b-412b-83ba-091913bf7cff\">\n",
              "    <div class=\"colab-df-container\">\n",
              "      <div>\n",
              "<style scoped>\n",
              "    .dataframe tbody tr th:only-of-type {\n",
              "        vertical-align: middle;\n",
              "    }\n",
              "\n",
              "    .dataframe tbody tr th {\n",
              "        vertical-align: top;\n",
              "    }\n",
              "\n",
              "    .dataframe thead th {\n",
              "        text-align: right;\n",
              "    }\n",
              "</style>\n",
              "<table border=\"1\" class=\"dataframe\">\n",
              "  <thead>\n",
              "    <tr style=\"text-align: right;\">\n",
              "      <th></th>\n",
              "      <th>Rank</th>\n",
              "      <th>Name</th>\n",
              "      <th>City</th>\n",
              "      <th>State</th>\n",
              "      <th>Public/Private</th>\n",
              "      <th>Undergraduate_Population</th>\n",
              "      <th>Student_Population</th>\n",
              "      <th>Net_Price</th>\n",
              "      <th>Average_Grant_Aid</th>\n",
              "      <th>Total_Annual_Cost</th>\n",
              "      <th>Alumni_Salary</th>\n",
              "      <th>Acceptance_Rate</th>\n",
              "      <th>SAT_Lower</th>\n",
              "      <th>SAT_Upper</th>\n",
              "      <th>ACT_Lower</th>\n",
              "      <th>ACT_Upper</th>\n",
              "      <th>Website</th>\n",
              "    </tr>\n",
              "  </thead>\n",
              "  <tbody>\n",
              "    <tr>\n",
              "      <th>0</th>\n",
              "      <td>1.0</td>\n",
              "      <td>Harvard University</td>\n",
              "      <td>Cambridge</td>\n",
              "      <td>MA</td>\n",
              "      <td>Private</td>\n",
              "      <td>13844.0</td>\n",
              "      <td>31120.0</td>\n",
              "      <td>14327.0</td>\n",
              "      <td>49870.0</td>\n",
              "      <td>69600.0</td>\n",
              "      <td>146800.0</td>\n",
              "      <td>5.0</td>\n",
              "      <td>1460.0</td>\n",
              "      <td>1590.0</td>\n",
              "      <td>32.0</td>\n",
              "      <td>35.0</td>\n",
              "      <td>www.harvard.edu</td>\n",
              "    </tr>\n",
              "    <tr>\n",
              "      <th>1</th>\n",
              "      <td>2.0</td>\n",
              "      <td>Stanford University</td>\n",
              "      <td>Stanford</td>\n",
              "      <td>CA</td>\n",
              "      <td>Private</td>\n",
              "      <td>8402.0</td>\n",
              "      <td>17534.0</td>\n",
              "      <td>13261.0</td>\n",
              "      <td>50134.0</td>\n",
              "      <td>69109.0</td>\n",
              "      <td>145200.0</td>\n",
              "      <td>5.0</td>\n",
              "      <td>1390.0</td>\n",
              "      <td>1540.0</td>\n",
              "      <td>32.0</td>\n",
              "      <td>35.0</td>\n",
              "      <td>www.stanford.edu</td>\n",
              "    </tr>\n",
              "    <tr>\n",
              "      <th>2</th>\n",
              "      <td>3.0</td>\n",
              "      <td>Yale University</td>\n",
              "      <td>New Haven</td>\n",
              "      <td>CT</td>\n",
              "      <td>Private</td>\n",
              "      <td>6483.0</td>\n",
              "      <td>12974.0</td>\n",
              "      <td>18627.0</td>\n",
              "      <td>50897.0</td>\n",
              "      <td>71290.0</td>\n",
              "      <td>138300.0</td>\n",
              "      <td>7.0</td>\n",
              "      <td>1460.0</td>\n",
              "      <td>1580.0</td>\n",
              "      <td>32.0</td>\n",
              "      <td>35.0</td>\n",
              "      <td>www.yale.edu</td>\n",
              "    </tr>\n",
              "    <tr>\n",
              "      <th>3</th>\n",
              "      <td>4.0</td>\n",
              "      <td>Massachusetts Institute of Technology</td>\n",
              "      <td>Cambridge</td>\n",
              "      <td>MA</td>\n",
              "      <td>Private</td>\n",
              "      <td>4680.0</td>\n",
              "      <td>11466.0</td>\n",
              "      <td>20771.0</td>\n",
              "      <td>43248.0</td>\n",
              "      <td>67430.0</td>\n",
              "      <td>155200.0</td>\n",
              "      <td>7.0</td>\n",
              "      <td>1490.0</td>\n",
              "      <td>1570.0</td>\n",
              "      <td>33.0</td>\n",
              "      <td>35.0</td>\n",
              "      <td>web.mit.edu</td>\n",
              "    </tr>\n",
              "    <tr>\n",
              "      <th>4</th>\n",
              "      <td>5.0</td>\n",
              "      <td>Princeton University</td>\n",
              "      <td>Princeton</td>\n",
              "      <td>NJ</td>\n",
              "      <td>Private</td>\n",
              "      <td>5659.0</td>\n",
              "      <td>8273.0</td>\n",
              "      <td>9327.0</td>\n",
              "      <td>48088.0</td>\n",
              "      <td>66150.0</td>\n",
              "      <td>139400.0</td>\n",
              "      <td>6.0</td>\n",
              "      <td>1430.0</td>\n",
              "      <td>1570.0</td>\n",
              "      <td>31.0</td>\n",
              "      <td>35.0</td>\n",
              "      <td>www.princeton.edu</td>\n",
              "    </tr>\n",
              "  </tbody>\n",
              "</table>\n",
              "</div>\n",
              "      <button class=\"colab-df-convert\" onclick=\"convertToInteractive('df-77c4471b-1c1b-412b-83ba-091913bf7cff')\"\n",
              "              title=\"Convert this dataframe to an interactive table.\"\n",
              "              style=\"display:none;\">\n",
              "        \n",
              "  <svg xmlns=\"http://www.w3.org/2000/svg\" height=\"24px\"viewBox=\"0 0 24 24\"\n",
              "       width=\"24px\">\n",
              "    <path d=\"M0 0h24v24H0V0z\" fill=\"none\"/>\n",
              "    <path d=\"M18.56 5.44l.94 2.06.94-2.06 2.06-.94-2.06-.94-.94-2.06-.94 2.06-2.06.94zm-11 1L8.5 8.5l.94-2.06 2.06-.94-2.06-.94L8.5 2.5l-.94 2.06-2.06.94zm10 10l.94 2.06.94-2.06 2.06-.94-2.06-.94-.94-2.06-.94 2.06-2.06.94z\"/><path d=\"M17.41 7.96l-1.37-1.37c-.4-.4-.92-.59-1.43-.59-.52 0-1.04.2-1.43.59L10.3 9.45l-7.72 7.72c-.78.78-.78 2.05 0 2.83L4 21.41c.39.39.9.59 1.41.59.51 0 1.02-.2 1.41-.59l7.78-7.78 2.81-2.81c.8-.78.8-2.07 0-2.86zM5.41 20L4 18.59l7.72-7.72 1.47 1.35L5.41 20z\"/>\n",
              "  </svg>\n",
              "      </button>\n",
              "      \n",
              "  <style>\n",
              "    .colab-df-container {\n",
              "      display:flex;\n",
              "      flex-wrap:wrap;\n",
              "      gap: 12px;\n",
              "    }\n",
              "\n",
              "    .colab-df-convert {\n",
              "      background-color: #E8F0FE;\n",
              "      border: none;\n",
              "      border-radius: 50%;\n",
              "      cursor: pointer;\n",
              "      display: none;\n",
              "      fill: #1967D2;\n",
              "      height: 32px;\n",
              "      padding: 0 0 0 0;\n",
              "      width: 32px;\n",
              "    }\n",
              "\n",
              "    .colab-df-convert:hover {\n",
              "      background-color: #E2EBFA;\n",
              "      box-shadow: 0px 1px 2px rgba(60, 64, 67, 0.3), 0px 1px 3px 1px rgba(60, 64, 67, 0.15);\n",
              "      fill: #174EA6;\n",
              "    }\n",
              "\n",
              "    [theme=dark] .colab-df-convert {\n",
              "      background-color: #3B4455;\n",
              "      fill: #D2E3FC;\n",
              "    }\n",
              "\n",
              "    [theme=dark] .colab-df-convert:hover {\n",
              "      background-color: #434B5C;\n",
              "      box-shadow: 0px 1px 3px 1px rgba(0, 0, 0, 0.15);\n",
              "      filter: drop-shadow(0px 1px 2px rgba(0, 0, 0, 0.3));\n",
              "      fill: #FFFFFF;\n",
              "    }\n",
              "  </style>\n",
              "\n",
              "      <script>\n",
              "        const buttonEl =\n",
              "          document.querySelector('#df-77c4471b-1c1b-412b-83ba-091913bf7cff button.colab-df-convert');\n",
              "        buttonEl.style.display =\n",
              "          google.colab.kernel.accessAllowed ? 'block' : 'none';\n",
              "\n",
              "        async function convertToInteractive(key) {\n",
              "          const element = document.querySelector('#df-77c4471b-1c1b-412b-83ba-091913bf7cff');\n",
              "          const dataTable =\n",
              "            await google.colab.kernel.invokeFunction('convertToInteractive',\n",
              "                                                     [key], {});\n",
              "          if (!dataTable) return;\n",
              "\n",
              "          const docLinkHtml = 'Like what you see? Visit the ' +\n",
              "            '<a target=\"_blank\" href=https://colab.research.google.com/notebooks/data_table.ipynb>data table notebook</a>'\n",
              "            + ' to learn more about interactive tables.';\n",
              "          element.innerHTML = '';\n",
              "          dataTable['output_type'] = 'display_data';\n",
              "          await google.colab.output.renderOutput(dataTable, element);\n",
              "          const docLink = document.createElement('div');\n",
              "          docLink.innerHTML = docLinkHtml;\n",
              "          element.appendChild(docLink);\n",
              "        }\n",
              "      </script>\n",
              "    </div>\n",
              "  </div>\n",
              "  "
            ]
          },
          "metadata": {},
          "execution_count": 75
        }
      ]
    },
    {
      "cell_type": "code",
      "source": [
        "forbes_num = forbesraw\n",
        "deletenames = [\"Name\", \"City\", \"State\", \"Public/Private\", \"Website\"] # create list of variables not of interest, columns to delete\n",
        "\n",
        "#deletenames = [\"Name\", \"City\", \"State\", \"Public/Private\", \"Website\", \n",
        "#               \"Undergraduate_Population\", \"Student_Population\",\n",
        "#               \"Net_Price\", \"Average_Grant_Aid\"\n",
        "\n",
        "for name in deletenames:\n",
        "  forbes_num = forbes_num.drop(name,1)\n",
        "\n",
        "forbes_num.head()"
      ],
      "metadata": {
        "id": "-mupVNI4TY-Q",
        "outputId": "fcf7e262-f21c-439c-d3c6-7961150e299b",
        "colab": {
          "base_uri": "https://localhost:8080/",
          "height": 306
        }
      },
      "execution_count": 76,
      "outputs": [
        {
          "output_type": "stream",
          "name": "stderr",
          "text": [
            "/usr/local/lib/python3.7/dist-packages/ipykernel_launcher.py:9: FutureWarning: In a future version of pandas all arguments of DataFrame.drop except for the argument 'labels' will be keyword-only\n",
            "  if __name__ == '__main__':\n"
          ]
        },
        {
          "output_type": "execute_result",
          "data": {
            "text/plain": [
              "   Rank  Undergraduate_Population  Student_Population  Net_Price  \\\n",
              "0   1.0                   13844.0             31120.0    14327.0   \n",
              "1   2.0                    8402.0             17534.0    13261.0   \n",
              "2   3.0                    6483.0             12974.0    18627.0   \n",
              "3   4.0                    4680.0             11466.0    20771.0   \n",
              "4   5.0                    5659.0              8273.0     9327.0   \n",
              "\n",
              "   Average_Grant_Aid  Total_Annual_Cost  Alumni_Salary  Acceptance_Rate  \\\n",
              "0            49870.0            69600.0       146800.0              5.0   \n",
              "1            50134.0            69109.0       145200.0              5.0   \n",
              "2            50897.0            71290.0       138300.0              7.0   \n",
              "3            43248.0            67430.0       155200.0              7.0   \n",
              "4            48088.0            66150.0       139400.0              6.0   \n",
              "\n",
              "   SAT_Lower  SAT_Upper  ACT_Lower  ACT_Upper  \n",
              "0     1460.0     1590.0       32.0       35.0  \n",
              "1     1390.0     1540.0       32.0       35.0  \n",
              "2     1460.0     1580.0       32.0       35.0  \n",
              "3     1490.0     1570.0       33.0       35.0  \n",
              "4     1430.0     1570.0       31.0       35.0  "
            ],
            "text/html": [
              "\n",
              "  <div id=\"df-fc8b2e93-54d8-4c4d-a660-dc218b6a006e\">\n",
              "    <div class=\"colab-df-container\">\n",
              "      <div>\n",
              "<style scoped>\n",
              "    .dataframe tbody tr th:only-of-type {\n",
              "        vertical-align: middle;\n",
              "    }\n",
              "\n",
              "    .dataframe tbody tr th {\n",
              "        vertical-align: top;\n",
              "    }\n",
              "\n",
              "    .dataframe thead th {\n",
              "        text-align: right;\n",
              "    }\n",
              "</style>\n",
              "<table border=\"1\" class=\"dataframe\">\n",
              "  <thead>\n",
              "    <tr style=\"text-align: right;\">\n",
              "      <th></th>\n",
              "      <th>Rank</th>\n",
              "      <th>Undergraduate_Population</th>\n",
              "      <th>Student_Population</th>\n",
              "      <th>Net_Price</th>\n",
              "      <th>Average_Grant_Aid</th>\n",
              "      <th>Total_Annual_Cost</th>\n",
              "      <th>Alumni_Salary</th>\n",
              "      <th>Acceptance_Rate</th>\n",
              "      <th>SAT_Lower</th>\n",
              "      <th>SAT_Upper</th>\n",
              "      <th>ACT_Lower</th>\n",
              "      <th>ACT_Upper</th>\n",
              "    </tr>\n",
              "  </thead>\n",
              "  <tbody>\n",
              "    <tr>\n",
              "      <th>0</th>\n",
              "      <td>1.0</td>\n",
              "      <td>13844.0</td>\n",
              "      <td>31120.0</td>\n",
              "      <td>14327.0</td>\n",
              "      <td>49870.0</td>\n",
              "      <td>69600.0</td>\n",
              "      <td>146800.0</td>\n",
              "      <td>5.0</td>\n",
              "      <td>1460.0</td>\n",
              "      <td>1590.0</td>\n",
              "      <td>32.0</td>\n",
              "      <td>35.0</td>\n",
              "    </tr>\n",
              "    <tr>\n",
              "      <th>1</th>\n",
              "      <td>2.0</td>\n",
              "      <td>8402.0</td>\n",
              "      <td>17534.0</td>\n",
              "      <td>13261.0</td>\n",
              "      <td>50134.0</td>\n",
              "      <td>69109.0</td>\n",
              "      <td>145200.0</td>\n",
              "      <td>5.0</td>\n",
              "      <td>1390.0</td>\n",
              "      <td>1540.0</td>\n",
              "      <td>32.0</td>\n",
              "      <td>35.0</td>\n",
              "    </tr>\n",
              "    <tr>\n",
              "      <th>2</th>\n",
              "      <td>3.0</td>\n",
              "      <td>6483.0</td>\n",
              "      <td>12974.0</td>\n",
              "      <td>18627.0</td>\n",
              "      <td>50897.0</td>\n",
              "      <td>71290.0</td>\n",
              "      <td>138300.0</td>\n",
              "      <td>7.0</td>\n",
              "      <td>1460.0</td>\n",
              "      <td>1580.0</td>\n",
              "      <td>32.0</td>\n",
              "      <td>35.0</td>\n",
              "    </tr>\n",
              "    <tr>\n",
              "      <th>3</th>\n",
              "      <td>4.0</td>\n",
              "      <td>4680.0</td>\n",
              "      <td>11466.0</td>\n",
              "      <td>20771.0</td>\n",
              "      <td>43248.0</td>\n",
              "      <td>67430.0</td>\n",
              "      <td>155200.0</td>\n",
              "      <td>7.0</td>\n",
              "      <td>1490.0</td>\n",
              "      <td>1570.0</td>\n",
              "      <td>33.0</td>\n",
              "      <td>35.0</td>\n",
              "    </tr>\n",
              "    <tr>\n",
              "      <th>4</th>\n",
              "      <td>5.0</td>\n",
              "      <td>5659.0</td>\n",
              "      <td>8273.0</td>\n",
              "      <td>9327.0</td>\n",
              "      <td>48088.0</td>\n",
              "      <td>66150.0</td>\n",
              "      <td>139400.0</td>\n",
              "      <td>6.0</td>\n",
              "      <td>1430.0</td>\n",
              "      <td>1570.0</td>\n",
              "      <td>31.0</td>\n",
              "      <td>35.0</td>\n",
              "    </tr>\n",
              "  </tbody>\n",
              "</table>\n",
              "</div>\n",
              "      <button class=\"colab-df-convert\" onclick=\"convertToInteractive('df-fc8b2e93-54d8-4c4d-a660-dc218b6a006e')\"\n",
              "              title=\"Convert this dataframe to an interactive table.\"\n",
              "              style=\"display:none;\">\n",
              "        \n",
              "  <svg xmlns=\"http://www.w3.org/2000/svg\" height=\"24px\"viewBox=\"0 0 24 24\"\n",
              "       width=\"24px\">\n",
              "    <path d=\"M0 0h24v24H0V0z\" fill=\"none\"/>\n",
              "    <path d=\"M18.56 5.44l.94 2.06.94-2.06 2.06-.94-2.06-.94-.94-2.06-.94 2.06-2.06.94zm-11 1L8.5 8.5l.94-2.06 2.06-.94-2.06-.94L8.5 2.5l-.94 2.06-2.06.94zm10 10l.94 2.06.94-2.06 2.06-.94-2.06-.94-.94-2.06-.94 2.06-2.06.94z\"/><path d=\"M17.41 7.96l-1.37-1.37c-.4-.4-.92-.59-1.43-.59-.52 0-1.04.2-1.43.59L10.3 9.45l-7.72 7.72c-.78.78-.78 2.05 0 2.83L4 21.41c.39.39.9.59 1.41.59.51 0 1.02-.2 1.41-.59l7.78-7.78 2.81-2.81c.8-.78.8-2.07 0-2.86zM5.41 20L4 18.59l7.72-7.72 1.47 1.35L5.41 20z\"/>\n",
              "  </svg>\n",
              "      </button>\n",
              "      \n",
              "  <style>\n",
              "    .colab-df-container {\n",
              "      display:flex;\n",
              "      flex-wrap:wrap;\n",
              "      gap: 12px;\n",
              "    }\n",
              "\n",
              "    .colab-df-convert {\n",
              "      background-color: #E8F0FE;\n",
              "      border: none;\n",
              "      border-radius: 50%;\n",
              "      cursor: pointer;\n",
              "      display: none;\n",
              "      fill: #1967D2;\n",
              "      height: 32px;\n",
              "      padding: 0 0 0 0;\n",
              "      width: 32px;\n",
              "    }\n",
              "\n",
              "    .colab-df-convert:hover {\n",
              "      background-color: #E2EBFA;\n",
              "      box-shadow: 0px 1px 2px rgba(60, 64, 67, 0.3), 0px 1px 3px 1px rgba(60, 64, 67, 0.15);\n",
              "      fill: #174EA6;\n",
              "    }\n",
              "\n",
              "    [theme=dark] .colab-df-convert {\n",
              "      background-color: #3B4455;\n",
              "      fill: #D2E3FC;\n",
              "    }\n",
              "\n",
              "    [theme=dark] .colab-df-convert:hover {\n",
              "      background-color: #434B5C;\n",
              "      box-shadow: 0px 1px 3px 1px rgba(0, 0, 0, 0.15);\n",
              "      filter: drop-shadow(0px 1px 2px rgba(0, 0, 0, 0.3));\n",
              "      fill: #FFFFFF;\n",
              "    }\n",
              "  </style>\n",
              "\n",
              "      <script>\n",
              "        const buttonEl =\n",
              "          document.querySelector('#df-fc8b2e93-54d8-4c4d-a660-dc218b6a006e button.colab-df-convert');\n",
              "        buttonEl.style.display =\n",
              "          google.colab.kernel.accessAllowed ? 'block' : 'none';\n",
              "\n",
              "        async function convertToInteractive(key) {\n",
              "          const element = document.querySelector('#df-fc8b2e93-54d8-4c4d-a660-dc218b6a006e');\n",
              "          const dataTable =\n",
              "            await google.colab.kernel.invokeFunction('convertToInteractive',\n",
              "                                                     [key], {});\n",
              "          if (!dataTable) return;\n",
              "\n",
              "          const docLinkHtml = 'Like what you see? Visit the ' +\n",
              "            '<a target=\"_blank\" href=https://colab.research.google.com/notebooks/data_table.ipynb>data table notebook</a>'\n",
              "            + ' to learn more about interactive tables.';\n",
              "          element.innerHTML = '';\n",
              "          dataTable['output_type'] = 'display_data';\n",
              "          await google.colab.output.renderOutput(dataTable, element);\n",
              "          const docLink = document.createElement('div');\n",
              "          docLink.innerHTML = docLinkHtml;\n",
              "          element.appendChild(docLink);\n",
              "        }\n",
              "      </script>\n",
              "    </div>\n",
              "  </div>\n",
              "  "
            ]
          },
          "metadata": {},
          "execution_count": 76
        }
      ]
    },
    {
      "cell_type": "code",
      "source": [
        "forbes_num.describe()"
      ],
      "metadata": {
        "colab": {
          "base_uri": "https://localhost:8080/",
          "height": 364
        },
        "id": "9RM4W650VDF0",
        "outputId": "ef4dd148-5f3a-4825-b487-e511ee9a70bb"
      },
      "execution_count": 77,
      "outputs": [
        {
          "output_type": "execute_result",
          "data": {
            "text/plain": [
              "            Rank  Undergraduate_Population  Student_Population     Net_Price  \\\n",
              "count  650.00000                650.000000          650.000000    648.000000   \n",
              "mean   325.50000              10002.692308        12022.290769  22336.947531   \n",
              "std    187.78312              11162.172430        13175.091581   8269.912032   \n",
              "min      1.00000                185.000000          386.000000      0.000000   \n",
              "25%    163.25000               2020.250000         2240.750000  16410.000000   \n",
              "50%    325.50000               4503.000000         6269.000000  21989.000000   \n",
              "75%    487.75000              15657.000000        17788.000000  27580.500000   \n",
              "max    650.00000              65100.000000        75044.000000  47270.000000   \n",
              "\n",
              "       Average_Grant_Aid  Total_Annual_Cost  Alumni_Salary  Acceptance_Rate  \\\n",
              "count         646.000000         650.000000     635.000000       648.000000   \n",
              "mean        20031.208978       50330.175385   98851.968504        61.597222   \n",
              "std         11175.869976       13223.055038   14335.249458        22.024781   \n",
              "min          2975.000000           0.000000   70700.000000         5.000000   \n",
              "25%          9288.250000       39917.000000   88600.000000        48.000000   \n",
              "50%         19605.000000       50265.000000   96400.000000        67.000000   \n",
              "75%         27474.500000       60771.750000  105600.000000        78.000000   \n",
              "max         50897.000000       75735.000000  158200.000000       100.000000   \n",
              "\n",
              "         SAT_Lower    SAT_Upper   ACT_Lower   ACT_Upper  \n",
              "count   551.000000   551.000000  553.000000  553.000000  \n",
              "mean   1110.145191  1308.078040   23.278481   28.441230  \n",
              "std     127.744079   113.553237    3.729318    3.058115  \n",
              "min     820.000000  1060.000000   15.000000   20.000000  \n",
              "25%    1020.000000  1230.000000   21.000000   26.000000  \n",
              "50%    1080.000000  1290.000000   22.000000   28.000000  \n",
              "75%    1180.000000  1380.000000   25.000000   31.000000  \n",
              "max    1530.000000  1590.000000   34.000000   35.000000  "
            ],
            "text/html": [
              "\n",
              "  <div id=\"df-61d0905e-ee12-44f5-bb2f-c35f1d95a210\">\n",
              "    <div class=\"colab-df-container\">\n",
              "      <div>\n",
              "<style scoped>\n",
              "    .dataframe tbody tr th:only-of-type {\n",
              "        vertical-align: middle;\n",
              "    }\n",
              "\n",
              "    .dataframe tbody tr th {\n",
              "        vertical-align: top;\n",
              "    }\n",
              "\n",
              "    .dataframe thead th {\n",
              "        text-align: right;\n",
              "    }\n",
              "</style>\n",
              "<table border=\"1\" class=\"dataframe\">\n",
              "  <thead>\n",
              "    <tr style=\"text-align: right;\">\n",
              "      <th></th>\n",
              "      <th>Rank</th>\n",
              "      <th>Undergraduate_Population</th>\n",
              "      <th>Student_Population</th>\n",
              "      <th>Net_Price</th>\n",
              "      <th>Average_Grant_Aid</th>\n",
              "      <th>Total_Annual_Cost</th>\n",
              "      <th>Alumni_Salary</th>\n",
              "      <th>Acceptance_Rate</th>\n",
              "      <th>SAT_Lower</th>\n",
              "      <th>SAT_Upper</th>\n",
              "      <th>ACT_Lower</th>\n",
              "      <th>ACT_Upper</th>\n",
              "    </tr>\n",
              "  </thead>\n",
              "  <tbody>\n",
              "    <tr>\n",
              "      <th>count</th>\n",
              "      <td>650.00000</td>\n",
              "      <td>650.000000</td>\n",
              "      <td>650.000000</td>\n",
              "      <td>648.000000</td>\n",
              "      <td>646.000000</td>\n",
              "      <td>650.000000</td>\n",
              "      <td>635.000000</td>\n",
              "      <td>648.000000</td>\n",
              "      <td>551.000000</td>\n",
              "      <td>551.000000</td>\n",
              "      <td>553.000000</td>\n",
              "      <td>553.000000</td>\n",
              "    </tr>\n",
              "    <tr>\n",
              "      <th>mean</th>\n",
              "      <td>325.50000</td>\n",
              "      <td>10002.692308</td>\n",
              "      <td>12022.290769</td>\n",
              "      <td>22336.947531</td>\n",
              "      <td>20031.208978</td>\n",
              "      <td>50330.175385</td>\n",
              "      <td>98851.968504</td>\n",
              "      <td>61.597222</td>\n",
              "      <td>1110.145191</td>\n",
              "      <td>1308.078040</td>\n",
              "      <td>23.278481</td>\n",
              "      <td>28.441230</td>\n",
              "    </tr>\n",
              "    <tr>\n",
              "      <th>std</th>\n",
              "      <td>187.78312</td>\n",
              "      <td>11162.172430</td>\n",
              "      <td>13175.091581</td>\n",
              "      <td>8269.912032</td>\n",
              "      <td>11175.869976</td>\n",
              "      <td>13223.055038</td>\n",
              "      <td>14335.249458</td>\n",
              "      <td>22.024781</td>\n",
              "      <td>127.744079</td>\n",
              "      <td>113.553237</td>\n",
              "      <td>3.729318</td>\n",
              "      <td>3.058115</td>\n",
              "    </tr>\n",
              "    <tr>\n",
              "      <th>min</th>\n",
              "      <td>1.00000</td>\n",
              "      <td>185.000000</td>\n",
              "      <td>386.000000</td>\n",
              "      <td>0.000000</td>\n",
              "      <td>2975.000000</td>\n",
              "      <td>0.000000</td>\n",
              "      <td>70700.000000</td>\n",
              "      <td>5.000000</td>\n",
              "      <td>820.000000</td>\n",
              "      <td>1060.000000</td>\n",
              "      <td>15.000000</td>\n",
              "      <td>20.000000</td>\n",
              "    </tr>\n",
              "    <tr>\n",
              "      <th>25%</th>\n",
              "      <td>163.25000</td>\n",
              "      <td>2020.250000</td>\n",
              "      <td>2240.750000</td>\n",
              "      <td>16410.000000</td>\n",
              "      <td>9288.250000</td>\n",
              "      <td>39917.000000</td>\n",
              "      <td>88600.000000</td>\n",
              "      <td>48.000000</td>\n",
              "      <td>1020.000000</td>\n",
              "      <td>1230.000000</td>\n",
              "      <td>21.000000</td>\n",
              "      <td>26.000000</td>\n",
              "    </tr>\n",
              "    <tr>\n",
              "      <th>50%</th>\n",
              "      <td>325.50000</td>\n",
              "      <td>4503.000000</td>\n",
              "      <td>6269.000000</td>\n",
              "      <td>21989.000000</td>\n",
              "      <td>19605.000000</td>\n",
              "      <td>50265.000000</td>\n",
              "      <td>96400.000000</td>\n",
              "      <td>67.000000</td>\n",
              "      <td>1080.000000</td>\n",
              "      <td>1290.000000</td>\n",
              "      <td>22.000000</td>\n",
              "      <td>28.000000</td>\n",
              "    </tr>\n",
              "    <tr>\n",
              "      <th>75%</th>\n",
              "      <td>487.75000</td>\n",
              "      <td>15657.000000</td>\n",
              "      <td>17788.000000</td>\n",
              "      <td>27580.500000</td>\n",
              "      <td>27474.500000</td>\n",
              "      <td>60771.750000</td>\n",
              "      <td>105600.000000</td>\n",
              "      <td>78.000000</td>\n",
              "      <td>1180.000000</td>\n",
              "      <td>1380.000000</td>\n",
              "      <td>25.000000</td>\n",
              "      <td>31.000000</td>\n",
              "    </tr>\n",
              "    <tr>\n",
              "      <th>max</th>\n",
              "      <td>650.00000</td>\n",
              "      <td>65100.000000</td>\n",
              "      <td>75044.000000</td>\n",
              "      <td>47270.000000</td>\n",
              "      <td>50897.000000</td>\n",
              "      <td>75735.000000</td>\n",
              "      <td>158200.000000</td>\n",
              "      <td>100.000000</td>\n",
              "      <td>1530.000000</td>\n",
              "      <td>1590.000000</td>\n",
              "      <td>34.000000</td>\n",
              "      <td>35.000000</td>\n",
              "    </tr>\n",
              "  </tbody>\n",
              "</table>\n",
              "</div>\n",
              "      <button class=\"colab-df-convert\" onclick=\"convertToInteractive('df-61d0905e-ee12-44f5-bb2f-c35f1d95a210')\"\n",
              "              title=\"Convert this dataframe to an interactive table.\"\n",
              "              style=\"display:none;\">\n",
              "        \n",
              "  <svg xmlns=\"http://www.w3.org/2000/svg\" height=\"24px\"viewBox=\"0 0 24 24\"\n",
              "       width=\"24px\">\n",
              "    <path d=\"M0 0h24v24H0V0z\" fill=\"none\"/>\n",
              "    <path d=\"M18.56 5.44l.94 2.06.94-2.06 2.06-.94-2.06-.94-.94-2.06-.94 2.06-2.06.94zm-11 1L8.5 8.5l.94-2.06 2.06-.94-2.06-.94L8.5 2.5l-.94 2.06-2.06.94zm10 10l.94 2.06.94-2.06 2.06-.94-2.06-.94-.94-2.06-.94 2.06-2.06.94z\"/><path d=\"M17.41 7.96l-1.37-1.37c-.4-.4-.92-.59-1.43-.59-.52 0-1.04.2-1.43.59L10.3 9.45l-7.72 7.72c-.78.78-.78 2.05 0 2.83L4 21.41c.39.39.9.59 1.41.59.51 0 1.02-.2 1.41-.59l7.78-7.78 2.81-2.81c.8-.78.8-2.07 0-2.86zM5.41 20L4 18.59l7.72-7.72 1.47 1.35L5.41 20z\"/>\n",
              "  </svg>\n",
              "      </button>\n",
              "      \n",
              "  <style>\n",
              "    .colab-df-container {\n",
              "      display:flex;\n",
              "      flex-wrap:wrap;\n",
              "      gap: 12px;\n",
              "    }\n",
              "\n",
              "    .colab-df-convert {\n",
              "      background-color: #E8F0FE;\n",
              "      border: none;\n",
              "      border-radius: 50%;\n",
              "      cursor: pointer;\n",
              "      display: none;\n",
              "      fill: #1967D2;\n",
              "      height: 32px;\n",
              "      padding: 0 0 0 0;\n",
              "      width: 32px;\n",
              "    }\n",
              "\n",
              "    .colab-df-convert:hover {\n",
              "      background-color: #E2EBFA;\n",
              "      box-shadow: 0px 1px 2px rgba(60, 64, 67, 0.3), 0px 1px 3px 1px rgba(60, 64, 67, 0.15);\n",
              "      fill: #174EA6;\n",
              "    }\n",
              "\n",
              "    [theme=dark] .colab-df-convert {\n",
              "      background-color: #3B4455;\n",
              "      fill: #D2E3FC;\n",
              "    }\n",
              "\n",
              "    [theme=dark] .colab-df-convert:hover {\n",
              "      background-color: #434B5C;\n",
              "      box-shadow: 0px 1px 3px 1px rgba(0, 0, 0, 0.15);\n",
              "      filter: drop-shadow(0px 1px 2px rgba(0, 0, 0, 0.3));\n",
              "      fill: #FFFFFF;\n",
              "    }\n",
              "  </style>\n",
              "\n",
              "      <script>\n",
              "        const buttonEl =\n",
              "          document.querySelector('#df-61d0905e-ee12-44f5-bb2f-c35f1d95a210 button.colab-df-convert');\n",
              "        buttonEl.style.display =\n",
              "          google.colab.kernel.accessAllowed ? 'block' : 'none';\n",
              "\n",
              "        async function convertToInteractive(key) {\n",
              "          const element = document.querySelector('#df-61d0905e-ee12-44f5-bb2f-c35f1d95a210');\n",
              "          const dataTable =\n",
              "            await google.colab.kernel.invokeFunction('convertToInteractive',\n",
              "                                                     [key], {});\n",
              "          if (!dataTable) return;\n",
              "\n",
              "          const docLinkHtml = 'Like what you see? Visit the ' +\n",
              "            '<a target=\"_blank\" href=https://colab.research.google.com/notebooks/data_table.ipynb>data table notebook</a>'\n",
              "            + ' to learn more about interactive tables.';\n",
              "          element.innerHTML = '';\n",
              "          dataTable['output_type'] = 'display_data';\n",
              "          await google.colab.output.renderOutput(dataTable, element);\n",
              "          const docLink = document.createElement('div');\n",
              "          docLink.innerHTML = docLinkHtml;\n",
              "          element.appendChild(docLink);\n",
              "        }\n",
              "      </script>\n",
              "    </div>\n",
              "  </div>\n",
              "  "
            ]
          },
          "metadata": {},
          "execution_count": 77
        }
      ]
    },
    {
      "cell_type": "code",
      "source": [
        "# standard scaler\n",
        "from sklearn.preprocessing import MinMaxScaler\n",
        "import pandas as pd\n",
        "\n",
        "forbes_num = forbes_num.dropna()\n",
        "X = forbes_num\n",
        "\n",
        "X = X.drop('Rank', axis = 1)\n",
        "\n",
        "scaler = MinMaxScaler()\n",
        " \n",
        "X_scaled = scaler.fit_transform(X.to_numpy())\n",
        "X_scaled = pd.DataFrame(X_scaled, columns=['Undergraduate_Population', \n",
        "                                           'Student_Population',\n",
        "                                           'Net_Price',\n",
        "                                           'Average_Grant_Aid',\n",
        "                                           'Total_Annual_Cost',\n",
        "                                           'Alumni_Salary',\n",
        "                                           'Acceptance_Rate',\n",
        "                                           'SAT_Lower',\n",
        "                                           'SAT_Upper',\n",
        "                                           'ACT_Lower',\n",
        "                                           'ACT_Upper'])\n",
        " \n",
        "print(\"Scaled Dataset Using MinMaxScaler\")\n",
        "X_scaled.head()"
      ],
      "metadata": {
        "id": "VUcBueXfFdpy",
        "outputId": "2f7a7f7e-b53c-492b-dc9b-55cc1be28b89",
        "colab": {
          "base_uri": "https://localhost:8080/",
          "height": 288
        }
      },
      "execution_count": 78,
      "outputs": [
        {
          "output_type": "stream",
          "name": "stdout",
          "text": [
            "Scaled Dataset Using MinMaxScaler\n"
          ]
        },
        {
          "output_type": "execute_result",
          "data": {
            "text/plain": [
              "   Undergraduate_Population  Student_Population  Net_Price  Average_Grant_Aid  \\\n",
              "0                  0.208731            0.411506   0.289669           0.978288   \n",
              "1                  0.124720            0.229481   0.265969           0.983869   \n",
              "2                  0.095095            0.168386   0.385269           1.000000   \n",
              "3                  0.067262            0.148182   0.432935           0.838288   \n",
              "4                  0.082375            0.105402   0.178506           0.940613   \n",
              "\n",
              "   Total_Annual_Cost  Alumni_Salary  Acceptance_Rate  SAT_Lower  SAT_Upper  \\\n",
              "0           0.908554       0.869714         0.000000   0.901408   1.000000   \n",
              "1           0.901236       0.851429         0.000000   0.802817   0.905660   \n",
              "2           0.933745       0.772571         0.021053   0.901408   0.981132   \n",
              "3           0.876209       0.965714         0.021053   0.943662   0.962264   \n",
              "4           0.857130       0.785143         0.010526   0.859155   0.962264   \n",
              "\n",
              "   ACT_Lower  ACT_Upper  \n",
              "0   0.894737        1.0  \n",
              "1   0.894737        1.0  \n",
              "2   0.894737        1.0  \n",
              "3   0.947368        1.0  \n",
              "4   0.842105        1.0  "
            ],
            "text/html": [
              "\n",
              "  <div id=\"df-42982124-803c-42f0-a828-f58a2dfb0718\">\n",
              "    <div class=\"colab-df-container\">\n",
              "      <div>\n",
              "<style scoped>\n",
              "    .dataframe tbody tr th:only-of-type {\n",
              "        vertical-align: middle;\n",
              "    }\n",
              "\n",
              "    .dataframe tbody tr th {\n",
              "        vertical-align: top;\n",
              "    }\n",
              "\n",
              "    .dataframe thead th {\n",
              "        text-align: right;\n",
              "    }\n",
              "</style>\n",
              "<table border=\"1\" class=\"dataframe\">\n",
              "  <thead>\n",
              "    <tr style=\"text-align: right;\">\n",
              "      <th></th>\n",
              "      <th>Undergraduate_Population</th>\n",
              "      <th>Student_Population</th>\n",
              "      <th>Net_Price</th>\n",
              "      <th>Average_Grant_Aid</th>\n",
              "      <th>Total_Annual_Cost</th>\n",
              "      <th>Alumni_Salary</th>\n",
              "      <th>Acceptance_Rate</th>\n",
              "      <th>SAT_Lower</th>\n",
              "      <th>SAT_Upper</th>\n",
              "      <th>ACT_Lower</th>\n",
              "      <th>ACT_Upper</th>\n",
              "    </tr>\n",
              "  </thead>\n",
              "  <tbody>\n",
              "    <tr>\n",
              "      <th>0</th>\n",
              "      <td>0.208731</td>\n",
              "      <td>0.411506</td>\n",
              "      <td>0.289669</td>\n",
              "      <td>0.978288</td>\n",
              "      <td>0.908554</td>\n",
              "      <td>0.869714</td>\n",
              "      <td>0.000000</td>\n",
              "      <td>0.901408</td>\n",
              "      <td>1.000000</td>\n",
              "      <td>0.894737</td>\n",
              "      <td>1.0</td>\n",
              "    </tr>\n",
              "    <tr>\n",
              "      <th>1</th>\n",
              "      <td>0.124720</td>\n",
              "      <td>0.229481</td>\n",
              "      <td>0.265969</td>\n",
              "      <td>0.983869</td>\n",
              "      <td>0.901236</td>\n",
              "      <td>0.851429</td>\n",
              "      <td>0.000000</td>\n",
              "      <td>0.802817</td>\n",
              "      <td>0.905660</td>\n",
              "      <td>0.894737</td>\n",
              "      <td>1.0</td>\n",
              "    </tr>\n",
              "    <tr>\n",
              "      <th>2</th>\n",
              "      <td>0.095095</td>\n",
              "      <td>0.168386</td>\n",
              "      <td>0.385269</td>\n",
              "      <td>1.000000</td>\n",
              "      <td>0.933745</td>\n",
              "      <td>0.772571</td>\n",
              "      <td>0.021053</td>\n",
              "      <td>0.901408</td>\n",
              "      <td>0.981132</td>\n",
              "      <td>0.894737</td>\n",
              "      <td>1.0</td>\n",
              "    </tr>\n",
              "    <tr>\n",
              "      <th>3</th>\n",
              "      <td>0.067262</td>\n",
              "      <td>0.148182</td>\n",
              "      <td>0.432935</td>\n",
              "      <td>0.838288</td>\n",
              "      <td>0.876209</td>\n",
              "      <td>0.965714</td>\n",
              "      <td>0.021053</td>\n",
              "      <td>0.943662</td>\n",
              "      <td>0.962264</td>\n",
              "      <td>0.947368</td>\n",
              "      <td>1.0</td>\n",
              "    </tr>\n",
              "    <tr>\n",
              "      <th>4</th>\n",
              "      <td>0.082375</td>\n",
              "      <td>0.105402</td>\n",
              "      <td>0.178506</td>\n",
              "      <td>0.940613</td>\n",
              "      <td>0.857130</td>\n",
              "      <td>0.785143</td>\n",
              "      <td>0.010526</td>\n",
              "      <td>0.859155</td>\n",
              "      <td>0.962264</td>\n",
              "      <td>0.842105</td>\n",
              "      <td>1.0</td>\n",
              "    </tr>\n",
              "  </tbody>\n",
              "</table>\n",
              "</div>\n",
              "      <button class=\"colab-df-convert\" onclick=\"convertToInteractive('df-42982124-803c-42f0-a828-f58a2dfb0718')\"\n",
              "              title=\"Convert this dataframe to an interactive table.\"\n",
              "              style=\"display:none;\">\n",
              "        \n",
              "  <svg xmlns=\"http://www.w3.org/2000/svg\" height=\"24px\"viewBox=\"0 0 24 24\"\n",
              "       width=\"24px\">\n",
              "    <path d=\"M0 0h24v24H0V0z\" fill=\"none\"/>\n",
              "    <path d=\"M18.56 5.44l.94 2.06.94-2.06 2.06-.94-2.06-.94-.94-2.06-.94 2.06-2.06.94zm-11 1L8.5 8.5l.94-2.06 2.06-.94-2.06-.94L8.5 2.5l-.94 2.06-2.06.94zm10 10l.94 2.06.94-2.06 2.06-.94-2.06-.94-.94-2.06-.94 2.06-2.06.94z\"/><path d=\"M17.41 7.96l-1.37-1.37c-.4-.4-.92-.59-1.43-.59-.52 0-1.04.2-1.43.59L10.3 9.45l-7.72 7.72c-.78.78-.78 2.05 0 2.83L4 21.41c.39.39.9.59 1.41.59.51 0 1.02-.2 1.41-.59l7.78-7.78 2.81-2.81c.8-.78.8-2.07 0-2.86zM5.41 20L4 18.59l7.72-7.72 1.47 1.35L5.41 20z\"/>\n",
              "  </svg>\n",
              "      </button>\n",
              "      \n",
              "  <style>\n",
              "    .colab-df-container {\n",
              "      display:flex;\n",
              "      flex-wrap:wrap;\n",
              "      gap: 12px;\n",
              "    }\n",
              "\n",
              "    .colab-df-convert {\n",
              "      background-color: #E8F0FE;\n",
              "      border: none;\n",
              "      border-radius: 50%;\n",
              "      cursor: pointer;\n",
              "      display: none;\n",
              "      fill: #1967D2;\n",
              "      height: 32px;\n",
              "      padding: 0 0 0 0;\n",
              "      width: 32px;\n",
              "    }\n",
              "\n",
              "    .colab-df-convert:hover {\n",
              "      background-color: #E2EBFA;\n",
              "      box-shadow: 0px 1px 2px rgba(60, 64, 67, 0.3), 0px 1px 3px 1px rgba(60, 64, 67, 0.15);\n",
              "      fill: #174EA6;\n",
              "    }\n",
              "\n",
              "    [theme=dark] .colab-df-convert {\n",
              "      background-color: #3B4455;\n",
              "      fill: #D2E3FC;\n",
              "    }\n",
              "\n",
              "    [theme=dark] .colab-df-convert:hover {\n",
              "      background-color: #434B5C;\n",
              "      box-shadow: 0px 1px 3px 1px rgba(0, 0, 0, 0.15);\n",
              "      filter: drop-shadow(0px 1px 2px rgba(0, 0, 0, 0.3));\n",
              "      fill: #FFFFFF;\n",
              "    }\n",
              "  </style>\n",
              "\n",
              "      <script>\n",
              "        const buttonEl =\n",
              "          document.querySelector('#df-42982124-803c-42f0-a828-f58a2dfb0718 button.colab-df-convert');\n",
              "        buttonEl.style.display =\n",
              "          google.colab.kernel.accessAllowed ? 'block' : 'none';\n",
              "\n",
              "        async function convertToInteractive(key) {\n",
              "          const element = document.querySelector('#df-42982124-803c-42f0-a828-f58a2dfb0718');\n",
              "          const dataTable =\n",
              "            await google.colab.kernel.invokeFunction('convertToInteractive',\n",
              "                                                     [key], {});\n",
              "          if (!dataTable) return;\n",
              "\n",
              "          const docLinkHtml = 'Like what you see? Visit the ' +\n",
              "            '<a target=\"_blank\" href=https://colab.research.google.com/notebooks/data_table.ipynb>data table notebook</a>'\n",
              "            + ' to learn more about interactive tables.';\n",
              "          element.innerHTML = '';\n",
              "          dataTable['output_type'] = 'display_data';\n",
              "          await google.colab.output.renderOutput(dataTable, element);\n",
              "          const docLink = document.createElement('div');\n",
              "          docLink.innerHTML = docLinkHtml;\n",
              "          element.appendChild(docLink);\n",
              "        }\n",
              "      </script>\n",
              "    </div>\n",
              "  </div>\n",
              "  "
            ]
          },
          "metadata": {},
          "execution_count": 78
        }
      ]
    },
    {
      "cell_type": "code",
      "execution_count": 79,
      "metadata": {
        "id": "pvWBk8pkmstW",
        "colab": {
          "base_uri": "https://localhost:8080/"
        },
        "outputId": "d738b4a8-c9ba-4375-c391-3223ec31a898"
      },
      "outputs": [
        {
          "output_type": "stream",
          "name": "stderr",
          "text": [
            "/usr/local/lib/python3.7/dist-packages/ipykernel_launcher.py:2: FutureWarning: In a future version of pandas all arguments of concat except for the argument 'objs' will be keyword-only\n",
            "  \n"
          ]
        },
        {
          "output_type": "execute_result",
          "data": {
            "text/plain": [
              "LinearRegression()"
            ]
          },
          "metadata": {},
          "execution_count": 79
        }
      ],
      "source": [
        "# Use all 13 predictors to fit linear regression model\n",
        "X = pd.concat((forbes_num['Rank'], X_scaled), 1)\n",
        "X = X.dropna()\n",
        "rank = X['Rank']\n",
        "\n",
        "X = X.drop('Rank', axis = 1)\n",
        "\n",
        "lm.fit(X, rank)\n",
        "\n",
        "# your turn\n",
        "# notice fit_intercept=True and normalize=True\n",
        "# How would you change the model to not fit an intercept term? "
      ]
    },
    {
      "cell_type": "code",
      "source": [
        "X"
      ],
      "metadata": {
        "id": "uiR9Oy92FQkT",
        "outputId": "fa66ebcc-4d85-4bf1-804c-4715e7a46436",
        "colab": {
          "base_uri": "https://localhost:8080/",
          "height": 488
        }
      },
      "execution_count": 80,
      "outputs": [
        {
          "output_type": "execute_result",
          "data": {
            "text/plain": [
              "     Undergraduate_Population  Student_Population  Net_Price  \\\n",
              "0                    0.208731            0.411506   0.289669   \n",
              "1                    0.124720            0.229481   0.265969   \n",
              "2                    0.095095            0.168386   0.385269   \n",
              "3                    0.067262            0.148182   0.432935   \n",
              "4                    0.082375            0.105402   0.178506   \n",
              "..                        ...                 ...        ...   \n",
              "518                  0.024870            0.028243   0.371396   \n",
              "519                  0.029007            0.024291   0.747682   \n",
              "521                  0.205366            0.178957   0.260433   \n",
              "522                  0.011902            0.010986   0.401121   \n",
              "523                  0.015638            0.014162   0.411503   \n",
              "\n",
              "     Average_Grant_Aid  Total_Annual_Cost  Alumni_Salary  Acceptance_Rate  \\\n",
              "0             0.978288           0.908554       0.869714         0.000000   \n",
              "1             0.983869           0.901236       0.851429         0.000000   \n",
              "2             1.000000           0.933745       0.772571         0.021053   \n",
              "3             0.838288           0.876209       0.965714         0.021053   \n",
              "4             0.940613           0.857130       0.785143         0.010526   \n",
              "..                 ...                ...            ...              ...   \n",
              "518           0.349450           0.476889       0.066286         0.652632   \n",
              "519           0.290085           0.597371       0.320000         0.726316   \n",
              "521           0.120507           0.362086       0.170286         0.842105   \n",
              "522           0.498055           0.588084       0.000000         0.705263   \n",
              "523           0.424207           0.540700       0.084571         0.389474   \n",
              "\n",
              "     SAT_Lower  SAT_Upper  ACT_Lower  ACT_Upper  \n",
              "0     0.901408   1.000000   0.894737   1.000000  \n",
              "1     0.802817   0.905660   0.894737   1.000000  \n",
              "2     0.901408   0.981132   0.894737   1.000000  \n",
              "3     0.943662   0.962264   0.947368   1.000000  \n",
              "4     0.859155   0.962264   0.842105   1.000000  \n",
              "..         ...        ...        ...        ...  \n",
              "518   0.169014   0.169811   0.263158   0.400000  \n",
              "519   0.183099   0.188679   0.157895   0.200000  \n",
              "521   0.112676   0.094340   0.105263   0.200000  \n",
              "522   0.236620   0.207547   0.210526   0.333333  \n",
              "523   0.154930   0.075472   0.157895   0.200000  \n",
              "\n",
              "[429 rows x 11 columns]"
            ],
            "text/html": [
              "\n",
              "  <div id=\"df-b5738b5e-7551-49dc-81fb-17bb8b3e1e61\">\n",
              "    <div class=\"colab-df-container\">\n",
              "      <div>\n",
              "<style scoped>\n",
              "    .dataframe tbody tr th:only-of-type {\n",
              "        vertical-align: middle;\n",
              "    }\n",
              "\n",
              "    .dataframe tbody tr th {\n",
              "        vertical-align: top;\n",
              "    }\n",
              "\n",
              "    .dataframe thead th {\n",
              "        text-align: right;\n",
              "    }\n",
              "</style>\n",
              "<table border=\"1\" class=\"dataframe\">\n",
              "  <thead>\n",
              "    <tr style=\"text-align: right;\">\n",
              "      <th></th>\n",
              "      <th>Undergraduate_Population</th>\n",
              "      <th>Student_Population</th>\n",
              "      <th>Net_Price</th>\n",
              "      <th>Average_Grant_Aid</th>\n",
              "      <th>Total_Annual_Cost</th>\n",
              "      <th>Alumni_Salary</th>\n",
              "      <th>Acceptance_Rate</th>\n",
              "      <th>SAT_Lower</th>\n",
              "      <th>SAT_Upper</th>\n",
              "      <th>ACT_Lower</th>\n",
              "      <th>ACT_Upper</th>\n",
              "    </tr>\n",
              "  </thead>\n",
              "  <tbody>\n",
              "    <tr>\n",
              "      <th>0</th>\n",
              "      <td>0.208731</td>\n",
              "      <td>0.411506</td>\n",
              "      <td>0.289669</td>\n",
              "      <td>0.978288</td>\n",
              "      <td>0.908554</td>\n",
              "      <td>0.869714</td>\n",
              "      <td>0.000000</td>\n",
              "      <td>0.901408</td>\n",
              "      <td>1.000000</td>\n",
              "      <td>0.894737</td>\n",
              "      <td>1.000000</td>\n",
              "    </tr>\n",
              "    <tr>\n",
              "      <th>1</th>\n",
              "      <td>0.124720</td>\n",
              "      <td>0.229481</td>\n",
              "      <td>0.265969</td>\n",
              "      <td>0.983869</td>\n",
              "      <td>0.901236</td>\n",
              "      <td>0.851429</td>\n",
              "      <td>0.000000</td>\n",
              "      <td>0.802817</td>\n",
              "      <td>0.905660</td>\n",
              "      <td>0.894737</td>\n",
              "      <td>1.000000</td>\n",
              "    </tr>\n",
              "    <tr>\n",
              "      <th>2</th>\n",
              "      <td>0.095095</td>\n",
              "      <td>0.168386</td>\n",
              "      <td>0.385269</td>\n",
              "      <td>1.000000</td>\n",
              "      <td>0.933745</td>\n",
              "      <td>0.772571</td>\n",
              "      <td>0.021053</td>\n",
              "      <td>0.901408</td>\n",
              "      <td>0.981132</td>\n",
              "      <td>0.894737</td>\n",
              "      <td>1.000000</td>\n",
              "    </tr>\n",
              "    <tr>\n",
              "      <th>3</th>\n",
              "      <td>0.067262</td>\n",
              "      <td>0.148182</td>\n",
              "      <td>0.432935</td>\n",
              "      <td>0.838288</td>\n",
              "      <td>0.876209</td>\n",
              "      <td>0.965714</td>\n",
              "      <td>0.021053</td>\n",
              "      <td>0.943662</td>\n",
              "      <td>0.962264</td>\n",
              "      <td>0.947368</td>\n",
              "      <td>1.000000</td>\n",
              "    </tr>\n",
              "    <tr>\n",
              "      <th>4</th>\n",
              "      <td>0.082375</td>\n",
              "      <td>0.105402</td>\n",
              "      <td>0.178506</td>\n",
              "      <td>0.940613</td>\n",
              "      <td>0.857130</td>\n",
              "      <td>0.785143</td>\n",
              "      <td>0.010526</td>\n",
              "      <td>0.859155</td>\n",
              "      <td>0.962264</td>\n",
              "      <td>0.842105</td>\n",
              "      <td>1.000000</td>\n",
              "    </tr>\n",
              "    <tr>\n",
              "      <th>...</th>\n",
              "      <td>...</td>\n",
              "      <td>...</td>\n",
              "      <td>...</td>\n",
              "      <td>...</td>\n",
              "      <td>...</td>\n",
              "      <td>...</td>\n",
              "      <td>...</td>\n",
              "      <td>...</td>\n",
              "      <td>...</td>\n",
              "      <td>...</td>\n",
              "      <td>...</td>\n",
              "    </tr>\n",
              "    <tr>\n",
              "      <th>518</th>\n",
              "      <td>0.024870</td>\n",
              "      <td>0.028243</td>\n",
              "      <td>0.371396</td>\n",
              "      <td>0.349450</td>\n",
              "      <td>0.476889</td>\n",
              "      <td>0.066286</td>\n",
              "      <td>0.652632</td>\n",
              "      <td>0.169014</td>\n",
              "      <td>0.169811</td>\n",
              "      <td>0.263158</td>\n",
              "      <td>0.400000</td>\n",
              "    </tr>\n",
              "    <tr>\n",
              "      <th>519</th>\n",
              "      <td>0.029007</td>\n",
              "      <td>0.024291</td>\n",
              "      <td>0.747682</td>\n",
              "      <td>0.290085</td>\n",
              "      <td>0.597371</td>\n",
              "      <td>0.320000</td>\n",
              "      <td>0.726316</td>\n",
              "      <td>0.183099</td>\n",
              "      <td>0.188679</td>\n",
              "      <td>0.157895</td>\n",
              "      <td>0.200000</td>\n",
              "    </tr>\n",
              "    <tr>\n",
              "      <th>521</th>\n",
              "      <td>0.205366</td>\n",
              "      <td>0.178957</td>\n",
              "      <td>0.260433</td>\n",
              "      <td>0.120507</td>\n",
              "      <td>0.362086</td>\n",
              "      <td>0.170286</td>\n",
              "      <td>0.842105</td>\n",
              "      <td>0.112676</td>\n",
              "      <td>0.094340</td>\n",
              "      <td>0.105263</td>\n",
              "      <td>0.200000</td>\n",
              "    </tr>\n",
              "    <tr>\n",
              "      <th>522</th>\n",
              "      <td>0.011902</td>\n",
              "      <td>0.010986</td>\n",
              "      <td>0.401121</td>\n",
              "      <td>0.498055</td>\n",
              "      <td>0.588084</td>\n",
              "      <td>0.000000</td>\n",
              "      <td>0.705263</td>\n",
              "      <td>0.236620</td>\n",
              "      <td>0.207547</td>\n",
              "      <td>0.210526</td>\n",
              "      <td>0.333333</td>\n",
              "    </tr>\n",
              "    <tr>\n",
              "      <th>523</th>\n",
              "      <td>0.015638</td>\n",
              "      <td>0.014162</td>\n",
              "      <td>0.411503</td>\n",
              "      <td>0.424207</td>\n",
              "      <td>0.540700</td>\n",
              "      <td>0.084571</td>\n",
              "      <td>0.389474</td>\n",
              "      <td>0.154930</td>\n",
              "      <td>0.075472</td>\n",
              "      <td>0.157895</td>\n",
              "      <td>0.200000</td>\n",
              "    </tr>\n",
              "  </tbody>\n",
              "</table>\n",
              "<p>429 rows × 11 columns</p>\n",
              "</div>\n",
              "      <button class=\"colab-df-convert\" onclick=\"convertToInteractive('df-b5738b5e-7551-49dc-81fb-17bb8b3e1e61')\"\n",
              "              title=\"Convert this dataframe to an interactive table.\"\n",
              "              style=\"display:none;\">\n",
              "        \n",
              "  <svg xmlns=\"http://www.w3.org/2000/svg\" height=\"24px\"viewBox=\"0 0 24 24\"\n",
              "       width=\"24px\">\n",
              "    <path d=\"M0 0h24v24H0V0z\" fill=\"none\"/>\n",
              "    <path d=\"M18.56 5.44l.94 2.06.94-2.06 2.06-.94-2.06-.94-.94-2.06-.94 2.06-2.06.94zm-11 1L8.5 8.5l.94-2.06 2.06-.94-2.06-.94L8.5 2.5l-.94 2.06-2.06.94zm10 10l.94 2.06.94-2.06 2.06-.94-2.06-.94-.94-2.06-.94 2.06-2.06.94z\"/><path d=\"M17.41 7.96l-1.37-1.37c-.4-.4-.92-.59-1.43-.59-.52 0-1.04.2-1.43.59L10.3 9.45l-7.72 7.72c-.78.78-.78 2.05 0 2.83L4 21.41c.39.39.9.59 1.41.59.51 0 1.02-.2 1.41-.59l7.78-7.78 2.81-2.81c.8-.78.8-2.07 0-2.86zM5.41 20L4 18.59l7.72-7.72 1.47 1.35L5.41 20z\"/>\n",
              "  </svg>\n",
              "      </button>\n",
              "      \n",
              "  <style>\n",
              "    .colab-df-container {\n",
              "      display:flex;\n",
              "      flex-wrap:wrap;\n",
              "      gap: 12px;\n",
              "    }\n",
              "\n",
              "    .colab-df-convert {\n",
              "      background-color: #E8F0FE;\n",
              "      border: none;\n",
              "      border-radius: 50%;\n",
              "      cursor: pointer;\n",
              "      display: none;\n",
              "      fill: #1967D2;\n",
              "      height: 32px;\n",
              "      padding: 0 0 0 0;\n",
              "      width: 32px;\n",
              "    }\n",
              "\n",
              "    .colab-df-convert:hover {\n",
              "      background-color: #E2EBFA;\n",
              "      box-shadow: 0px 1px 2px rgba(60, 64, 67, 0.3), 0px 1px 3px 1px rgba(60, 64, 67, 0.15);\n",
              "      fill: #174EA6;\n",
              "    }\n",
              "\n",
              "    [theme=dark] .colab-df-convert {\n",
              "      background-color: #3B4455;\n",
              "      fill: #D2E3FC;\n",
              "    }\n",
              "\n",
              "    [theme=dark] .colab-df-convert:hover {\n",
              "      background-color: #434B5C;\n",
              "      box-shadow: 0px 1px 3px 1px rgba(0, 0, 0, 0.15);\n",
              "      filter: drop-shadow(0px 1px 2px rgba(0, 0, 0, 0.3));\n",
              "      fill: #FFFFFF;\n",
              "    }\n",
              "  </style>\n",
              "\n",
              "      <script>\n",
              "        const buttonEl =\n",
              "          document.querySelector('#df-b5738b5e-7551-49dc-81fb-17bb8b3e1e61 button.colab-df-convert');\n",
              "        buttonEl.style.display =\n",
              "          google.colab.kernel.accessAllowed ? 'block' : 'none';\n",
              "\n",
              "        async function convertToInteractive(key) {\n",
              "          const element = document.querySelector('#df-b5738b5e-7551-49dc-81fb-17bb8b3e1e61');\n",
              "          const dataTable =\n",
              "            await google.colab.kernel.invokeFunction('convertToInteractive',\n",
              "                                                     [key], {});\n",
              "          if (!dataTable) return;\n",
              "\n",
              "          const docLinkHtml = 'Like what you see? Visit the ' +\n",
              "            '<a target=\"_blank\" href=https://colab.research.google.com/notebooks/data_table.ipynb>data table notebook</a>'\n",
              "            + ' to learn more about interactive tables.';\n",
              "          element.innerHTML = '';\n",
              "          dataTable['output_type'] = 'display_data';\n",
              "          await google.colab.output.renderOutput(dataTable, element);\n",
              "          const docLink = document.createElement('div');\n",
              "          docLink.innerHTML = docLinkHtml;\n",
              "          element.appendChild(docLink);\n",
              "        }\n",
              "      </script>\n",
              "    </div>\n",
              "  </div>\n",
              "  "
            ]
          },
          "metadata": {},
          "execution_count": 80
        }
      ]
    },
    {
      "cell_type": "markdown",
      "metadata": {
        "id": "VEZaczUGmstW"
      },
      "source": [
        "### Estimated intercept and coefficients\n",
        "\n",
        "Let's look at the estimated coefficients from the linear model using `1m.intercept_` and `lm.coef_`.  \n",
        "\n",
        "After we have fit our linear regression model using the least squares method, we want to see what are the estimates of our coefficients $\\beta_0$, $\\beta_1$, ..., $\\beta_{13}$: \n",
        "\n",
        "$$ \\hat{\\beta}_0, \\hat{\\beta}_1, \\ldots, \\hat{\\beta}_{13} $$\n",
        "\n"
      ]
    },
    {
      "cell_type": "code",
      "execution_count": 81,
      "metadata": {
        "id": "rUmO0q2ymstW",
        "colab": {
          "base_uri": "https://localhost:8080/"
        },
        "outputId": "9690be31-2639-45d1-8832-62df4586d3f8"
      },
      "outputs": [
        {
          "output_type": "stream",
          "name": "stdout",
          "text": [
            "Estimated intercept coefficient: 680.3891350470083\n"
          ]
        }
      ],
      "source": [
        "print('Estimated intercept coefficient:', lm.intercept_)"
      ]
    },
    {
      "cell_type": "code",
      "execution_count": 82,
      "metadata": {
        "id": "Whez32IRmstX",
        "colab": {
          "base_uri": "https://localhost:8080/"
        },
        "outputId": "6a17ca07-64e2-4cae-f1be-2abc3abe563a"
      },
      "outputs": [
        {
          "output_type": "stream",
          "name": "stdout",
          "text": [
            "Number of coefficients: 11\n"
          ]
        }
      ],
      "source": [
        "print('Number of coefficients:', len(lm.coef_))"
      ]
    },
    {
      "cell_type": "code",
      "execution_count": 83,
      "metadata": {
        "id": "dQ5tSpSamstX",
        "colab": {
          "base_uri": "https://localhost:8080/"
        },
        "outputId": "56eb146f-7b35-486a-f946-ceb62ac2a5bb"
      },
      "outputs": [
        {
          "output_type": "execute_result",
          "data": {
            "text/plain": [
              "<zip at 0x7f713914f050>"
            ]
          },
          "metadata": {},
          "execution_count": 83
        }
      ],
      "source": [
        "zip(X.columns, lm.coef_)"
      ]
    },
    {
      "cell_type": "code",
      "execution_count": 84,
      "metadata": {
        "id": "1q3P2ruzmstX",
        "colab": {
          "base_uri": "https://localhost:8080/",
          "height": 394
        },
        "outputId": "c34c9868-7aee-4db0-a6c2-76bb767ee444"
      },
      "outputs": [
        {
          "output_type": "execute_result",
          "data": {
            "text/plain": [
              "                    features  estimatedCoefficients\n",
              "0   Undergraduate_Population            -227.270627\n",
              "1         Student_Population             139.633129\n",
              "2                  Net_Price             -26.879833\n",
              "3          Average_Grant_Aid             145.304498\n",
              "4          Total_Annual_Cost            -232.375900\n",
              "5              Alumni_Salary            -173.484796\n",
              "6            Acceptance_Rate              10.680336\n",
              "7                  SAT_Lower            -100.089859\n",
              "8                  SAT_Upper             -69.380414\n",
              "9                  ACT_Lower            -231.685082\n",
              "10                 ACT_Upper            -125.188005"
            ],
            "text/html": [
              "\n",
              "  <div id=\"df-35b31b57-38e2-4b79-80d9-df1b4063d453\">\n",
              "    <div class=\"colab-df-container\">\n",
              "      <div>\n",
              "<style scoped>\n",
              "    .dataframe tbody tr th:only-of-type {\n",
              "        vertical-align: middle;\n",
              "    }\n",
              "\n",
              "    .dataframe tbody tr th {\n",
              "        vertical-align: top;\n",
              "    }\n",
              "\n",
              "    .dataframe thead th {\n",
              "        text-align: right;\n",
              "    }\n",
              "</style>\n",
              "<table border=\"1\" class=\"dataframe\">\n",
              "  <thead>\n",
              "    <tr style=\"text-align: right;\">\n",
              "      <th></th>\n",
              "      <th>features</th>\n",
              "      <th>estimatedCoefficients</th>\n",
              "    </tr>\n",
              "  </thead>\n",
              "  <tbody>\n",
              "    <tr>\n",
              "      <th>0</th>\n",
              "      <td>Undergraduate_Population</td>\n",
              "      <td>-227.270627</td>\n",
              "    </tr>\n",
              "    <tr>\n",
              "      <th>1</th>\n",
              "      <td>Student_Population</td>\n",
              "      <td>139.633129</td>\n",
              "    </tr>\n",
              "    <tr>\n",
              "      <th>2</th>\n",
              "      <td>Net_Price</td>\n",
              "      <td>-26.879833</td>\n",
              "    </tr>\n",
              "    <tr>\n",
              "      <th>3</th>\n",
              "      <td>Average_Grant_Aid</td>\n",
              "      <td>145.304498</td>\n",
              "    </tr>\n",
              "    <tr>\n",
              "      <th>4</th>\n",
              "      <td>Total_Annual_Cost</td>\n",
              "      <td>-232.375900</td>\n",
              "    </tr>\n",
              "    <tr>\n",
              "      <th>5</th>\n",
              "      <td>Alumni_Salary</td>\n",
              "      <td>-173.484796</td>\n",
              "    </tr>\n",
              "    <tr>\n",
              "      <th>6</th>\n",
              "      <td>Acceptance_Rate</td>\n",
              "      <td>10.680336</td>\n",
              "    </tr>\n",
              "    <tr>\n",
              "      <th>7</th>\n",
              "      <td>SAT_Lower</td>\n",
              "      <td>-100.089859</td>\n",
              "    </tr>\n",
              "    <tr>\n",
              "      <th>8</th>\n",
              "      <td>SAT_Upper</td>\n",
              "      <td>-69.380414</td>\n",
              "    </tr>\n",
              "    <tr>\n",
              "      <th>9</th>\n",
              "      <td>ACT_Lower</td>\n",
              "      <td>-231.685082</td>\n",
              "    </tr>\n",
              "    <tr>\n",
              "      <th>10</th>\n",
              "      <td>ACT_Upper</td>\n",
              "      <td>-125.188005</td>\n",
              "    </tr>\n",
              "  </tbody>\n",
              "</table>\n",
              "</div>\n",
              "      <button class=\"colab-df-convert\" onclick=\"convertToInteractive('df-35b31b57-38e2-4b79-80d9-df1b4063d453')\"\n",
              "              title=\"Convert this dataframe to an interactive table.\"\n",
              "              style=\"display:none;\">\n",
              "        \n",
              "  <svg xmlns=\"http://www.w3.org/2000/svg\" height=\"24px\"viewBox=\"0 0 24 24\"\n",
              "       width=\"24px\">\n",
              "    <path d=\"M0 0h24v24H0V0z\" fill=\"none\"/>\n",
              "    <path d=\"M18.56 5.44l.94 2.06.94-2.06 2.06-.94-2.06-.94-.94-2.06-.94 2.06-2.06.94zm-11 1L8.5 8.5l.94-2.06 2.06-.94-2.06-.94L8.5 2.5l-.94 2.06-2.06.94zm10 10l.94 2.06.94-2.06 2.06-.94-2.06-.94-.94-2.06-.94 2.06-2.06.94z\"/><path d=\"M17.41 7.96l-1.37-1.37c-.4-.4-.92-.59-1.43-.59-.52 0-1.04.2-1.43.59L10.3 9.45l-7.72 7.72c-.78.78-.78 2.05 0 2.83L4 21.41c.39.39.9.59 1.41.59.51 0 1.02-.2 1.41-.59l7.78-7.78 2.81-2.81c.8-.78.8-2.07 0-2.86zM5.41 20L4 18.59l7.72-7.72 1.47 1.35L5.41 20z\"/>\n",
              "  </svg>\n",
              "      </button>\n",
              "      \n",
              "  <style>\n",
              "    .colab-df-container {\n",
              "      display:flex;\n",
              "      flex-wrap:wrap;\n",
              "      gap: 12px;\n",
              "    }\n",
              "\n",
              "    .colab-df-convert {\n",
              "      background-color: #E8F0FE;\n",
              "      border: none;\n",
              "      border-radius: 50%;\n",
              "      cursor: pointer;\n",
              "      display: none;\n",
              "      fill: #1967D2;\n",
              "      height: 32px;\n",
              "      padding: 0 0 0 0;\n",
              "      width: 32px;\n",
              "    }\n",
              "\n",
              "    .colab-df-convert:hover {\n",
              "      background-color: #E2EBFA;\n",
              "      box-shadow: 0px 1px 2px rgba(60, 64, 67, 0.3), 0px 1px 3px 1px rgba(60, 64, 67, 0.15);\n",
              "      fill: #174EA6;\n",
              "    }\n",
              "\n",
              "    [theme=dark] .colab-df-convert {\n",
              "      background-color: #3B4455;\n",
              "      fill: #D2E3FC;\n",
              "    }\n",
              "\n",
              "    [theme=dark] .colab-df-convert:hover {\n",
              "      background-color: #434B5C;\n",
              "      box-shadow: 0px 1px 3px 1px rgba(0, 0, 0, 0.15);\n",
              "      filter: drop-shadow(0px 1px 2px rgba(0, 0, 0, 0.3));\n",
              "      fill: #FFFFFF;\n",
              "    }\n",
              "  </style>\n",
              "\n",
              "      <script>\n",
              "        const buttonEl =\n",
              "          document.querySelector('#df-35b31b57-38e2-4b79-80d9-df1b4063d453 button.colab-df-convert');\n",
              "        buttonEl.style.display =\n",
              "          google.colab.kernel.accessAllowed ? 'block' : 'none';\n",
              "\n",
              "        async function convertToInteractive(key) {\n",
              "          const element = document.querySelector('#df-35b31b57-38e2-4b79-80d9-df1b4063d453');\n",
              "          const dataTable =\n",
              "            await google.colab.kernel.invokeFunction('convertToInteractive',\n",
              "                                                     [key], {});\n",
              "          if (!dataTable) return;\n",
              "\n",
              "          const docLinkHtml = 'Like what you see? Visit the ' +\n",
              "            '<a target=\"_blank\" href=https://colab.research.google.com/notebooks/data_table.ipynb>data table notebook</a>'\n",
              "            + ' to learn more about interactive tables.';\n",
              "          element.innerHTML = '';\n",
              "          dataTable['output_type'] = 'display_data';\n",
              "          await google.colab.output.renderOutput(dataTable, element);\n",
              "          const docLink = document.createElement('div');\n",
              "          docLink.innerHTML = docLinkHtml;\n",
              "          element.appendChild(docLink);\n",
              "        }\n",
              "      </script>\n",
              "    </div>\n",
              "  </div>\n",
              "  "
            ]
          },
          "metadata": {},
          "execution_count": 84
        }
      ],
      "source": [
        "# The coefficients\n",
        "pd.DataFrame(zip(X.columns, lm.coef_), columns = ['features', 'estimatedCoefficients'])"
      ]
    },
    {
      "cell_type": "markdown",
      "metadata": {
        "id": "vZtNLVa5mstX"
      },
      "source": [
        "### Predict Prices \n",
        "\n",
        "We can calculate the predicted ranks ($\\hat{Y}_i$) using `lm.predict`. \n",
        "\n",
        "$$ \\hat{Y}_i = \\hat{\\beta}_0 + \\hat{\\beta}_1 X_1 + \\ldots \\hat{\\beta}_{13} X_{13} $$"
      ]
    },
    {
      "cell_type": "code",
      "execution_count": 85,
      "metadata": {
        "id": "yTUctq7OmstX",
        "colab": {
          "base_uri": "https://localhost:8080/"
        },
        "outputId": "9b302d47-443c-4822-9044-2aed3d4748de"
      },
      "outputs": [
        {
          "output_type": "execute_result",
          "data": {
            "text/plain": [
              "array([-2.93219390e+01, -1.29110351e+01, -2.43251554e+01, -8.08508303e+01,\n",
              "       -5.80354019e-02])"
            ]
          },
          "metadata": {},
          "execution_count": 85
        }
      ],
      "source": [
        "# first five predicted ranks\n",
        "lm.predict(X)[0:5]"
      ]
    },
    {
      "cell_type": "code",
      "execution_count": 86,
      "metadata": {
        "id": "Dlc1gTY_mstX",
        "colab": {
          "base_uri": "https://localhost:8080/",
          "height": 325
        },
        "outputId": "f5c5003a-f627-4a43-bba1-b7e5492b6bc2"
      },
      "outputs": [
        {
          "output_type": "execute_result",
          "data": {
            "text/plain": [
              "Text(0, 0.5, 'Frequency')"
            ]
          },
          "metadata": {},
          "execution_count": 86
        },
        {
          "output_type": "display_data",
          "data": {
            "text/plain": [
              "<Figure size 432x288 with 1 Axes>"
            ],
            "image/png": "[encoded data removed]"
          },
          "metadata": {}
        }
      ],
      "source": [
        "plt.hist(lm.predict(X))\n",
        "plt.title('Predicted Ranks (fitted values): $\\hat{Y}_i$')\n",
        "plt.xlabel('Ranks')\n",
        "plt.ylabel('Frequency')"
      ]
    },
    {
      "cell_type": "markdown",
      "metadata": {
        "id": "fziS4QhPmstX"
      },
      "source": [
        "Let's plot the true prices compared to the predicted prices to see they disagree, we saw this exactly before but this is how you access the predicted values in using `sklearn`."
      ]
    },
    {
      "cell_type": "code",
      "execution_count": 87,
      "metadata": {
        "id": "j-ZXBaywmstX",
        "colab": {
          "base_uri": "https://localhost:8080/",
          "height": 310
        },
        "outputId": "977d7775-d89b-4870-9920-50fed8288a5e"
      },
      "outputs": [
        {
          "output_type": "display_data",
          "data": {
            "text/plain": [
              "<Figure size 432x288 with 1 Axes>"
            ],
            "image/png": "[encoded data removed]"
          },
          "metadata": {}
        }
      ],
      "source": [
        "plt.scatter(rank, lm.predict(X), alpha=0.5)\n",
        "plt.xlabel(\"Ranks: $Y_i$\")\n",
        "plt.ylabel(\"Predicted ranks: $\\hat{Y}_i$\")\n",
        "plt.title(\"Ranks vs Predicted Ranks: $Y_i$ vs $\\hat{Y}_i$\")\n",
        "plt.plot([-250, 700], [-250, 700], color='r', linestyle='-', linewidth=2)\n",
        "plt.gca().set_aspect('equal')\n",
        "\n",
        "#plt.savefig('true_vs_predicted.png')"
      ]
    },
    {
      "cell_type": "markdown",
      "metadata": {
        "id": "5f-pFawAmstX"
      },
      "source": [
        "### Residual sum of squares\n",
        "\n",
        "Let's calculate the residual sum of squares \n",
        "\n",
        "$$ S = \\sum_{i=1}^N r_i = \\sum_{i=1}^N (y_i - (\\beta_0 + \\beta_1 x_i))^2 $$\n",
        "\n",
        "The large residual sum of squares and mean squared error below indicate that this kind of linear regression model does not fit well to our dataset. Given more time, we would like to explore using different model or possibly a combination of models that are more compatible with our dataset."
      ]
    },
    {
      "cell_type": "code",
      "execution_count": 88,
      "metadata": {
        "id": "qvidxYTtmstX",
        "colab": {
          "base_uri": "https://localhost:8080/"
        },
        "outputId": "b85b81be-9157-49bc-9e5d-8cde8a2f6785"
      },
      "outputs": [
        {
          "output_type": "stream",
          "name": "stdout",
          "text": [
            "1798866.7086221152\n"
          ]
        }
      ],
      "source": [
        "print(np.sum((rank - lm.predict(X)) ** 2))"
      ]
    },
    {
      "cell_type": "markdown",
      "metadata": {
        "id": "R9TL9muTmstY"
      },
      "source": [
        "#### Mean squared error"
      ]
    },
    {
      "cell_type": "code",
      "execution_count": 89,
      "metadata": {
        "id": "-FHVuhWBmstY",
        "colab": {
          "base_uri": "https://localhost:8080/"
        },
        "outputId": "ca3df9d2-0261-4718-b96b-10343d3e8d3c"
      },
      "outputs": [
        {
          "output_type": "stream",
          "name": "stdout",
          "text": [
            "4193.1624909606435\n"
          ]
        }
      ],
      "source": [
        "mseFull = np.mean((rank - lm.predict(X)) ** 2)\n",
        "print(mseFull)"
      ]
    },
    {
      "cell_type": "markdown",
      "metadata": {
        "id": "koE-wB2GmstY"
      },
      "source": [
        "## Relationship between `Total Annual Cost` and rank\n",
        "***\n",
        "\n",
        "Try fitting a linear regression model using only the 'Total Annual Cost'\n",
        "\n",
        "Calculate the mean squared error. \n"
      ]
    },
    {
      "cell_type": "code",
      "execution_count": 90,
      "metadata": {
        "id": "OToZEYYemstZ",
        "colab": {
          "base_uri": "https://localhost:8080/"
        },
        "outputId": "e1035cd2-a285-4364-d0b4-db7300b881ef"
      },
      "outputs": [
        {
          "output_type": "execute_result",
          "data": {
            "text/plain": [
              "LinearRegression()"
            ]
          },
          "metadata": {},
          "execution_count": 90
        }
      ],
      "source": [
        "lm = LinearRegression()\n",
        "lm.fit(X[['Total_Annual_Cost']], rank)"
      ]
    },
    {
      "cell_type": "code",
      "execution_count": 91,
      "metadata": {
        "id": "1yWSIMDRmstZ",
        "colab": {
          "base_uri": "https://localhost:8080/"
        },
        "outputId": "0e3a8b33-8fdd-485a-b358-a1ea974aa9f4"
      },
      "outputs": [
        {
          "output_type": "stream",
          "name": "stdout",
          "text": [
            "13480.027008100406\n"
          ]
        }
      ],
      "source": [
        "mseTAC = np.mean((rank - lm.predict(X[['Total_Annual_Cost']])) ** 2)\n",
        "print(mseTAC)"
      ]
    },
    {
      "cell_type": "markdown",
      "metadata": {
        "id": "rQNYD4d6mstZ"
      },
      "source": [
        "We can also plot the fitted linear regression line. "
      ]
    },
    {
      "cell_type": "code",
      "execution_count": 94,
      "metadata": {
        "id": "i_nZavHJmstZ",
        "colab": {
          "base_uri": "https://localhost:8080/",
          "height": 301
        },
        "outputId": "cd302cdd-fafa-467a-d912-e9ca39103c86"
      },
      "outputs": [
        {
          "output_type": "display_data",
          "data": {
            "text/plain": [
              "<Figure size 432x288 with 1 Axes>"
            ],
            "image/png": "[encoded data removed]"
          },
          "metadata": {}
        }
      ],
      "source": [
        "plt.scatter(X['Total_Annual_Cost'], rank)\n",
        "plt.xlabel(\"Total_Annual_Cost\")\n",
        "plt.ylabel(\"Rank\")\n",
        "plt.title(\"Relationship between Total Annual Cost and Rank\")\n",
        "\n",
        "plt.plot(X['Total_Annual_Cost'], lm.predict(X[['Total_Annual_Cost']]), color='blue', linewidth=3)\n",
        "plt.show()"
      ]
    },
    {
      "cell_type": "markdown",
      "metadata": {
        "id": "nt15zL6emsta"
      },
      "source": [
        "# Part 3: Training and Test Data sets\n",
        "\n",
        "### Purpose of splitting data into Training/testing sets\n",
        "***\n",
        "<div class=\"span5 alert alert-info\">\n",
        "\n",
        "<p> Let's stick to the linear regression example: </p>\n",
        "<ul>\n",
        "  <li> We built our model with the requirement that the model fit the data well. </li>\n",
        "  <li> As a side-effect, the model will fit <b>THIS</b> dataset well. What about new data? </li>\n",
        "    <ul>\n",
        "      <li> We wanted the model for predictions, right?</li>\n",
        "    </ul>\n",
        "  <li> One simple solution, leave out some data (for <b>testing</b>) and <b>train</b> the model on the rest </li>\n",
        "  <li> This also leads directly to the idea of cross-validation, next section. </li>  \n",
        "</ul>\n",
        "</div>\n",
        "\n",
        "***\n",
        "\n",
        "One way of doing this is you can create training and testing data sets manually. "
      ]
    },
    {
      "cell_type": "code",
      "execution_count": 95,
      "metadata": {
        "id": "PREywyVZmsta",
        "colab": {
          "base_uri": "https://localhost:8080/"
        },
        "outputId": "a1963a8c-7292-4efa-ecde-236f5de47515"
      },
      "outputs": [
        {
          "output_type": "stream",
          "name": "stdout",
          "text": [
            "(379, 11)\n",
            "(50, 11)\n",
            "(379,)\n",
            "(50,)\n"
          ]
        }
      ],
      "source": [
        "X_train = X[:-50]\n",
        "X_test = X[-50:]\n",
        "Y_train = rank[:-50]\n",
        "Y_test = rank[-50:]\n",
        "print(X_train.shape)\n",
        "print(X_test.shape)\n",
        "print(Y_train.shape)\n",
        "print(Y_test.shape)"
      ]
    },
    {
      "cell_type": "markdown",
      "metadata": {
        "id": "Q9g0-JWkmsta"
      },
      "source": [
        "Another way, is to split the data into random train and test subsets using the function `train_test_split` in `sklearn.cross_validation`. "
      ]
    },
    {
      "cell_type": "code",
      "execution_count": 96,
      "metadata": {
        "id": "UeW6JyVFmsta"
      },
      "outputs": [],
      "source": [
        "# let's look at the function in the help file\n",
        "#sklearn.model_selection.train_test_split?"
      ]
    },
    {
      "cell_type": "code",
      "execution_count": 97,
      "metadata": {
        "id": "fJuT_-DDmsta",
        "colab": {
          "base_uri": "https://localhost:8080/"
        },
        "outputId": "46d2f6a0-34dc-4c3f-8b94-d12dd382564a"
      },
      "outputs": [
        {
          "output_type": "stream",
          "name": "stdout",
          "text": [
            "(287, 11)\n",
            "(142, 11)\n",
            "(287,)\n",
            "(142,)\n"
          ]
        }
      ],
      "source": [
        "X_train, X_test, Y_train, Y_test = sklearn.model_selection.train_test_split(\n",
        "    X, rank, test_size=0.33, random_state = 5)\n",
        "print(X_train.shape)\n",
        "print(X_test.shape)\n",
        "print(Y_train.shape)\n",
        "print(Y_test.shape)"
      ]
    },
    {
      "cell_type": "markdown",
      "metadata": {
        "id": "5VvFK1dLmsta"
      },
      "source": [
        "Your turn.  Let's build a linear regression model using our new training data sets. "
      ]
    },
    {
      "cell_type": "code",
      "execution_count": 98,
      "metadata": {
        "id": "fdEDwkqcmsta"
      },
      "outputs": [],
      "source": [
        "lm = LinearRegression()\n",
        "lm.fit(X_train, Y_train)\n",
        "pred_train = lm.predict(X_train)\n",
        "pred_test = lm.predict(X_test)"
      ]
    },
    {
      "cell_type": "markdown",
      "metadata": {
        "id": "f9KOtXXamsta"
      },
      "source": [
        "Now, calculate the mean squared error using just the test data and compare to mean squared from using all the data to fit the model. "
      ]
    },
    {
      "cell_type": "code",
      "execution_count": 99,
      "metadata": {
        "id": "6juppq6kmsta",
        "colab": {
          "base_uri": "https://localhost:8080/"
        },
        "outputId": "9b0abf90-aca6-4640-9748-837f70426d1b"
      },
      "outputs": [
        {
          "output_type": "stream",
          "name": "stdout",
          "text": [
            "Fit a model X_train, and calculate MSE with Y_train: 4098.619051113753\n",
            "Fit a model X_train, and calculate MSE with X_test, Y_test: 4699.804305081397\n"
          ]
        }
      ],
      "source": [
        "print(\"Fit a model X_train, and calculate MSE with Y_train:\", np.mean((Y_train - lm.predict(X_train)) ** 2))\n",
        "print(\"Fit a model X_train, and calculate MSE with X_test, Y_test:\", np.mean((Y_test - lm.predict(X_test)) ** 2))"
      ]
    },
    {
      "cell_type": "markdown",
      "metadata": {
        "id": "GQggePuYmsta"
      },
      "source": [
        "#### Residual plots"
      ]
    },
    {
      "cell_type": "code",
      "execution_count": 100,
      "metadata": {
        "id": "4CHpsKBvmsta",
        "colab": {
          "base_uri": "https://localhost:8080/",
          "height": 326
        },
        "outputId": "97f7b4ef-e608-4ab9-8a78-8b22e785de79"
      },
      "outputs": [
        {
          "output_type": "execute_result",
          "data": {
            "text/plain": [
              "Text(0.5, 0, 'Predicted ranks: $\\\\hat{Y}_i$')"
            ]
          },
          "metadata": {},
          "execution_count": 100
        },
        {
          "output_type": "display_data",
          "data": {
            "text/plain": [
              "<Figure size 432x288 with 1 Axes>"
            ],
            "image/png": "[encoded data removed]"
          },
          "metadata": {}
        }
      ],
      "source": [
        "plt.scatter(lm.predict(X_train), lm.predict(X_train) - Y_train, c='b', s=40, alpha=0.5)\n",
        "plt.scatter(lm.predict(X_test), lm.predict(X_test) - Y_test, c='g', s=40)\n",
        "plt.hlines(y = 0, xmin=-200, xmax = 700, colors = 'r')\n",
        "plt.title('Residual Plot using training (blue) and test (green) data')\n",
        "plt.ylabel('Residuals')\n",
        "plt.xlabel(\"Predicted ranks: $\\hat{Y}_i$\")\n",
        "\n",
        "#plt.savefig('residuals.png')"
      ]
    },
    {
      "cell_type": "markdown",
      "source": [
        "# Logistic Regression Model\n",
        "\n",
        "As we ran into an convergence error when trying to use a logistic regression model, we believe that a logistic regression model would likely not give us better results than the linear regression model."
      ],
      "metadata": {
        "id": "8xp7p-VNfpBY"
      }
    },
    {
      "cell_type": "code",
      "source": [
        "from sklearn.linear_model import LogisticRegression\n",
        "logreg = LogisticRegression()\n",
        "logreg.fit(X, rank)\n",
        "pred_train = logreg.predict(X_train)\n",
        "pred_test = logreg.predict(X_test)"
      ],
      "metadata": {
        "id": "xvExqZCQfsyM"
      },
      "execution_count": 101,
      "outputs": []
    },
    {
      "cell_type": "code",
      "source": [
        "print(\"Fit a model X_train, and calculate MSE with Y_train:\", np.mean((Y_train - logreg.predict(X_train)) ** 2))\n",
        "print(\"Fit a model X_train, and calculate MSE with X_test, Y_test:\", np.mean((Y_test - logreg.predict(X_test)) ** 2))"
      ],
      "metadata": {
        "id": "JHDzNqy3fyH7",
        "colab": {
          "base_uri": "https://localhost:8080/"
        },
        "outputId": "8b4bbe77-fddc-4d30-b55d-b7de18478789"
      },
      "execution_count": 102,
      "outputs": [
        {
          "output_type": "stream",
          "name": "stdout",
          "text": [
            "Fit a model X_train, and calculate MSE with Y_train: 11891.564459930314\n",
            "Fit a model X_train, and calculate MSE with X_test, Y_test: 12426.521126760563\n"
          ]
        }
      ]
    },
    {
      "cell_type": "code",
      "source": [
        "plt.scatter(logreg.predict(X_train), logreg.predict(X_train) - Y_train, c='b', s=40, alpha=0.5)\n",
        "plt.scatter(logreg.predict(X_test), logreg.predict(X_test) - Y_test, c='g', s=40)\n",
        "plt.hlines(y = 0, xmin=-200, xmax = 700, colors='r')\n",
        "plt.title('Residual Plot using training (blue) and test (green) data')\n",
        "plt.ylabel('Residuals')"
      ],
      "metadata": {
        "id": "SLv4FbYaf1iq",
        "colab": {
          "base_uri": "https://localhost:8080/",
          "height": 302
        },
        "outputId": "3c4f1916-b7d2-4238-9674-aec23d05f731"
      },
      "execution_count": 103,
      "outputs": [
        {
          "output_type": "execute_result",
          "data": {
            "text/plain": [
              "Text(0, 0.5, 'Residuals')"
            ]
          },
          "metadata": {},
          "execution_count": 103
        },
        {
          "output_type": "display_data",
          "data": {
            "text/plain": [
              "<Figure size 432x288 with 1 Axes>"
            ],
            "image/png": "[encoded data removed]"
          },
          "metadata": {}
        }
      ]
    }
  ],
  "metadata": {
    "kernelspec": {
      "display_name": "Python 3",
      "name": "python3"
    },
    "language_info": {
      "name": "python"
    },
    "colab": {
      "name": "CaseStudy1.ipynb",
      "provenance": [],
      "collapsed_sections": [
        "gv7-R8NpmstV",
        "T8UVyCwmmsta",
        "LjCGfxwemstb"
      ],
      "include_colab_link": true
    }
  },
  "nbformat": 4,
  "nbformat_minor": 0
}